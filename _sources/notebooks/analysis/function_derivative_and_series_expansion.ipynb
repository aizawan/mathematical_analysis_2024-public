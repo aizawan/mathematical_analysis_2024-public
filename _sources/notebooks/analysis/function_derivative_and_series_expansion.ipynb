{
 "cells": [
  {
   "attachments": {},
   "cell_type": "markdown",
   "id": "be0f83d0",
   "metadata": {},
   "source": [
    "# 関数，微積分，級数展開"
   ]
  },
  {
   "attachments": {},
   "cell_type": "markdown",
   "id": "b53fbe93",
   "metadata": {},
   "source": [
    "## 関数\n",
    "**関数（function）** とは，ある変数 $x$ について，一つの変数 $y$ に対応させるものである．\n",
    "\n",
    "$$\n",
    "y = f(x)\n",
    "$$\n",
    "\n",
    "ここで $f(\\cdot)$ を関数と呼び，変数 $x$ が取りうる範囲を **定義域（domain）** ，変数 $y$ が取りうる値を **値域（range）** と言う．\n",
    "\n",
    "具体的には以下のようなものを関数と呼ぶ．\n",
    "\n",
    "$$\n",
    "\\begin{align}\n",
    "&y = 2x + 1, \\\\\n",
    "&y = x^2 - 1, \\\\\n",
    "&x^2 + y^2 = 1\n",
    "\\end{align}\n",
    "$$\n",
    "\n",
    "他にもこれまで様々な関数と出会ってきたはずである．また前述したような関数は変数を一つだけ取りうるため一変数関数と呼ばれ，多変数を受け取る多変数関数も考えることができる（後述）．\n",
    "\n",
    "以降で，Sympyを使って変数を定義して，関数を定義することを試みる．"
   ]
  },
  {
   "attachments": {},
   "cell_type": "markdown",
   "id": "11851c6f",
   "metadata": {},
   "source": [
    "### 変数\n",
    "**変数（variable）** とは，任意の範囲で任意の値を取ることができる文字である．具体的には，$y=2x+1$という一次関数があったとき，変数は $x$ と $y$ である．"
   ]
  },
  {
   "attachments": {},
   "cell_type": "markdown",
   "id": "76b9e287",
   "metadata": {},
   "source": [
    "```{caution}\n",
    "プログラミングにおける変数と数式の変数は意味が異なる点に注意されたい．以下のようにプログラミングでは，変数に値を代入し，値をメモリ上に確保している．データの型に応じて任意の値を代入可能であるが，$y=2x+1$という数式に現れる変数とは違い，すでに値を代入して式として扱っている点が異なる．\n",
    "```"
   ]
  },
  {
   "cell_type": "code",
   "execution_count": null,
   "id": "65c74f08",
   "metadata": {},
   "outputs": [],
   "source": [
    "x = 1\n",
    "y = 2 * x + 1\n",
    "\n",
    "print(f'x={x}, y={y}')"
   ]
  },
  {
   "attachments": {},
   "cell_type": "markdown",
   "id": "aa7957be",
   "metadata": {},
   "source": [
    "本講義で扱うSympyでは，代入をすることなく，文字として変数を扱ったプログラミングが可能である．つまり，これまでの数学の授業で扱ってきたように数式と変数を定義できる．まずはSympyから変数を扱うための`symbols`を`import`する．"
   ]
  },
  {
   "cell_type": "code",
   "execution_count": null,
   "id": "45edd8a6",
   "metadata": {},
   "outputs": [],
   "source": [
    "from sympy import symbols"
   ]
  },
  {
   "attachments": {},
   "cell_type": "markdown",
   "id": "29624617",
   "metadata": {},
   "source": [
    "Sympyでは以下のように変数を定義する．`print`すると文字式の変数として $x$ が定義されていることがわかる．変数 $x$ には上記の$x=1$のような具体的な値が代入されていないことを確認されたい．"
   ]
  },
  {
   "cell_type": "code",
   "execution_count": null,
   "id": "41daa508",
   "metadata": {},
   "outputs": [],
   "source": [
    "x = symbols('x')"
   ]
  },
  {
   "cell_type": "code",
   "execution_count": null,
   "id": "65737d85",
   "metadata": {},
   "outputs": [],
   "source": [
    "x"
   ]
  },
  {
   "attachments": {},
   "cell_type": "markdown",
   "id": "3e538e66",
   "metadata": {},
   "source": [
    "プログラミングのように変数 $x$ に代入したい場合は，メソッド `式.subs(変数, 代入したい値)`を利用する．"
   ]
  },
  {
   "cell_type": "code",
   "execution_count": null,
   "id": "7cb9a3f4",
   "metadata": {},
   "outputs": [],
   "source": [
    "x.subs(x, 1)"
   ]
  },
  {
   "attachments": {},
   "cell_type": "markdown",
   "id": "1594f573",
   "metadata": {},
   "source": [
    "### 一変数関数\n",
    "では，定義した$x$ を使って一変数関数を定義する．一変数関数とは，関数 $f(\\cdot)$ において取りうる変数の数が一つだけの関数を示す．\n",
    "\n",
    "$$\n",
    "y = f(x)\n",
    "$$\n",
    "\n",
    "では，数式 $y=2x+1$ を実装する．以下のように書ける．"
   ]
  },
  {
   "cell_type": "code",
   "execution_count": null,
   "id": "618a43a6",
   "metadata": {},
   "outputs": [],
   "source": [
    "y = 2 * x + 1"
   ]
  },
  {
   "cell_type": "code",
   "execution_count": null,
   "id": "a29420bb",
   "metadata": {},
   "outputs": [],
   "source": [
    "y"
   ]
  },
  {
   "attachments": {},
   "cell_type": "markdown",
   "id": "63b24b04",
   "metadata": {},
   "source": [
    "数式として扱われていることがわかるだろう．では，変数 $x$ に $1$ を代入してみる．"
   ]
  },
  {
   "cell_type": "code",
   "execution_count": null,
   "id": "fcafc7ff",
   "metadata": {},
   "outputs": [],
   "source": [
    "y.subs(x, 1)"
   ]
  },
  {
   "attachments": {},
   "cell_type": "markdown",
   "id": "eefc6a98",
   "metadata": {},
   "source": [
    "$2 \\times 1 + 1 = 3$ と正しく計算されていることがわかる．"
   ]
  },
  {
   "attachments": {},
   "cell_type": "markdown",
   "id": "54c2f848",
   "metadata": {},
   "source": [
    "### 多変数関数\n",
    "2以上の正の実数 $n$ に対して，$n$ 個の変数 $x_1, ..., x_n$ を持つ関数　$f(x_1, x_2, ..., x_n)$ を**多変数関数**と呼ぶ．\n",
    "\n",
    "$$\n",
    "y = f(x_1, x_2, ..., x_n)\n",
    "$$\n",
    "\n",
    "例えば，以下のような2変数 $x, y$ を持つ多変数関数 $f(x, y)$ を考えることができる．\n",
    "1. $ f(x_1, x_2) = x_{1}^2 + x_{2}^2 $\n",
    "2. $ f(x_1, x_2) = \\cos(x_1) + \\sin(x_2) $\n",
    "3. $ f(x_1, x_2, x_3) = x_{1}^3 + x_{2}^2 + x_{3} + 1 $\n",
    "\n",
    "では，数式 $y=x_{1}^2 + x_{2}^2$ を実装する．まずは変数 $x_1, x_2$ を定義する．"
   ]
  },
  {
   "cell_type": "code",
   "execution_count": null,
   "id": "6a506ec2",
   "metadata": {},
   "outputs": [],
   "source": [
    "x_1 = symbols('x_1')\n",
    "x_2 = symbols('x_2')"
   ]
  },
  {
   "attachments": {},
   "cell_type": "markdown",
   "id": "082c9804",
   "metadata": {},
   "source": [
    "続いて，二変数の入力を持つ多変数関数 $f(x_1, x_2)$ を定義する．"
   ]
  },
  {
   "cell_type": "code",
   "execution_count": null,
   "id": "1ee65f20",
   "metadata": {},
   "outputs": [],
   "source": [
    "y = x_1**2 + x_2**2"
   ]
  },
  {
   "cell_type": "code",
   "execution_count": null,
   "id": "4ab51865",
   "metadata": {},
   "outputs": [],
   "source": [
    "y"
   ]
  },
  {
   "attachments": {},
   "cell_type": "markdown",
   "id": "4d815626",
   "metadata": {},
   "source": [
    "定義することができた．一変数関数と同様に代入を行うが，多変数なので`subs`メソッドには辞書形式の引数として与える必要がある．"
   ]
  },
  {
   "cell_type": "code",
   "execution_count": null,
   "id": "437d4b43",
   "metadata": {},
   "outputs": [],
   "source": [
    "y.subs({x_1: 1, x_2: 2})"
   ]
  },
  {
   "attachments": {},
   "cell_type": "markdown",
   "id": "34c63017",
   "metadata": {},
   "source": [
    "次のようにも代入できるが，可読性の面から上記の代入方法を推奨する．"
   ]
  },
  {
   "cell_type": "code",
   "execution_count": null,
   "id": "dae17e0b",
   "metadata": {},
   "outputs": [],
   "source": [
    "y.subs(x_1, 1).subs(x_2, 2)"
   ]
  },
  {
   "attachments": {},
   "cell_type": "markdown",
   "id": "b1558bce",
   "metadata": {},
   "source": [
    "### 関数のプロット\n",
    "関数を扱う際，関数がどのような形を持つかを可視化することは理解の助けとなる．sympyでは便利な`plot`関数が用意されており，定義した関数を容易にプロットすることができる．詳細はsympyの`plotting`モジュールを参考にされたい"
   ]
  },
  {
   "attachments": {},
   "cell_type": "markdown",
   "id": "463bd440",
   "metadata": {},
   "source": [
    "#### 一変数関数のプロット\n",
    "関数 $y=x^2+2x+1$ を定義して，定義域を $[-3, 3]$ でプロットする．"
   ]
  },
  {
   "cell_type": "code",
   "execution_count": null,
   "id": "adb2a73f",
   "metadata": {},
   "outputs": [],
   "source": [
    "from sympy.plotting import plot\n",
    "x = symbols('x')\n",
    "y = x**2 + 2*x + 1\n",
    "plot(y, (x, -3, 3))"
   ]
  },
  {
   "attachments": {},
   "cell_type": "markdown",
   "id": "791c8956",
   "metadata": {},
   "source": [
    "#### 二変数関数のプロット\n",
    "関数 $y=x_1^2+x_2^2+1$ を定義して，$x_1$ と $x_2$ のそれぞれの定義域を $[-3, 3]$ でプロットする．"
   ]
  },
  {
   "cell_type": "code",
   "execution_count": null,
   "id": "51ae4fab",
   "metadata": {},
   "outputs": [],
   "source": [
    "from sympy.plotting import plot3d\n",
    "x_1 = symbols('x_1')\n",
    "x_2 = symbols('x_2')\n",
    "y = x_1**2 + x_2**2 + 1\n",
    "plot3d(y, (x_1, -3, 3), (x_2, -3, 3))"
   ]
  },
  {
   "attachments": {},
   "cell_type": "markdown",
   "id": "ec2ed0db",
   "metadata": {},
   "source": [
    "## 微積分\n",
    "本講義で扱う微分方程式に **微分** という言葉が含まれていることからもわかるように，微分は関数の性質を知る上で非常に重要な役割を持つ．まずは一変数関数から微分の意味を復習する．"
   ]
  },
  {
   "attachments": {},
   "cell_type": "markdown",
   "id": "1beffeb0",
   "metadata": {},
   "source": [
    "### 微分\n",
    "これまでの中学〜大学の講義で微分とは関数の傾き・変化量であると習ったはずである．この関数の傾きを知るために，点 $x_1$ で関数 $f$ に接する直線 $g$ を考える．この直線 $g$ は**接線**であった．接線の傾きを知るために，ある二点 $x_1,x_2$を通る直線の傾きを考える．この傾き $a$ は以下の式に示すように増加量で計算することができる．\n",
    "\n",
    "$$\n",
    "a=\\frac{f\\left(x_{2}\\right)-f\\left(x_{1}\\right)}{x_{2}-x_{1}}\n",
    "$$\n",
    "\n",
    "$x_1$での傾きを知るために，$x_2$を$x_1$に限りなく近づける．$x_1$を$x$，$x_2-x_1$を$h$として極限を使って表すと，\n",
    "\n",
    "$$\n",
    "\\lim _{h \\rightarrow 0} \\frac{f(x+h)-f(x)}{h}\n",
    "$$\n",
    "\n",
    "となる．この極限の値は，$f$の **導関数（derivative）** と呼び，$f'(x)$ または $\\frac{df}{dx}$と書く．この導関数を求めることを **微分** するという．\n",
    "\n",
    "また$f^{(n)}$は$n$階の導関数であり，微分方程式に含まれる導関数の最大の次数 $n$ を微分方程式の階数と呼ぶ．"
   ]
  },
  {
   "attachments": {},
   "cell_type": "markdown",
   "id": "1f7d16ac",
   "metadata": {},
   "source": [
    "sympyでは`diff`メソッドを利用すると容易に微分が計算できる．関数 $y=x^2+2x+1$ の一次微分 $f'(x)$ を計算する．"
   ]
  },
  {
   "cell_type": "code",
   "execution_count": null,
   "id": "9857438a",
   "metadata": {},
   "outputs": [],
   "source": [
    "from sympy import diff\n",
    "x = symbols('x')\n",
    "f = x**2 + 2*x + 1\n",
    "f_x = diff(f, x)"
   ]
  },
  {
   "cell_type": "code",
   "execution_count": null,
   "id": "7df17203",
   "metadata": {},
   "outputs": [],
   "source": [
    "f_x"
   ]
  },
  {
   "attachments": {},
   "cell_type": "markdown",
   "id": "546800fb",
   "metadata": {},
   "source": [
    "微分した結果が正しく計算されたことを手計算と併せて確認されたい．"
   ]
  },
  {
   "attachments": {},
   "cell_type": "markdown",
   "id": "f87ebab1",
   "metadata": {},
   "source": [
    "点 $x'$ で関数 $f$ に接する直線（接線） $g$ を求める．微分して接線の傾きが$a$のとき，$g$は以下の式で計算できることを思い出して欲しい．\n",
    "\n",
    "$$\n",
    "g = f(x') +  a (x - x')\n",
    "$$"
   ]
  },
  {
   "cell_type": "code",
   "execution_count": null,
   "id": "cfeef436",
   "metadata": {},
   "outputs": [],
   "source": [
    "x_ = 1\n",
    "g = f.subs({x:x_}) + f_x.subs({x:x_}) * (x - x_)"
   ]
  },
  {
   "cell_type": "code",
   "execution_count": null,
   "id": "b6b00a91",
   "metadata": {},
   "outputs": [],
   "source": [
    "g"
   ]
  },
  {
   "attachments": {},
   "cell_type": "markdown",
   "id": "31350853",
   "metadata": {},
   "source": [
    "計算された接線を可視化してみる．"
   ]
  },
  {
   "cell_type": "code",
   "execution_count": null,
   "id": "e19d46f9",
   "metadata": {},
   "outputs": [],
   "source": [
    "fig = plot(f, g, (x, -10, 10), xlim=(-5, 5), ylim=(-1, 10), show=False)\n",
    "fig[0].line_color = 'b'\n",
    "fig[1].line_color = 'r'\n",
    "fig.show()"
   ]
  },
  {
   "attachments": {},
   "cell_type": "markdown",
   "id": "9c30177a",
   "metadata": {},
   "source": [
    "### 偏微分\n",
    "多変数関数において，ある入力 $x_i$ で微分することを **偏微分 (partial differentiation)** と呼ぶ．変数 $x,y$ を入力として受け取る多変数関数 $f(x,y)$ の偏微分は以下の式で与えられ，偏微分して得られる関数を **偏導関数 (partial derivative)** と呼ぶ．\n",
    "\n",
    "$$\n",
    "\\begin{align}\n",
    "\\frac{\\partial f}{\\partial x}(x, y)&=\\lim_{h \\rightarrow 0} \\frac{f(x+h, y)-f(x, y)}{h} \\\\\n",
    "\\frac{\\partial f}{\\partial y}(x, y)&=\\lim_{h \\rightarrow 0} \\frac{f(x, y+h)-f(x, y)}{h}\n",
    "\\end{align}\n",
    "$$\n",
    "\n",
    "偏微分を使うと，ある点で局面に接する平面，**接平面(tangent plane)** を書くことができる．そのために，**勾配 (gradient)** $\\nabla_f$ を定義する．\n",
    "\n",
    "$$\n",
    "\\nabla_f = (\\frac{\\partial f}{\\partial x}, \\frac{\\partial f}{\\partial y})\n",
    "$$"
   ]
  },
  {
   "attachments": {},
   "cell_type": "markdown",
   "id": "d7d10813",
   "metadata": {},
   "source": [
    "偏微分も同様に`diff`メソッドで第二引数に微分対象の変数を指定すれば実行できる．"
   ]
  },
  {
   "cell_type": "code",
   "execution_count": null,
   "id": "439cb781",
   "metadata": {},
   "outputs": [],
   "source": [
    "x = symbols('x')\n",
    "y = symbols('y')\n",
    "f = x**2 + y**2 + 1\n",
    "\n",
    "f_x = diff(f, x)\n",
    "f_y = diff(f, y)"
   ]
  },
  {
   "cell_type": "code",
   "execution_count": null,
   "id": "cc745e85",
   "metadata": {},
   "outputs": [],
   "source": [
    "f_x"
   ]
  },
  {
   "cell_type": "code",
   "execution_count": null,
   "id": "eb8e9af4",
   "metadata": {},
   "outputs": [],
   "source": [
    "f_y"
   ]
  },
  {
   "attachments": {},
   "cell_type": "markdown",
   "id": "174d1a35",
   "metadata": {},
   "source": [
    "微分した結果が正しく計算されたことを手計算と併せて確認されたい．"
   ]
  },
  {
   "attachments": {},
   "cell_type": "markdown",
   "id": "a3c5eff3",
   "metadata": {},
   "source": [
    "接平面を求める．関数 $f$ の点(a, b)における接平面の方程式は以下で与えられる．\n",
    "\n",
    "$$\n",
    "g(x, y) = f_x(a, b) (x - a) + f_y(a, b) (y - b) + f(a, b)\n",
    "$$"
   ]
  },
  {
   "cell_type": "code",
   "execution_count": null,
   "id": "cf0456ca",
   "metadata": {},
   "outputs": [],
   "source": [
    "p = (1, 1)\n",
    "a, b = p\n",
    "g = f_x.subs({x:a, y:b}) * (x - a) + f_y.subs({x:a, y:b}) * (y - b) +  f.subs({x:a, y:b})\n",
    "g"
   ]
  },
  {
   "cell_type": "code",
   "execution_count": null,
   "id": "f398dfd3",
   "metadata": {},
   "outputs": [],
   "source": [
    "plot3d(f, g, (x, -5, 5), (y, -5, 5))"
   ]
  },
  {
   "attachments": {},
   "cell_type": "markdown",
   "id": "9afa4947",
   "metadata": {},
   "source": [
    "### 積分\n",
    "積分を利用することで関数の面積や曲線の長さを計算することができた．積分には積分範囲や被積分関数\n",
    "に応じていくつかの種類があるが，ここでは数理解析の講義で必要となる不定積分，定積分，広義積分を復習し，実装する．"
   ]
  },
  {
   "attachments": {},
   "cell_type": "markdown",
   "id": "002da13a",
   "metadata": {},
   "source": [
    "以下の一変数の二次関数を扱う．関数の定義と変数 $x$ に関する微分を実行する"
   ]
  },
  {
   "cell_type": "code",
   "execution_count": null,
   "id": "46626dc4",
   "metadata": {},
   "outputs": [],
   "source": [
    "x = symbols('x')\n",
    "f = x**2 + 2*x + 1\n",
    "f"
   ]
  },
  {
   "cell_type": "code",
   "execution_count": null,
   "id": "1ef3fb8d",
   "metadata": {},
   "outputs": [],
   "source": [
    "d_x = diff(f, x)\n",
    "d_x"
   ]
  },
  {
   "attachments": {},
   "cell_type": "markdown",
   "id": "201dc193",
   "metadata": {},
   "source": [
    "#### 定積分\n",
    "定積分は与えられた被積分関数 $f(x)$ について，積分区間 $[a,b]$ でその関数の面積を求める方法であった．以下のように，積分変数 $dx$ と積分 $\\int$ を使って定積分を書くことができる．\n",
    "\n",
    "$$\n",
    "F(x) = \\int_{a}^{b} f(x) dx\n",
    "$$\n",
    "\n",
    "sympyでは`integrate`関数を使うことで計算できる．被積分関数として微分された式を第一引数に，積分変数と範囲を第二引数として与える．"
   ]
  },
  {
   "cell_type": "code",
   "execution_count": null,
   "id": "3ce68257",
   "metadata": {},
   "outputs": [],
   "source": [
    "from sympy import integrate\n",
    "f_ = integrate(d_x, (x, 0, 5))\n",
    "f_"
   ]
  },
  {
   "attachments": {},
   "cell_type": "markdown",
   "id": "e0db52bc",
   "metadata": {},
   "source": [
    "#### 不定積分\n",
    "不定積分とは微分すると消える定数 $C$ を積分定数として，元の被積分関数のすべての原始関数を計算する積分である．そのため，複数の解を持つので注意されたい．\n",
    "\n",
    "$$\n",
    "F(x) = \\int f(x) dx + C\n",
    "$$\n",
    "\n",
    "また不定積分は本講義で扱う微分方程式の解を求める際にも必要となるため復習されたい．sympyでは同様に`integrate`関数を使って計算できる．"
   ]
  },
  {
   "cell_type": "code",
   "execution_count": null,
   "id": "55e919d1",
   "metadata": {},
   "outputs": [],
   "source": [
    "f_ = integrate(d_x, x)\n",
    "f_"
   ]
  },
  {
   "attachments": {},
   "cell_type": "markdown",
   "id": "b891c40a",
   "metadata": {},
   "source": [
    "#### 広義積分\n",
    "重要な積分として，広義積分がある．広義積分は積分区間が無限大や発散する点を含む場合に用いられる積分であり，フーリエ変換の導出の際に登場する以下のような積分である．\n",
    "\n",
    "$$\n",
    "\\begin{align}\n",
    "F(x) &= \\int_{-\\infty}^{\\infty} f(x) dx, \\\\\n",
    "F(x) &= \\int_{a}^{\\infty} f(x) dx, \\\\\n",
    "F(x) &= \\int_{-\\infty}^{b} f(x) dx\n",
    "\\end{align}\n",
    "$$"
   ]
  },
  {
   "attachments": {},
   "cell_type": "markdown",
   "id": "01e8a4a1",
   "metadata": {},
   "source": [
    "`oo`は無限大を表す．"
   ]
  },
  {
   "cell_type": "code",
   "execution_count": null,
   "id": "f2adea70",
   "metadata": {},
   "outputs": [],
   "source": [
    "from sympy import oo\n",
    "f_ = integrate(d_x, (x, 0, oo))\n",
    "f_"
   ]
  },
  {
   "cell_type": "code",
   "execution_count": null,
   "id": "f8e8a3f4",
   "metadata": {},
   "outputs": [],
   "source": [
    "from sympy import exp\n",
    "f_ = integrate(exp(-x), (x, 0, oo))\n",
    "f_"
   ]
  },
  {
   "attachments": {},
   "cell_type": "markdown",
   "id": "c5fed649",
   "metadata": {},
   "source": [
    "```{admonition} 未評価の式の実装\n",
    "sympyで導関数 $dy/dx$ を定義したいときは `diff` の代わりに `Derivative`クラスを利用すると良い．次回の微分方程式で登場するが，第一引数に式，第二引数に微分する変数を与えることで実装できる．また積分に関しても `integrate` の代わりに `Integral`クラスを利用できる．これらのクラスで定義した式を評価するときは `doit()`メソッドを呼びだす．使い方は[Sympyのチュートリアル](https://docs.sympy.org/latest/tutorials/intro-tutorial/calculus.html)が詳しい．\n",
    "```"
   ]
  },
  {
   "attachments": {},
   "cell_type": "markdown",
   "id": "53563d55",
   "metadata": {},
   "source": [
    "### 補足：関数の連続性\n",
    "関数が連続であるとは，極限 $\\lim_{x \\rightarrow a} f(x)$ が　$f(a)$ に一致すること，つまり，\n",
    "\n",
    "$$\n",
    "\\lim _{x \\rightarrow a} f(x) = f(a)\n",
    "$$\n",
    "\n",
    "が成立するときに，関数 $f(x)$ は点　$a$ で連続であると言う．"
   ]
  },
  {
   "attachments": {},
   "cell_type": "markdown",
   "id": "82dfad38",
   "metadata": {},
   "source": [
    "$a$ を1に近づけたとき，$\\lim_{x \\rightarrow a} f(x) = f(a)$ が成立するか検証する"
   ]
  },
  {
   "cell_type": "code",
   "execution_count": null,
   "id": "7eb4a302",
   "metadata": {},
   "outputs": [],
   "source": [
    "from sympy import limit\n",
    "x = symbols('x')\n",
    "f = x**2\n",
    "\n",
    "a = 1.\n",
    "g = limit(f, x, a)\n",
    "g"
   ]
  },
  {
   "cell_type": "code",
   "execution_count": null,
   "id": "ae2d6b4a",
   "metadata": {},
   "outputs": [],
   "source": [
    "f.subs({x: a})"
   ]
  },
  {
   "attachments": {},
   "cell_type": "markdown",
   "id": "0831d230",
   "metadata": {},
   "source": [
    "## 級数展開\n",
    "級数展開はある関数 $f$ を関数の組み合わせで近似する手法である．本講義ではフーリエ解析の基礎として三角関数によるフーリエ級数展開を紹介する．その理解のために，関数を無限級数で近似するテイラー展開について復習する．"
   ]
  },
  {
   "attachments": {},
   "cell_type": "markdown",
   "id": "95eaf3ce",
   "metadata": {},
   "source": [
    "### テイラー展開\n",
    "テイラー展開は，関数を無限級数で近似する手法であり以下のように関数 $f(x)$ をある点 $a$ 周りで近似する．ただし，関数が無限回微分可能である必要性がある．\n",
    "\n",
    "$$\n",
    "f(x) = f(a) + f'(a)(x-a) + \\frac{f''(a)(x-a)^2}{2!} + \\frac{f'''(a)(x-a)^3}{3!} + \\cdots\n",
    "$$\n",
    "\n",
    "ここで，$f'$，$f''$，$f'''$などはそれぞれ関数$f$の1次，2次，3次の導関数を表す．"
   ]
  },
  {
   "attachments": {},
   "cell_type": "markdown",
   "id": "e44b3f22",
   "metadata": {},
   "source": [
    "テイラー展開はsympyで`series`関数として実装されており，第一引数には関数を，第二引数に変数を，第三引数にどの点の周りで近似するかを，第四引数に展開の項数を与える．以下は$f(x) = \\sin(x)$のテイラー展開の実装である（今回は $x=0$ 周りでの展開なので正確にはマクローリン展開である）．"
   ]
  },
  {
   "cell_type": "code",
   "execution_count": null,
   "id": "66ef34e6",
   "metadata": {},
   "outputs": [],
   "source": [
    "from sympy import sin, series\n",
    "x = symbols('x')\n",
    "f = sin(x)\n",
    "f_taylor = series(f, x, 0, 7)"
   ]
  },
  {
   "cell_type": "code",
   "execution_count": null,
   "id": "8288ec39",
   "metadata": {},
   "outputs": [],
   "source": [
    "f_taylor"
   ]
  },
  {
   "attachments": {},
   "cell_type": "markdown",
   "id": "81995eab",
   "metadata": {},
   "source": [
    "ここで登場する `removeO()` はグラフプロットのために余剰項を削除するメソッドである．"
   ]
  },
  {
   "cell_type": "code",
   "execution_count": null,
   "id": "c9e0c536",
   "metadata": {},
   "outputs": [],
   "source": [
    "plot(f, f_taylor.removeO(), (x, -3, 3))"
   ]
  }
 ],
 "metadata": {
  "kernelspec": {
   "display_name": "ml",
   "language": "python",
   "name": "python3"
  },
  "language_info": {
   "codemirror_mode": {
    "name": "ipython",
    "version": 3
   },
   "file_extension": ".py",
   "mimetype": "text/x-python",
   "name": "python",
   "nbconvert_exporter": "python",
   "pygments_lexer": "ipython3",
   "version": "3.9.13"
  },
  "vscode": {
   "interpreter": {
    "hash": "c558876ffd71b3528bcdaaa45c5eeebe18905a0bd68c09a6b765c00e31df719e"
   }
  }
 },
 "nbformat": 4,
 "nbformat_minor": 5
}
