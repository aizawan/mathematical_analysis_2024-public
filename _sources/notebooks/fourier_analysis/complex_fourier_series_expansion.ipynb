{
 "cells": [
  {
   "cell_type": "markdown",
   "id": "c635e33e",
   "metadata": {},
   "source": [
    "# 複素フーリエ級数展開\n",
    "フーリエ級数展開は，区間 $-T/2 \\leq t \\leq T/2$ 上の関数 $f(t)$ を基本周波数 $\\omega_0$ の整数倍の周波数の正弦波の重ね合わせで表現することであった．そして，そのときのフーリエ級数とフーリエ係数は以下であった．\n",
    "\n",
    "$$\n",
    "\\begin{align}\n",
    "f(t) &\\approx \\frac{a_{0}}{2} + \\sum_{k=1}^{\\infty} (a_k \\cos k \\omega_0 t + b_k \\sin k \\omega_0 t), \\quad -\\frac{T}{2} \\leq t \\leq \\frac{T}{2}\n",
    "\\end{align}\n",
    "$$\n",
    "\n",
    "$$\n",
    "a_k = \\frac{2}{T} \\int_{-T/2}^{T/2} f(t) \\cos k \\omega_0 t dt, \\quad b_k = \\frac{2}{T} \\int_{-T/2}^{T/2} f(t) \\sin k \\omega_0 t dt\n",
    "$$\n",
    "\n",
    "ここでは，上記のフーリエ級数と係数を以下の三角関数の指数関数表記で書き換えることを試みる．\n",
    "\n",
    "$$\n",
    "\\begin{align}\n",
    "\\cos \\theta = \\frac{e^{i\\theta}+e^{-i\\theta}}{2}, \\quad \\sin \\theta = \\frac{e^{i\\theta}-e^{-i\\theta}}{2i}\n",
    "\\end{align}\n",
    "$$\n",
    "\n",
    "ここで $i$ は虚数単位である．上記の$\\sin$関数と$\\cos$関数の指数関数表記は **オイラーの公式** から導出でき，これらを用いて書き換えるとフーリエ級数は以下となる．\n",
    "\n",
    "$$\n",
    "\\begin{align}\n",
    "f(t) = \\sum_{k=-\\infty}^{\\infty} C_k e^{ik \\omega_0 t}\n",
    "\\end{align}\n",
    "$$\n",
    "\n",
    "$$\n",
    "C_k = \\frac{1}{T}\\int^{T/2}_{-T/2} f\\left ( t \\right ) e^{-ik\\omega_0 t} dt\n",
    "$$\n",
    "\n",
    "ここで第一式を **複素フーリエ級数** といい，第二式を **複素フーリエ係数** という．この複素フーリエ級数と係数の導出を行う．"
   ]
  },
  {
   "cell_type": "markdown",
   "id": "fb73fca5",
   "metadata": {},
   "source": [
    "## 複素数\n",
    "虚数と複素数について簡単に復習する．**虚数** $i$ は二乗すると $-1$ となる数であり，以下で定義されていた．\n",
    "\n",
    "$$\n",
    "i^2 = -1\n",
    "$$\n",
    "\n",
    "複素数は二つの実数 $a,b$ と虚数 $i$ を用いて $a+bi$ の形で表される数であった．このとき，$b=0$ ならば $a+bi$ は実数であり，$b \\neq 0$ ならば$b=0$ ならば $a+bi$ は虚数であった．\n",
    "\n",
    "そして，複素数も実数と同様に等価や四則演算について考えることができた．二つの複素数 $a+bi$ と $c+di$ が **等しい** とは，$a=c, b=d$ ならばこれらの複素数が等しいという．複素数の四則演算については以下のようになっている．\n",
    "\n",
    "- 加法\n",
    "\n",
    "    $$\n",
    "    \\left ( a + bi \\right ) + \\left ( c + di \\right ) =   \\left ( a + c \\right ) + \\left ( b + d \\right )i\n",
    "    $$\n",
    "\n",
    "- 減法\n",
    "\n",
    "    $$\n",
    "    \\left ( a + bi \\right ) - \\left ( c + di \\right ) =   \\left ( a - c \\right ) + \\left ( b - d \\right )i\n",
    "    $$\n",
    "\n",
    "- 乗法\n",
    "\n",
    "    $$\n",
    "    \\left ( a + bi \\right ) \\left ( c + di \\right ) =   \\left ( ac - bd \\right ) + \\left ( ad + bc \\right )i\n",
    "    $$\n",
    "\n",
    "- 除法\n",
    "\n",
    "    $$\n",
    "    \\frac{a+bi}{c+di} = \\frac{ac+bd}{c^2+d^2}+\\frac{bc-ad}{c^2+d^2}i\n",
    "    $$"
   ]
  },
  {
   "cell_type": "markdown",
   "id": "5463a99f",
   "metadata": {},
   "source": [
    "### 共役な複素数\n",
    "**共役な複素数** とは虚部の符号を反転した複素数である．複素数 $\\alpha=a+bi$ の共役な複素数 $\\bar{\\alpha}$ は以下である．\n",
    "\n",
    "$$\n",
    "\\bar{\\alpha} = a-bi\n",
    "$$\n",
    "\n",
    "そして，共役な複素数は以下のような性質を持っている．\n",
    "\n",
    "- 和に関する性質\n",
    "\n",
    "    $$\n",
    "    \\alpha + \\bar{\\alpha} = 2a\n",
    "    $$\n",
    "\n",
    "- 積に関する性質\n",
    "\n",
    "    $$\n",
    "    \\alpha \\bar{\\alpha} = a^2+b^2\n",
    "    $$\n",
    "\n",
    "- 共役な複素数の計算\n",
    "\n",
    "    $$\n",
    "    \\overline{\\alpha \\pm \\beta} = \\overline{\\alpha} \\pm  \\overline{\\beta}\n",
    "    $$\n",
    "\n",
    "    $$\n",
    "    \\overline{\\alpha\\beta} = \\overline{\\alpha}\\overline{\\beta}\n",
    "    $$\n",
    "\n",
    "    $$\n",
    "    \\overline{\\left(\\frac{\\alpha}{\\beta}\\right )} = \\frac{\\overline{\\alpha}}{\\overline{\\beta}}\n",
    "    $$"
   ]
  },
  {
   "cell_type": "markdown",
   "id": "86df770d",
   "metadata": {},
   "source": [
    "### 複素平面\n",
    "実数の場合と同様に複素数 $\\alpha=a+bi$ について実数 $a$ に関する **実軸** と虚数 $b$ に関する **虚軸** を用いて座標平面上の点 $(a,b)$ に関する平面を描くことができる．これを **複素平面** という．\n",
    "\n",
    "このとき，原点から点 $(a,b)$ までの距離として，複素数 $\\alpha=a+bi$ に対して $\\sqrt{a^2+b^2}$ を $\\alpha$ の絶対値 $|\\alpha|$ で定義する．\n",
    "\n",
    "$$\n",
    "|\\alpha| = |a+bi| = \\sqrt{a^2+b^2}\n",
    "$$"
   ]
  },
  {
   "cell_type": "code",
   "execution_count": null,
   "id": "c81cf841",
   "metadata": {},
   "outputs": [],
   "source": [
    "import numpy as np\n",
    "import matplotlib.pyplot as plt\n",
    "fig, ax = plt.subplots(figsize=(5,5))\n",
    "\n",
    "px, py = 1, 1\n",
    "pad = 0.05\n",
    "\n",
    "ax.plot([-0.5,2],[0,0], color=\"k\", linewidth=1)\n",
    "ax.plot([0,0],[-0.5,2], color=\"k\", linewidth=1)\n",
    "ax.plot([0,px],[0,py], color=\"k\", linewidth=1)\n",
    "ax.plot([0,px],[0,py], color=\"k\", linewidth=1)\n",
    "ax.plot([px,px],[0,py], color=\"k\", linewidth=1, linestyle=\"--\")\n",
    "ax.plot([0,px],[py,py], color=\"k\", linewidth=1, linestyle=\"--\")\n",
    "\n",
    "ax.text(pad, 1.3 + pad, r\"imaginary axis\", color=\"k\", fontsize=16)\n",
    "ax.text(pad, 1.0 + pad, r\"$bi$\", color=\"b\", fontsize=16)\n",
    "\n",
    "ax.text(pad + 0.9, pad - 0.2, r\"real axis\", color=\"k\", fontsize=16)\n",
    "ax.text(pad + 1.0, pad, r\"$a$\", color=\"b\", fontsize=16)\n",
    "\n",
    "ax.text(pad + 0.8, pad + 1.0, r\"$\\alpha=a+bi$\", color=\"b\", fontsize=16)\n",
    "ax.text(pad + 0.3, pad + 0.5, r\"$|\\alpha|$\", color=\"b\", fontsize=16)\n",
    "\n",
    "ax.set_xlim(-0.25, 1.5)\n",
    "ax.set_ylim(-0.25, 1.5)"
   ]
  },
  {
   "cell_type": "markdown",
   "id": "de2da4e5",
   "metadata": {},
   "source": [
    "### オイラーの公式\n",
    "**オイラーの公式** とは，虚数単位 $i$ を使った指数関数 $e^{i\\theta}$ と $\\sin \\theta, \\cos \\theta$ との関係式である．これは以下で示される．\n",
    "\n",
    "$$\n",
    "e^{i\\theta} = \\cos \\theta + i \\sin \\theta\n",
    "$$\n",
    "\n",
    "オイラーの公式を幾何学的に解釈すると $e^{i\\theta}$ は複素平面の単位円上の実軸からの角度 $\\theta$ の点を示している．\n",
    "\n",
    "この回転角 $\\theta$ は **偏角** という．"
   ]
  },
  {
   "cell_type": "code",
   "execution_count": null,
   "id": "d34a1dab",
   "metadata": {},
   "outputs": [],
   "source": [
    "import numpy as np\n",
    "import matplotlib.pyplot as plt\n",
    "fig, ax = plt.subplots(figsize=(5,5))\n",
    "theta = np.linspace(0, 2*np.pi, 360)\n",
    "x = np.cos(theta)\n",
    "y = np.sin(theta)\n",
    "\n",
    "deg = 45\n",
    "px = np.cos(np.deg2rad(deg))\n",
    "py = np.sin(np.deg2rad(deg))\n",
    "\n",
    "pad = 0.05\n",
    "ax.scatter(px, py, c=\"r\")\n",
    "ax.text(px+pad, py+pad, r\"$e^{i\\theta} = \\cos \\theta + i \\sin \\theta$\", color=\"r\", fontsize=16)\n",
    "\n",
    "ax.scatter(px, 0, c=\"b\")\n",
    "ax.text(px+pad, pad, r\"$\\cos \\theta$\", color=\"b\", fontsize=16)\n",
    "\n",
    "ax.scatter(0, py, c=\"b\")\n",
    "ax.text(pad, py+pad, r\"$i \\sin \\theta$\", color=\"b\", fontsize=16)\n",
    "\n",
    "ax.plot([-2,2],[0,0], color=\"k\", linewidth=1)\n",
    "ax.plot([0,0],[-2,2], color=\"k\", linewidth=1)\n",
    "ax.plot([0,px],[0,py], color=\"k\", linewidth=1)\n",
    "ax.plot([0,px],[0,py], color=\"k\", linewidth=1)\n",
    "ax.plot([px,px],[0,py], color=\"k\", linewidth=1, linestyle=\"--\")\n",
    "ax.plot([0,px],[py,py], color=\"k\", linewidth=1, linestyle=\"--\")\n",
    "\n",
    "ax.text(pad, 1.3 + pad, r\"imaginary axis\", color=\"k\", fontsize=16)\n",
    "ax.text(pad + 0.7, pad - 0.25, r\"real axis\", color=\"k\", fontsize=16)\n",
    "ax.text(pad+0.1, pad, \"θ\", color=\"b\", fontsize=16)\n",
    "\n",
    "ax.set_xlim(-1.5, 1.5)\n",
    "ax.set_ylim(-1.5, 1.5)\n",
    "ax.plot(x, y, color='k')"
   ]
  },
  {
   "cell_type": "markdown",
   "id": "bf4f47ca",
   "metadata": {},
   "source": [
    "そして，オイラーの公式を使うと任意の複素数 $z=a+bi$ は偏角 $\\theta$ と原点からの距離 $r$ を使って $r (\\cos \\theta + i \\sin \\theta)$ と書ける．\n",
    "\n",
    "$$\n",
    "\\begin{align}\n",
    "z &= a+bi \\\\\n",
    "&= r \\left ( \\cos \\theta + i \\sin \\theta \\right ) \\\\\n",
    "&= re^{i\\theta}\n",
    "\\end{align}\n",
    "$$\n",
    "\n",
    "三角関数の定義と実軸・虚軸に注意すればこの表記となることは明らかである．"
   ]
  },
  {
   "cell_type": "markdown",
   "id": "c17bc59e",
   "metadata": {},
   "source": [
    "### Pythonによる複素数の定義\n",
    "sympyは複素数も扱うことができる．虚数単位 $i$ は `from sympy import I` で導入できる．"
   ]
  },
  {
   "cell_type": "code",
   "execution_count": null,
   "id": "282741d2",
   "metadata": {},
   "outputs": [],
   "source": [
    "from sympy import I\n",
    "I"
   ]
  },
  {
   "cell_type": "markdown",
   "id": "48ddc89d",
   "metadata": {},
   "source": [
    "複素数は以下のように定義する．"
   ]
  },
  {
   "cell_type": "code",
   "execution_count": null,
   "id": "e93e037b",
   "metadata": {},
   "outputs": [],
   "source": [
    "z1 = 2 + 3*I\n",
    "z1"
   ]
  },
  {
   "cell_type": "markdown",
   "id": "698bc96d",
   "metadata": {},
   "source": [
    "共役な複素数は `.conjugate()` で取得できる．"
   ]
  },
  {
   "cell_type": "code",
   "execution_count": null,
   "id": "4344f8e0",
   "metadata": {},
   "outputs": [],
   "source": [
    "z1.conjugate()"
   ]
  },
  {
   "cell_type": "markdown",
   "id": "81047d3e",
   "metadata": {},
   "source": [
    "実部と虚部はそれぞれ`re`と`im`で取得できる．"
   ]
  },
  {
   "cell_type": "code",
   "execution_count": null,
   "id": "18b01c0e",
   "metadata": {},
   "outputs": [],
   "source": [
    "from sympy import re, im\n",
    "re(z1)"
   ]
  },
  {
   "cell_type": "code",
   "execution_count": null,
   "id": "3a06662a",
   "metadata": {},
   "outputs": [],
   "source": [
    "im(z1)"
   ]
  },
  {
   "cell_type": "markdown",
   "id": "9700e2c8",
   "metadata": {},
   "source": [
    "## 三角関数の指数表記\n",
    "複素数の話題を深掘りすると説明すべきことは数多くあるが，本講義で説明する複素フーリエ級数と係数の導出に必要な情報は以上である（より詳しく勉強したい人は複素解析あたりを調べてみるといいと思います）．まずはオイラーの公式を使って三角関数を指数関数表記\n",
    "\n",
    "$$\n",
    "\\begin{align}\n",
    "\\cos \\theta = \\frac{e^{i\\theta}+e^{-i\\theta}}{2}, \\quad \\sin \\theta = \\frac{e^{i\\theta}-e^{-i\\theta}}{2i}\n",
    "\\end{align}\n",
    "$$\n",
    "\n",
    "に書き換える．これは以下のように導出できる．まず $\\theta, -\\theta$ に関するオイラーの公式を考える．\n",
    "\n",
    "$$\n",
    "e^{i\\theta} = \\cos \\theta + i \\sin \\theta, \\quad e^{-i\\theta} = \\cos \\theta - i \\sin \\theta\n",
    "$$\n",
    "\n",
    "そして，$\\cos \\theta$ について $e^{i\\theta}$ と $e^{-i\\theta}$ の和を考えると $\\sin$ 関数の項が消えるので以下のように整理する．\n",
    "\n",
    "$$\n",
    "\\begin{align}\n",
    "e^{i\\theta} + e^{-i\\theta} &= \\cos \\theta + i \\sin \\theta + \\cos \\theta - i \\sin \\theta \\\\\n",
    "e^{i\\theta} + e^{-i\\theta} &= 2 \\cos \\theta \\\\\n",
    "\\cos \\theta &= \\frac{e^{i\\theta} + e^{-i\\theta}}{2}\n",
    "\\end{align}\n",
    "$$\n",
    "\n",
    "同様にして，$\\sin \\theta$ については $e^{i\\theta}$ と $e^{-i\\theta}$ の差を考えればよい．\n",
    "\n",
    "$$\n",
    "\\begin{align}\n",
    "e^{i\\theta} - e^{-i\\theta} &= \\cos \\theta + i \\sin \\theta - \\cos \\theta + i \\sin \\theta  \\\\\n",
    "e^{i\\theta} - e^{-i\\theta} &= 2i \\sin \\theta \\\\\n",
    "\\sin \\theta &= \\frac{e^{i\\theta} - e^{-i\\theta}}{2i}\n",
    "\\end{align}\n",
    "$$\n",
    "\n",
    "以上より，三角関数の指数表記を導出できた．\n",
    "\n",
    "```{admonition} オイラーの公式と三角関数の加法定理\n",
    "補足となるが，オイラーの公式から三角関数の加法定理や倍角の公式の関連を導出できる．高校数学で学んだ加法定理は以下であった．\n",
    "\n",
    "$$\n",
    "\\begin{align}\n",
    "\\cos \\left ( \\alpha + \\beta \\right ) &= \\cos \\alpha \\cos \\beta - \\sin \\alpha \\sin \\beta \\\\\n",
    "\\sin \\left ( \\alpha + \\beta \\right ) &= \\sin \\alpha \\cos \\beta + \\cos \\alpha \\sin \\beta \n",
    "\\end{align}\n",
    "$$\n",
    "\n",
    "これらの式を $\\theta = \\alpha + \\beta$ としてオイラーの公式から考えると，\n",
    "\n",
    "$$\n",
    "e^{i \\left (\\alpha+\\beta \\right )} = \\cos \\left (\\alpha+\\beta \\right ) + i \\sin \\left (\\alpha+\\beta \\right )\n",
    "$$\n",
    "\n",
    "となる．実部と虚部に加法定理の $\\cos \\left ( \\alpha + \\beta \\right )$ と $\\sin \\left ( \\alpha + \\beta \\right )$ が含まれていることがわかる．\n",
    "オイラーの公式に当てはめるのではなく，$e^{i \\left (\\alpha+\\beta \\right )}$について指数関数の性質に注意して式変形してみると\n",
    "\n",
    "$$\n",
    "\\begin{align}\n",
    "e^{i \\left (\\alpha+\\beta \\right )} &= e^{i \\alpha + i \\beta} \\\\\n",
    "&= e^{i \\alpha}e^{i \\beta} \\\\\n",
    "&= \\left ( \\cos \\alpha + i \\sin \\alpha \\right ) \\left ( \\cos \\beta + i \\sin \\beta \\right ) \\\\\n",
    "&= \\left ( \\cos \\alpha \\cos \\beta - \\sin \\alpha \\sin \\beta\\right ) + i \\left ( \\sin \\alpha \\cos \\beta + \\cos \\alpha \\sin \\beta  \\right )\n",
    "\\end{align}\n",
    "$$\n",
    "\n",
    "となり，加法定理の結果が実部と虚部に現れる．同様にして指数関数の冪乗の性質\n",
    "\n",
    "$$\n",
    "\\left ( e^{i\\theta} \\right )^n = e^{in\\theta}\n",
    "$$\n",
    "\n",
    "を使うと倍角公式も導出できる．\n",
    "```"
   ]
  },
  {
   "cell_type": "markdown",
   "id": "d5456f24",
   "metadata": {},
   "source": [
    "## 複素フーリエ級数と係数の導出\n",
    "では，三角関数の指数関数表記を利用して実数のフーリエ級数展開から複素フーリエ級数展開を導出する．まずフーリエ級数展開の式から整理していく．三角関数の指数関数表記\n",
    "\n",
    "$$\n",
    "\\begin{align}\n",
    "\\cos \\theta = \\frac{e^{i\\theta}+e^{-i\\theta}}{2}, \\quad \\sin \\theta = \\frac{e^{i\\theta}-e^{-i\\theta}}{2i}\n",
    "\\end{align}\n",
    "$$\n",
    "\n",
    "を使って，フーリエ級数展開に含まれる $\\cos$ 関数と $\\sin$ 関数を書き換える．\n",
    "\n",
    "$$\n",
    "\\begin{align}\n",
    "f(t) &= \\frac{a_{0}}{2} + \\sum_{k=1}^{\\infty} (a_k \\cos k \\omega_0 t + b_k \\sin k \\omega_0 t) \\\\\n",
    "&= \\frac{a_{0}}{2} + \\sum_{k=1}^{\\infty} (a_k \\frac{e^{ik \\omega_0 t}+e^{-ik \\omega_0 t}}{2} + b_k \\frac{e^{ik \\omega_0 t}-e^{-ik \\omega_0 t}}{2i}) \\\\\n",
    "&= \\frac{a_{0}}{2} + \\sum_{k=1}^{\\infty} \\frac{\\left ( a_k e^{ik \\omega_0 t} + a_k e^{-ik \\omega_0 t} - i b_k e^{ik \\omega_0 t} + i b_k e^{-ik \\omega_0 t} \\right )}{2} \\\\\n",
    "&= \\frac{a_{0}}{2} + \\sum_{k=1}^{\\infty} \\left ( \\frac{a_k - i b_k}{2}  e^{ik \\omega_0 t} + \\frac{ a_k + i b_k}{2} e^{-ik \\omega_0 t}\\right ) \n",
    "\\end{align}\n",
    "$$\n",
    "\n",
    "$\\cos$ 関数と $\\sin$ 関数は $e^{i\\theta}$ に関する項に変換できた．次は，フーリエ係数 $a_0, a_k, b_k$ の整理である．ここで式をみると，$C_0 = \\frac{a_{0}}{2}, C_k = \\frac{a_k - i b_k}{2}, C_{-k}=\\frac{ a_k + i b_k}{2}$ として複素フーリエ係数を考えると式をまとめることができることがわかる．フーリエ係数 $a_0, a_k, b_k$ は以下であったので\n",
    "\n",
    "$$\n",
    "a_0 = \\frac{2}{T} \\int_{-T/2}^{T/2} f(t) dt, \\quad a_k = \\frac{2}{T} \\int_{-T/2}^{T/2} f(t) \\cos k \\omega_0 t dt, \\quad b_k = \\frac{2}{T} \\int_{-T/2}^{T/2} f(t) \\sin k \\omega_0 t dt\n",
    "$$\n",
    "\n",
    "これらに注意して定義した $C_0, C_k, C_{-k}$ の導出を行う．\n",
    "\n",
    "$$\n",
    "C_k = \n",
    "\\begin{cases}\n",
    "\\left (a_k - ib_k \\right ) / 2 & k > 0 \\\\\n",
    "a_0 / 2 & k = 0 \\\\\n",
    "\\left (a_{-k} + ib_{-k} \\right ) / 2 & k < 0\n",
    "\\end{cases}\n",
    "$$\n",
    "\n",
    "まず $C_0$ の式変形について以下のように整理できる．\n",
    "\n",
    "$$\n",
    "\\begin{align}\n",
    "C_0 &= \\frac{a_{0}}{2} \\\\\n",
    "&= \\frac{1}{2} \\frac{2}{T} \\int_{-T/2}^{T/2} f(t) dt \\\\\n",
    "&= \\frac{1}{T} \\int_{-T/2}^{T/2} f(t) dt\n",
    "\\end{align}\n",
    "$$\n",
    "\n",
    "続いて，$C_k$ は以下のように式変形する．\n",
    "\n",
    "$$\n",
    "\\begin{align}\n",
    "C_k &= \\frac{a_k - i b_k}{2} \\\\\n",
    "&= \\frac{1}{2}\\frac{2}{T} \\int_{-T/2}^{T/2} f(t) \\cos k \\omega_0 t dt - \\frac{i}{2} \\frac{2}{T} \\int_{-T/2}^{T/2} f(t) \\sin k \\omega_0 t dt \\\\\n",
    "&= \\frac{1}{T} \\int_{-T/2}^{T/2} f(t) \\cos k \\omega_0 t dt - \\frac{i}{T} \\int_{-T/2}^{T/2} f(t) \\sin k \\omega_0 t dt \\\\\n",
    "&= \\frac{1}{T} \\int_{-T/2}^{T/2} f(t) \\left ( \\cos k \\omega_0 t - i \\sin k \\omega_0 t \\right ) dt \\\\\n",
    "&= \\frac{1}{T} \\int_{-T/2}^{T/2} f(t) e^{-ik \\omega_0 t} dt\n",
    "\\end{align}\n",
    "$$\n",
    "\n",
    "最後に $C_{-k}$ は以下となる．\n",
    "\n",
    "$$\n",
    "\\begin{align}\n",
    "C_{-k} &= \\frac{a_k + i b_k}{2} \\\\\n",
    "&= \\frac{1}{2}\\frac{2}{T} \\int_{-T/2}^{T/2} f(t) \\cos k \\omega_0 t dt + \\frac{i}{2} \\frac{2}{T} \\int_{-T/2}^{T/2} f(t) \\sin k \\omega_0 t dt \\\\\n",
    "&= \\frac{1}{T} \\int_{-T/2}^{T/2} f(t) \\cos k \\omega_0 t dt + \\frac{i}{T} \\int_{-T/2}^{T/2} f(t) \\sin k \\omega_0 t dt \\\\\n",
    "&= \\frac{1}{T} \\int_{-T/2}^{T/2} f(t) \\left ( \\cos k \\omega_0 t + i \\sin k \\omega_0 t \\right ) dt \\\\\n",
    "&= \\frac{1}{T} \\int_{-T/2}^{T/2} f(t) e^{ik \\omega_0 t} dt\n",
    "\\end{align}\n",
    "$$\n",
    "\n",
    "以上より，フーリエ係数を書き換えることができた．またこのように表記することで，$k=0,k>0,k<0$ の条件で場合分けすると各係数を単一の $C_k$ で表現でき，フーリエ級数展開をよりシンプルに書くことができる．\n",
    "\n",
    "まとめると，複素フーリエ級数は区間 $-T/2 \\leq t \\leq T/2$ 上の関数 $f(t)$ を基本周波数 $\\omega_0$ の整数倍の周波数を持つ虚数 $i$ を含む指数関数表記された正弦波の重ね合わせで表現する方法である．複素フーリエ級数と複素フーリエ係数は以下である．\n",
    "\n",
    "$$\n",
    "\\begin{align}\n",
    "f(t) = \\sum_{k=-\\infty}^{\\infty} C_k e^{ik \\omega_0 t}\n",
    "\\end{align}\n",
    "$$\n",
    "\n",
    "$$\n",
    "C_k = \\frac{1}{T}\\int^{T/2}_{-T/2} f\\left ( t \\right ) e^{-ik\\omega_0 t} dt\n",
    "$$\n",
    "\n",
    "複素数で書き換えたが $e^{ik\\omega_0 t}$ は波を表すので中身はフーリエ級数展開と同じであることに注意されたい（オイラーの公式からも明らかだと思う）．また $C_k$ は **スペクトル** とも呼ばれる．"
   ]
  },
  {
   "cell_type": "markdown",
   "id": "adba38e1",
   "metadata": {},
   "source": [
    "## 具体例\n",
    "では，区間 $[-\\pi, \\pi]$ 上の以下の関数 $f(t)$ について複素フーリエ級数展開してみよう．\n",
    "\n",
    "$$\n",
    "f(t) = \\begin{cases}\n",
    "1 & -\\pi < t \\leq 0 \\\\\n",
    "0 & 0 < t \\leq \\pi\n",
    "\\end{cases}\n",
    "$$\n",
    "\n",
    "解答はクリックで確認できる．\n",
    "\n",
    "````{toggle}\n",
    "\n",
    "複素フーリエ係数 $C_0,C_k$ を計算する．まず $\\omega_0 = 2 \\pi / T$ で周期 $T = 2\\pi$ より基本周波数は $\\omega_0 = 1$ であることがわかる．これより複素フーリエ係数 $C_0$ を上記で導出した複素フーリエ係数の式から計算する．\n",
    "\n",
    "$C_0(k=0)$のとき\n",
    "\n",
    "$$\n",
    "\\begin{align}\n",
    "C_0 &= \\frac{1}{2\\pi}\\int^{\\pi}_{-\\pi} f\\left ( t \\right ) e^{-i\\cdot 0 \\cdot t} dt \\\\\n",
    "&= \\frac{1}{2\\pi}\\int^{\\pi}_{-\\pi} f\\left ( t \\right ) dt \\\\\n",
    "&= \\frac{1}{2\\pi} \\left\\{ \\int_{-\\pi}^{0} 1 dt + \\int_{0}^{\\pi} 0 dt \\right\\} \\\\\n",
    "&= \\frac{1}{2\\pi} \\left [ t \\right ]^{0}_{-\\pi} \\\\\n",
    "&= \\frac{1}{2\\pi} \\left \\{ 0 + \\pi \\right \\} = \\frac{1}{2}\n",
    "\\end{align}\n",
    "$$\n",
    "\n",
    "続いて，$C_k(k \\neq 0)$のとき\n",
    "\n",
    "$$\n",
    "\\begin{align}\n",
    "C_k &= \\frac{1}{T}\\int^{T/2}_{-T/2} f\\left ( t \\right ) e^{-ik\\omega_0 t} dt \\\\\n",
    "&= \\frac{1}{2\\pi}\\int^{\\pi}_{-\\pi} f\\left ( t \\right ) e^{-ikt} dt \\\\\n",
    "&= \\frac{1}{2\\pi}\\left\\{ \\int_{-\\pi}^{0} 1 e^{-ikt} dt + \\int_{0}^{\\pi} 0 e^{-ikt} dt \\right\\} \\\\\n",
    "&= \\frac{1}{2\\pi}\\left [ \\frac{1}{-ik} e^{-ikt} \\right ]^{0}_{-\\pi} \\\\\n",
    "&= \\frac{1}{2\\pi}\\left ( \\frac{1}{-ik} e^{-ik \\cdot 0} - \\frac{1}{-ik} e^{-ik \\cdot -\\pi} \\right ) \\\\\n",
    "&= \\frac{1}{2\\pi}\\left ( \\frac{1}{-ik} + \\frac{1}{ik} e^{ik\\pi} \\right ) \\\\\n",
    "&= \\frac{1}{2\\pi}\\left ( \\frac{1 - e^{ik\\pi}}{-ik} \\right ) \\\\\n",
    "&= \\frac{1}{2\\pi}\\left ( \\frac{1 - \\cos k\\pi - i \\sin k\\pi}{-ik} \\right ) \\\\\n",
    "&= \\frac{1}{2\\pi}\\left \\{ \\frac{1 - \\left ( -1 \\right )^k}{-ik} \\right \\} \\\\\n",
    "&= - \\frac{1}{2ik\\pi}\\left \\{ 1 - \\left ( -1 \\right )^k \\right \\} \\\\\n",
    "&= \\frac{i}{2k\\pi}\\left \\{ 1 - \\left ( -1 \\right )^k \\right \\} \\\\\n",
    "\\end{align}\n",
    "$$\n",
    "\n",
    "以上より，複素フーリエ級数が以下のように計算された．\n",
    "\n",
    "$$\n",
    "C_0 = \\frac{1}{2}, \\quad C_k = \\frac{i}{2k\\pi}\\left \\{ 1 - \\left ( -1 \\right )^k \\right \\}\n",
    "$$\n",
    "\n",
    "よって複素フーリエ級数の式に代入すると\n",
    "\n",
    "$$\n",
    "f(t) = \\frac{1}{2} + \\frac{i}{2\\pi}\\sum_{k=\\pm 1}^{\\pm\\infty} \\frac{1 - \\left ( -1 \\right )^k} {k} e^{ikt}\n",
    "$$\n",
    "\n",
    "となる．\n",
    "\n",
    "````"
   ]
  },
  {
   "cell_type": "markdown",
   "id": "dc54ccbe",
   "metadata": {},
   "source": [
    "## Pythonで複素フーリエ級数展開\n",
    "では，前述した複素フーリエ級数展開をsympyで実装する．まずは近似対象の関数を定義する．"
   ]
  },
  {
   "cell_type": "code",
   "execution_count": null,
   "id": "84aec650",
   "metadata": {},
   "outputs": [],
   "source": [
    "from sympy import symbols\n",
    "t = symbols('t')\n",
    "f = t**2\n",
    "f"
   ]
  },
  {
   "cell_type": "code",
   "execution_count": null,
   "id": "22d7db39",
   "metadata": {},
   "outputs": [],
   "source": [
    "from sympy import pi\n",
    "from sympy.plotting import plot\n",
    "plot(f, xlim=(-pi, pi) , ylim=(-5, 5))"
   ]
  },
  {
   "cell_type": "markdown",
   "id": "7ef3bb95",
   "metadata": {},
   "source": [
    "複素フーリエ係数 $C_k$ を定義する．"
   ]
  },
  {
   "cell_type": "code",
   "execution_count": null,
   "id": "3dd683c8",
   "metadata": {},
   "outputs": [],
   "source": [
    "from sympy import Integral, exp\n",
    "k = symbols('k')\n",
    "T = 2 * pi # 周期 T = 2π\n",
    "omega_0 = 2 * pi / T # 基本周波数\n",
    "\n",
    "c_k = Integral(f * exp(-k * I * omega_0 * t), (t, -T/2, T/2)) / T\n",
    "c_k"
   ]
  },
  {
   "cell_type": "markdown",
   "id": "ca3f1d47",
   "metadata": {},
   "source": [
    "複素フーリエ級数を計算する．前回の講義と同様に，$k$番目の項と周期$T$を変数として定義していたので`subs()`で代入し，上記で定義した$a_k,b_k$の積分を`.doit()`で実行する．今回は $C_{-1}, C_0, C_1$ の三項のみで近似する．"
   ]
  },
  {
   "cell_type": "code",
   "execution_count": null,
   "id": "515a1373",
   "metadata": {},
   "outputs": [],
   "source": [
    "c_m1 = c_k.subs(k, -1).doit()\n",
    "c_m1"
   ]
  },
  {
   "cell_type": "code",
   "execution_count": null,
   "id": "e1fcc72b",
   "metadata": {},
   "outputs": [],
   "source": [
    "c_0 = c_k.subs(k, 0).doit()\n",
    "c_0"
   ]
  },
  {
   "cell_type": "code",
   "execution_count": null,
   "id": "8d4b364b",
   "metadata": {},
   "outputs": [],
   "source": [
    "c_p1 = c_k.subs(k, 1).subs(T, 2*pi).doit()\n",
    "c_p1"
   ]
  },
  {
   "cell_type": "markdown",
   "id": "5b9fb24f",
   "metadata": {},
   "source": [
    "計算された複素フーリエ係数をもとに複素フーリエ級数展開する．今回は $k=-1,0,1$ の三項のみでの近似より以下の式を定義している．\n",
    "\n",
    "$$\n",
    "f(t) = C_{-1} e^{-i \\omega_0 t} + C_0 + C_1 e^{ik\\omega_0 t}\n",
    "$$"
   ]
  },
  {
   "cell_type": "code",
   "execution_count": null,
   "id": "53c24f31",
   "metadata": {},
   "outputs": [],
   "source": [
    "ff_approx = c_m1 * exp(-k * I * omega_0 * t).subs(k, -1) + c_0 \\\n",
    "    + c_p1 * exp(-k * I * omega_0 * t).subs(k, 1)\n",
    "ff_approx"
   ]
  },
  {
   "cell_type": "markdown",
   "id": "68c08fcc",
   "metadata": {},
   "source": [
    "これをプロットしてみる．"
   ]
  },
  {
   "cell_type": "code",
   "execution_count": null,
   "id": "a1aa0235",
   "metadata": {},
   "outputs": [],
   "source": [
    "plot(f, ff_approx, xlim=(-pi, pi), ylim=(-5, 5))"
   ]
  },
  {
   "cell_type": "markdown",
   "id": "080c4498",
   "metadata": {},
   "source": [
    "区間外もプロットしてみる．周期関数による近似のため区間外で近似が行えていないことがわかる．"
   ]
  },
  {
   "cell_type": "code",
   "execution_count": null,
   "id": "ca64be46",
   "metadata": {},
   "outputs": [],
   "source": [
    "plot(f, ff_approx.subs(T, 2*pi), xlim=(-2*pi, 2*pi))"
   ]
  },
  {
   "cell_type": "markdown",
   "id": "f378ec26",
   "metadata": {},
   "source": [
    "## 指数関数表記の三角関数の直交性\n",
    "複素フーリエ級数を展開してみると\n",
    "\n",
    "$$\n",
    "\\begin{align}\n",
    "f(t) &= \\sum_{k=-\\infty}^{\\infty} C_k e^{ik \\omega_0 t} \\\\\n",
    "&= \\cdots + C_{-k} e^{-ik\\omega_0 t} + \\cdots + C_0 + \\cdots + C_k e^{ik\\omega_0 t} + \\cdots\n",
    "\\end{align}\n",
    "$$\n",
    "\n",
    "となり，関数系が $\\{e^{ik\\omega_0 t}|k\\in\\mathbb{Z}\\}$ であることがわかる．この関数系 $\\{e^{ik\\omega_0 t}|k\\in\\mathbb{Z}\\}$ は **直交基底** である．\n",
    "\n",
    "```{admonition} 直交基底\n",
    "計量空間 $\\mathcal{L}$ の任意の元の直交系 $\\mathbf{e}_1, \\mathbf{e}_2, \\ldots, \\mathbf{e}_n$ による最小二乗法の近似が近似対象 $\\mathbf{u}$ に一致するとき，$\\{ \\mathbf{e}_i \\}^n_{i=1}$ は￼$\\mathcal{L}$ の直交基底であるという．\n",
    "```\n",
    "\n",
    "では，関数系 $\\{e^{ik\\omega_0 t}|k\\in\\mathbb{Z}\\}$ が直交する（=自身以外との内積が $0$）であることを確認する．区間 $[a,b]$ 上の複素数を含む関数 $f(x),g(x)$ の内積は以下で定義される．\n",
    "\n",
    "$$\n",
    "\\int_{a}^{b}\\ f(x) \\overline{g(x)} dx= 0\n",
    "$$\n",
    "\n",
    "ただし，$\\overline{g(x)}$ は $g(x)$ の共役な複素数であり，実関数では $\\overline{g(x)}=g(x)$ となり，関数の内積と一致することに注意されたい．\n",
    "\n",
    "この定義をもとに直交性を検証する．そのために，区間 $[-T/2, T/2]$ 上で二つの関数 $e^{im\\omega_0 t}, e^{in\\omega_0 t}$ を関数系 $\\{e^{ik\\omega_0 t}|k\\in\\mathbb{Z}\\}$ から取り出す．ここで $m=n$ のとき内積の結果は以下となる．\n",
    "\n",
    "$$\n",
    "\\begin{align}\n",
    "\\int_{-T/2}^{T/2} e^{im\\omega_0 t} \\overline{e^{in\\omega_0 t}} dt &= \\int_{-T/2}^{T/2} e^{im\\omega_0 t} e^{-in\\omega_0 t} dt \\\\\n",
    "&= \\int_{-T/2}^{T/2} e^{i (m-n) \\omega_0 t} dt \\\\\n",
    "&= \\int_{-T/2}^{T/2} e^{0} dt \\\\\n",
    "&= T\n",
    "\\end{align}\n",
    "$$\n",
    "\n",
    "同様にして，$m \\neq n$ のときを検証する．\n",
    "\n",
    "$$\n",
    "\\begin{align}\n",
    "\\int_{-T/2}^{T/2} e^{im\\omega_0 t} \\overline{e^{in\\omega_0 t}} dt &= \\int_{-T/2}^{T/2} e^{im\\omega_0 t} e^{-in\\omega_0 t} dt \\\\\n",
    "&= \\int_{-T/2}^{T/2} e^{i (m-n) \\omega_0 t} dt \\\\\n",
    "&= \\left [ \\frac{1}{i (m-n) \\omega_0} e^{i (m-n) \\omega_0 t} \\right ]^{T/2}_{-T/2} \\\\\n",
    "&= \\frac{1}{i (m-n) \\omega_0} \\left \\{ e^{i (m-n) \\omega_0 \\frac{T}{2}} - e^{- i (m-n) \\omega_0 \\frac{T}{2}} \\right \\} \\\\\n",
    "&= \\frac{1}{i (m-n) \\omega_0} \\left \\{ e^{i (m-n)  \\frac{2\\pi}{T}\\frac{T}{2}} - e^{- i (m-n) \\frac{2\\pi}{T} \\frac{T}{2}} \\right \\} \\\\\n",
    "&= \\frac{1}{i (m-n) \\omega_0} \\left \\{ e^{i (m-n)  \\pi} - e^{- i (m-n) \\pi} \\right \\} \\\\\n",
    "&= \\frac{1}{i (m-n) \\omega_0} \\left \\{ 2i \\sin \\left ( m-n \\right ) \\pi \\right \\} \\\\\n",
    "&= 0\n",
    "\\end{align}\n",
    "$$\n",
    "\n",
    "以上より，関数系 $\\{e^{ik\\omega_0 t}|k\\in\\mathbb{Z}\\}$ は以下のように直交することがわかった．\n",
    "\n",
    "$$\n",
    "\\int_{-T/2}^{T/2} e^{im\\omega_0 t} \\overline{e^{in\\omega_0 t}} dt = \\begin{cases}\n",
    "T & m=n \\\\\n",
    "0 & m \\neq n\n",
    "\\end{cases}\n",
    "$$"
   ]
  },
  {
   "cell_type": "markdown",
   "id": "47a9ae01",
   "metadata": {},
   "source": [
    "### Pythonによる直交性の検証\n",
    "前述の話をsympyで確認してみよう．まずは $k=-1$ 同士の内積を計算する．"
   ]
  },
  {
   "cell_type": "code",
   "execution_count": null,
   "id": "14468edd",
   "metadata": {},
   "outputs": [],
   "source": [
    "exp(-k * I * omega_0 * t).subs(k, -1)"
   ]
  },
  {
   "cell_type": "code",
   "execution_count": null,
   "id": "65253ca7",
   "metadata": {},
   "outputs": [],
   "source": [
    "exp(-k * I * omega_0 * t).subs(k, -1).conjugate()"
   ]
  },
  {
   "cell_type": "code",
   "execution_count": null,
   "id": "04f7ad47",
   "metadata": {},
   "outputs": [],
   "source": [
    "expr = Integral(exp(-k * I * omega_0 * t).subs(k, -1) * exp(-k * I * omega_0 * t).subs(k, -1).conjugate(), (t, -T/2, T/2))\n",
    "expr"
   ]
  },
  {
   "cell_type": "code",
   "execution_count": null,
   "id": "bef94ed6",
   "metadata": {},
   "outputs": [],
   "source": [
    "expr.doit()"
   ]
  },
  {
   "cell_type": "markdown",
   "id": "bda36a49",
   "metadata": {},
   "source": [
    "自身との内積は $0$ とならず $T=2\\pi$ が得られ，計算結果と一致したことがわかった．続いて， $k=1$ と $k=-1$ の内積を計算する．"
   ]
  },
  {
   "cell_type": "code",
   "execution_count": null,
   "id": "90b0bdc0",
   "metadata": {},
   "outputs": [],
   "source": [
    "expr = Integral(exp(-k * I * omega_0 * t).subs(k, 1) * exp(-k * I * omega_0 * t).subs(k, -1).conjugate(), (t, -T/2, T/2))\n",
    "expr"
   ]
  },
  {
   "cell_type": "code",
   "execution_count": null,
   "id": "b5ad7ac0",
   "metadata": {},
   "outputs": [],
   "source": [
    "expr.doit()"
   ]
  },
  {
   "cell_type": "markdown",
   "id": "a799f693",
   "metadata": {},
   "source": [
    "こちらは $0$ となり内積が $0$ となることを確認できた．"
   ]
  },
  {
   "cell_type": "markdown",
   "id": "c87e365e",
   "metadata": {},
   "source": [
    "## 直交性からの複素フーリエ級数と係数の導出\n",
    "直交であることがわかったので，実関数のフーリエ級数展開と同様に，直交性から複素フーリエ係数を導出することを試みる．そのために関数 $f(t)$ を区間 $[-T/2,T/2]$ 上で関数系 $\\{e^{ik\\omega_0 t}|k\\in\\mathbb{Z}\\}$ の線形結合で近似することを考える．\n",
    "\n",
    "$$\n",
    "\\begin{align}\n",
    "f(t) &= \\sum_{k=-\\infty}^{\\infty} C_k e^{ik \\omega_0 t} \\\\\n",
    "&= \\cdots + C_{-k} e^{-ik\\omega_0 t} + \\cdots + C_0 + \\cdots + C_k e^{ik\\omega_0 t} + \\cdots\n",
    "\\end{align}\n",
    "$$\n",
    "\n",
    "両辺に $e^{-ik \\omega_0 t}$ をかけて区間 $[-T/2,T/2]$ 上で積分する．\n",
    "\n",
    "$$\n",
    "\\begin{align}\n",
    "\\int_{-T/2}^{T/2} f(t) e^{-ik\\omega_0 t} dt &= \\cdots + C_{-k} \\int_{-T/2}^{T/2} e^{-ik\\omega_0 t}  e^{-ik\\omega_0 t} dt + \\cdots \\\\\n",
    "& \\quad + C_0 \\int_{-T/2}^{T/2} e^{-ik\\omega_0 t} dt + \\cdots \\\\\n",
    "& \\quad + C_k \\int_{-T/2}^{T/2} e^{ik\\omega_0 t} e^{-ik\\omega_0 t} dt + \\cdots\n",
    "\\end{align}\n",
    "$$\n",
    "\n",
    "直交性の定義より，$C_k$ 以外はすべて $0$ となるので以下のように複素フーリエ係数が導出できる．\n",
    "\n",
    "$$\n",
    "\\begin{align}\n",
    "\\int_{-T/2}^{T/2} f(t) e^{-ik\\omega_0 t} dt &= C_k \\int_{-T/2}^{T/2} e^{ik\\omega_0 t} e^{-ik\\omega_0 t} dt \\\\\n",
    "&= C_k T \\\\\n",
    "C_k &= \\frac{1}{T} \\int_{-T/2}^{T/2} f(t) e^{-ik\\omega_0 t} dt \n",
    "\\end{align}\n",
    "$$\n",
    "\n",
    "以上より，直交性より複素フーリエ級数と係数を導出できた．"
   ]
  }
 ],
 "metadata": {
  "kernelspec": {
   "display_name": "Python 3 (ipykernel)",
   "language": "python",
   "name": "python3"
  },
  "language_info": {
   "codemirror_mode": {
    "name": "ipython",
    "version": 3
   },
   "file_extension": ".py",
   "mimetype": "text/x-python",
   "name": "python",
   "nbconvert_exporter": "python",
   "pygments_lexer": "ipython3",
   "version": "3.9.13"
  }
 },
 "nbformat": 4,
 "nbformat_minor": 5
}
