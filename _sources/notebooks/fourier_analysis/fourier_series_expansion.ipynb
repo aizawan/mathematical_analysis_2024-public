{
 "cells": [
  {
   "cell_type": "markdown",
   "id": "be0f83d0",
   "metadata": {},
   "source": [
    "# フーリエ級数展開"
   ]
  },
  {
   "cell_type": "markdown",
   "id": "808c46eb",
   "metadata": {},
   "source": [
    "## フーリエ係数\n",
    "フーリエ級数展開は関数 $f(x)$ を $\\sin$関数と$\\cos$関数の足し合わせで近似する方法であり，以下で与えられる．\n",
    "\n",
    "$$\n",
    "\\begin{align}\n",
    "f(x) \\sim  a_0 + \\sum_{n=1}^{\\infty} (a_n \\cos nx + b_n \\sin nx)\n",
    "\\end{align}\n",
    "$$\n",
    "\n",
    "ここで，$a_0, a_n, b_n$は以下で与えられる．\n",
    "\n",
    "$$\n",
    "\\begin{align}\n",
    "a_{0}&=\\frac{1}{2 \\pi} \\int_{-\\pi}^{\\pi} f(x) dx \\\\\n",
    "a_{n}&=\\frac{1}{\\pi} \\int_{-\\pi}^{\\pi} f(x) \\cos nx dx \\quad(n=1,2,3 \\cdots) \\\\\n",
    "b_{n}&=\\frac{1}{\\pi} \\int_{-\\pi}^{\\pi} f(x) \\sin n x d x \\quad(n=1,2,3 \\cdots)\n",
    "\\end{align}\n",
    "$$\n",
    "\n",
    "フーリエ級数展開が係数 $c$ と関数 $\\phi$ の線型結合からなる足し合わせで関数を近似していることを最小二乗法からイメージできるかと思う．そして，関数 $\\phi$ の設計を$\\sin$関数と$\\cos$関数からなる **三角関数系** から設計することでフーリエ級数展開の第一式となることを理解してもらったはずだ．本講義では，三角関数系の直交性の性質を確認し，係数 $c$ である **フーリエ係数** $a_0, a_n, b_n$ の導出を試みる．"
   ]
  },
  {
   "cell_type": "markdown",
   "id": "cf210d6e",
   "metadata": {},
   "source": [
    "## 三角関数系\n",
    "では，フーリエ級数展開のフーリエ級数を三角関数の直交性から導出する．そのために，三角関数系\n",
    "\n",
    "$$\n",
    "\\left \\{1, \\cos x, \\sin x, \\cos 2x, \\sin 2x,\\ldots \\right \\}\n",
    "$$\n",
    "\n",
    "は区間 $[-\\pi, \\pi]$ で直交するという性質をまず確認する．\n",
    "\n",
    "おさらいであるが関数の直交と直交関数系について復習したい．\n",
    "\n",
    "```{admonition} 関数の直交と直交関数系\n",
    "区間 $[a,b]$ 上の関数 $f(x), g(x)$ は以下のとき直交する．\n",
    "\n",
    "$$\n",
    "\\int_{a}^{b}\\ f(x) g(x) dx= 0\n",
    "$$\n",
    "\n",
    "そして，関数の集合 $\\{\\phi_i(x)\\}^n_{i=0}$ が互いに直交するとき，区間 $[a,b]$ 上の直交関数系であるという．\n",
    "```\n",
    "\n",
    "三角関数系 $1, \\cos kx, \\sin kx, k=1,2,3,\\ldots,$ が区間 $[-\\pi, \\pi]$  上で直交関数系であることを示すためにすべての関数の組み合わせで積分し互いに異なる関数同士のときに積分結果が $0$ となることをを確認する．\n",
    "\n",
    "- $1$ と $\\cos kx$ の組み合わせ\n",
    "\n",
    "    $$\n",
    "    \\int_{-\\pi}^{\\pi}\\ 1 \\cdot \\cos kx dx  = 0\n",
    "    $$\n",
    "\n",
    "- $1$ と $\\sin kx$ の組み合わせ\n",
    "\n",
    "    $$\n",
    "    \\int_{-\\pi}^{\\pi}\\ 1 \\cdot \\sin kx dx = 0\n",
    "    $$\n",
    "\n",
    "\n",
    "- $\\cos kx$ と $\\sin lx$ の組み合わせ\n",
    "\n",
    "    $$\n",
    "    \\begin{align}\n",
    "    \\int_{-\\pi}^{\\pi} \\cos kx \\sin lx dx &= \\int_{-\\pi}^{\\pi} \\frac{1}{2} \\left \\{ \\sin \\left ( k+l \\right ) x - \\sin \\left ( k - l \\right ) x \\right \\} dx \\\\\n",
    "    &=\\frac{1}{2} \\int_{-\\pi}^{\\pi}  \\sin \\left ( k+l \\right ) x dx - \\frac{1}{2} \\int_{-\\pi}^{\\pi} \\sin \\left ( k - l \\right ) x dx \\\\\n",
    "    &=0\n",
    "    \\end{align}\n",
    "    $$\n",
    "\n",
    "- $k \\neq l$ のときの $\\cos kx$ と $\\cos lx$ の組み合わせ\n",
    "\n",
    "    $$\n",
    "    \\begin{align}\n",
    "    \\int_{-\\pi}^{\\pi} \\cos kx \\cos lx dx &= \\int_{-\\pi}^{\\pi} \\frac{1}{2}  \\{ \\cos \\left ( k+l \\right ) x + \\cos \\left ( k - l \\right ) x  \\} dx  \\\\\n",
    "    &=\\frac{1}{2} \\int_{-\\pi}^{\\pi}  \\cos \\left ( k+l \\right ) x dx + \\frac{1}{2} \\int_{-\\pi}^{\\pi} \\cos \\left ( k - l \\right ) x dx \\\\\n",
    "    &=0\n",
    "    \\end{align}\n",
    "    $$\n",
    "\n",
    "- $k \\neq l$ のときの $\\sin kx$ と $\\sin lx$ の組み合わせ\n",
    "\n",
    "    $$\n",
    "    \\begin{align}\n",
    "    \\int_{-\\pi}^{\\pi} \\sin kx \\sin lx dx &= \\int_{-\\pi}^{\\pi} \\frac{1}{2}  \\{ \\cos \\left ( k+l \\right ) x - \\cos \\left ( k - l \\right ) x  \\} dx  \\\\\n",
    "    &=\\frac{1}{2} \\int_{-\\pi}^{\\pi}  \\cos \\left ( k+l \\right ) x dx - \\frac{1}{2} \\int_{-\\pi}^{\\pi} \\cos \\left ( k - l \\right ) x dx \\\\\n",
    "    &=0\n",
    "    \\end{align}\n",
    "    $$\n",
    "\n",
    "- $1$ と $1$ の組み合わせ\n",
    "\n",
    "    $$\n",
    "    \\int_{-\\pi}^{\\pi}\\  1^2 dx  = 2\\pi\n",
    "    $$\n",
    "\n",
    "- $k = l$ のときの $\\cos kx$ と $\\cos lx$ の組み合わせ\n",
    "\n",
    "    $$\n",
    "    \\begin{align}\n",
    "    \\int_{-\\pi}^{\\pi} \\cos kx \\cos lx dx &= \\int_{-\\pi}^{\\pi} \\cos^2 kx dx \\\\\n",
    "    &= \\int_{-\\pi}^{\\pi} \\frac{1}{2} \\left ( 1 + \\cos 2kx \\right ) dx = \\pi\n",
    "    \\end{align}\n",
    "    $$\n",
    "\n",
    "- $k = l$ のときの $\\sin kx$ と $\\sin lx$ の組み合わせ\n",
    "\n",
    "    $$\n",
    "    \\begin{align}\n",
    "    \\int_{-\\pi}^{\\pi} \\sin kx \\sin lx dx &= \\int_{-\\pi}^{\\pi} \\sin^2 kx dx \\\\\n",
    "    &= \\int_{-\\pi}^{\\pi} \\frac{1}{2} \\left ( 1 - \\cos 2kx \\right ) dx = \\pi\n",
    "    \\end{align}\n",
    "    $$\n",
    "\n",
    "以上の積分計算から三角関数系 $\\{1, \\cos kx, \\sin kx\\}, k=1,2,3,\\ldots,$ が区間 $[-\\pi, \\pi]$  上で直交関数系であることがわかった．"
   ]
  },
  {
   "cell_type": "markdown",
   "id": "270b56f2",
   "metadata": {},
   "source": [
    "## フーリエ係数の導出\n",
    "ここでは，フーリエ級数展開のフーリエ級数について (1) 関数の最小二乗法 と (2) 三角関数系の直交性 の二通りの導出を紹介する．\n",
    "\n",
    "**関数の最小二乗法からの導出**\n",
    "\n",
    "まず (1) 関数の最小二乗法について，具体的には，関数の最小二乗法で導出した $c_i$ を計算すると導出できる．簡単に復習すると，区間 $[a,b]$ において，任意の関数 $f(x)$ を￼直交する $n$ 個の関数 $\\{ \\phi_i(x) \\}^n_{i=1}$ の線形結合\n",
    "\n",
    "$$\n",
    "\\begin{align}\n",
    "f(x) &\\approx \\sum_{k=1}^{n} c_{k} \\phi_{k}(x)\\\\\n",
    "&=c_1 \\phi_{1}(x)+c_2 \\phi_{2}(x) + \\cdots c_n \\phi_n(x)\n",
    "\\end{align}\n",
    "$$\n",
    "\n",
    "で表現し，区間 $[a,b]$ 上のすべての点 $x$ で均一に近似するように次の最小化問題を考えることで関数の近似を最小二乗法から行うことができた．さらに直交関数系で設計した $\\phi$ の性質より正規方程式の導出から係数 $c_i$ は以下の形でシンプルに書くことができた．\n",
    "\n",
    "$$\n",
    "c_i = \\frac{\\int_{a}^{b} \\phi_{i} \\left ( x \\right ) f \\left ( x \\right) dx }{\\int_{a}^{b} \\phi_{i} \\left ( x \\right )^2 dx }, \\qquad i=1,...,n\n",
    "$$\n",
    "\n",
    "この式をもとに，$a_0, a_k, b_k$ を導出する．まず，$a_0$ について，対応する $\\phi_0$ は $1$ であることに注意して計算すると\n",
    "\n",
    "$$\n",
    "\\begin{align}\n",
    "a_0 = c_0 &= \\frac{\\int_{-\\pi}^{\\pi} 1 \\cdot f(x) dx}{\\int_{-\\pi}^{\\pi} 1^2 dx} \\\\\n",
    "&= \\frac{\\int_{-\\pi}^{\\pi} f(x) dx}{2\\pi} \\\\\n",
    "&= \\frac{1}{2\\pi} \\int_{-\\pi}^{\\pi} f(x) dx \\\\\n",
    "\\end{align}\n",
    "$$\n",
    "\n",
    "となる．続いて，$\\cos$関数の場合の $k$ 項である $a_k$ を導出する．\n",
    "\n",
    "$$\n",
    "\\begin{align}\n",
    "a_k = c_k &= \\frac{\\int_{-\\pi}^{\\pi} \\cos kx f(x) dx}{\\int_{-\\pi}^{\\pi} \\cos^2 kx dx} \\\\\n",
    "&= \\frac{\\int_{-\\pi}^{\\pi} f(x) \\cos kx dx}{\\pi} \\\\\n",
    "&= \\frac{1}{\\pi} \\int_{-\\pi}^{\\pi} f(x) \\cos kx dx \\\\\n",
    "\\end{align}\n",
    "$$\n",
    "\n",
    "同様にして，$\\sin$関数の場合の $k$ 項である $b_k$ を導出する．\n",
    "\n",
    "$$\n",
    "\\begin{align}\n",
    "a_k = c_k &= \\frac{\\int_{-\\pi}^{\\pi} \\sin kx f(x) dx}{\\int_{-\\pi}^{\\pi} \\sin^2 kx dx} \\\\\n",
    "&= \\frac{\\int_{-\\pi}^{\\pi} f(x) \\sin kx dx}{\\pi} \\\\\n",
    "&= \\frac{1}{\\pi} \\int_{-\\pi}^{\\pi} f(x) \\sin kx dx \\\\\n",
    "\\end{align}\n",
    "$$\n",
    "\n",
    "以上より，フーリエ級数展開のフーリエ級数を (1) 関数の最小二乗法 から導出できた．\n",
    "\n",
    "**三角関数系の直交性からの導出**\n",
    "\n",
    "続いて，(2) 三角関数系の直交性 からの導出について線形結合の式\n",
    "\n",
    "$$\n",
    "f(x) = a_{0} + a_{1} \\cos x + b_{1} \\sin x + a_{2} \\cos 2x + b_{2} \\sin 2x + \\cdots \n",
    "$$\n",
    "\n",
    "からスタートして，自身以外との関数の内積が $0$ となるという直交関数系の性質を活用することを考える．\n",
    "\n",
    "まず $a_0$ の導出は上記の線型結合の式の両辺に $1$ をかけて両辺を区間 $[-\\pi, \\pi]$ で積分することで導出できる．\n",
    "\n",
    "$$\n",
    "\\begin{align}\n",
    "\\int_{-\\pi}^{\\pi} 1 \\cdot f(x) dx &= \\int_{-\\pi}^{\\pi} 1 \\cdot \\left \\{ a_{0} + a_{1} \\cos x + b_{1} \\sin x + a_{2} \\cos 2x + b_{2} \\sin 2x + \\cdots \\right \\} dx \\\\\n",
    "&= a_0 \\int_{-\\pi}^{\\pi} 1 dx+ a_1 \\int_{-\\pi}^{\\pi} \\cos x dx +  b_1 \\int_{-\\pi}^{\\pi} \\sin x dx \\\\\n",
    "& \\quad + a_2 \\int_{-\\pi}^{\\pi} \\cos 2x dx +  b_2 \\int_{-\\pi}^{\\pi} \\sin 2x dx  + \\cdots \\\\\n",
    "&= 2 a_0 \\pi \\\\\n",
    "a_0 &= \\frac{1}{2 \\pi} \\int_{-\\pi}^{\\pi} f(x) dx\n",
    "\\end{align}\n",
    "$$\n",
    "\n",
    "続いて，$a_k$ の導出は上記の線型結合の式の両辺に $\\cos kx$ をかけて両辺を区間 $[-\\pi, \\pi]$ で積分することで導出できる．\n",
    "\n",
    "$$\n",
    "\\begin{align}\n",
    "\\int_{-\\pi}^{\\pi} f(x) \\cos kx dx &= \\int_{-\\pi}^{\\pi} \\cos kx \\left \\{ a_{0} + a_{1} \\cos x + b_{1} \\sin x + a_{2} \\cos 2x + b_{2} \\sin 2x + \\cdots \\right \\} dx \\\\\n",
    "&= a_0 \\int_{-\\pi}^{\\pi} \\cos kx dx+ a_1 \\int_{-\\pi}^{\\pi} \\cos x \\cos kx dx +  b_1 \\int_{-\\pi}^{\\pi} \\sin x \\cos kx dx \\\\\n",
    "& \\quad + a_2 \\int_{-\\pi}^{\\pi} \\cos 2x \\cos kx dx +  b_2 \\int_{-\\pi}^{\\pi} \\sin 2x \\cos kx dx  + \\cdots \\\\\n",
    "& \\qquad + a_k \\int_{-\\pi}^{\\pi} \\cos kx \\cos kx dx +  b_k \\int_{-\\pi}^{\\pi} \\sin kx \\cos kx dx  + \\cdots \\\\\n",
    "&= a_k \\int_{-\\pi}^{\\pi} \\cos^2 kx dx \\\\\n",
    "&= a_k \\int_{-\\pi}^{\\pi}\\ \\frac{1}{2} \\left ( 1 + \\cos 2kx \\right ) dx \\\\\n",
    "&= a_k \\pi \\\\\n",
    "a_k &= \\frac{1}{\\pi} \\int_{-\\pi}^{\\pi} f(x) \\cos kx dx\n",
    "\\end{align}\n",
    "$$\n",
    "\n",
    "最後に，$b_k$ の導出は上記の線型結合の式の両辺に $\\sin kx$ をかけて両辺を区間 $[-\\pi, \\pi]$ で積分することで導出できる．\n",
    "\n",
    "$$\n",
    "\\begin{align}\n",
    "\\int_{-\\pi}^{\\pi} f(x) \\sin kx dx &= \\int_{-\\pi}^{\\pi} \\sin kx \\left \\{ a_{0} + a_{1} \\cos x + b_{1} \\sin x + a_{2} \\cos 2x + b_{2} \\sin 2x + \\cdots \\right \\} dx \\\\\n",
    "&= a_0 \\int_{-\\pi}^{\\pi} \\sin kx dx+ a_1 \\int_{-\\pi}^{\\pi}\\ \\cos x \\sin kx dx +  b_1 \\int_{-\\pi}^{\\pi}\\ \\sin x \\sin kx dx \\\\\n",
    "& \\quad + a_2 \\int_{-\\pi}^{\\pi} \\cos 2x \\sin kx dx +  b_2 \\int_{-\\pi}^{\\pi} \\sin 2x \\sin kx dx  + \\cdots \\\\\n",
    "& \\qquad + a_k \\int_{-\\pi}^{\\pi} \\cos kx \\sin kx dx +  b_k \\int_{-\\pi}^{\\pi} \\sin kx \\sin kx dx  + \\cdots \\\\\n",
    "&= b_k \\int_{-\\pi}^{\\pi} \\sin^2 kx dx \\\\\n",
    "&= b_k \\int_{-\\pi}^{\\pi}\\ \\frac{1}{2} \\left ( 1 - \\cos 2kx \\right ) dx \\\\\n",
    "&= b_k \\pi \\\\\n",
    "b_k &= \\frac{1}{\\pi} \\int_{-\\pi}^{\\pi} f(x) \\sin kx dx\n",
    "\\end{align}\n",
    "$$\n",
    "\n",
    "以上より，フーリエ級数展開のフーリエ級数を (2) 三角関数系の直交性 から導出できた．"
   ]
  },
  {
   "cell_type": "markdown",
   "id": "af3a5b65",
   "metadata": {},
   "source": [
    "### 具体例\n",
    "では，区間 $[-\\pi, \\pi]$ 上の以下の関数 $f(t)$ についてフーリエ級数展開してみよう．\n",
    "\n",
    "$$\n",
    "f(t) = \\begin{cases}\n",
    "1 & -\\pi < t \\leq 0 \\\\\n",
    "0 & 0 < t \\leq \\pi\n",
    "\\end{cases}\n",
    "$$\n",
    "\n",
    "解答はクリックで確認できる．\n",
    "\n",
    "````{toggle}\n",
    "\n",
    "フーリエ係数 $a_0, a_k, b_k$ を順に計算する．まずフーリエ係数 $a_0$ を上記で導出したフーリエ係数の式から計算する．\n",
    "\n",
    "<!-- $$\n",
    "\\begin{align}\n",
    "a_{0}&=\\frac{1}{2 \\pi} \\int_{-\\pi}^{\\pi} f(x) dx \\\\\n",
    "a_{n}&=\\frac{1}{\\pi} \\int_{-\\pi}^{\\pi} f(x) \\cos nx dx \\quad(n=1,2,3 \\cdots) \\\\\n",
    "b_{n}&=\\frac{1}{\\pi} \\int_{-\\pi}^{\\pi} f(x) \\sin n x d x \\quad(n=1,2,3 \\cdots)\n",
    "\\end{align}\n",
    "$$ -->\n",
    "\n",
    "$$\n",
    "\\begin{align}\n",
    "a_0 &= \\frac{1}{2 \\pi} \\int_{-\\pi}^{\\pi} f(x) dx \\\\\n",
    "&= \\frac{1}{2 \\pi} \\left\\{ \\int_{-\\pi}^{0} 1 dt + \\int_{0}^{\\pi} 0 dt \\right\\} \\\\\n",
    "&= \\frac{1}{2 \\pi} \\left [ t \\right ]^{0}_{-\\pi} \\\\\n",
    "&= \\frac{1}{2 \\pi} \\left \\{ 0 + \\pi \\right \\} = \\frac{1}{2}\n",
    "\\end{align}\n",
    "$$\n",
    "\n",
    "続いて，フーリエ係数 $a_k$ は以下のように計算できる．\n",
    "\n",
    "$$\n",
    "\\begin{align}\n",
    "a_k &= \\frac{1}{\\pi} \\int_{-\\pi}^{\\pi} f(x) \\cos kx dx \\\\\n",
    "&= \\frac{1}{\\pi} \\left\\{ \\int_{-\\pi}^{0} 1 \\cdot \\cos kx dx + \\int_{0}^{\\pi} 0 \\cdot \\cos kx dx \\right\\} \\\\\n",
    "&= \\frac{1}{\\pi} \\left [ \\frac{1}{k} \\sin kx \\right ]^{0}_{\\pi} \\\\\n",
    "&= \\frac{1}{\\pi} \\left \\{ \\frac{1}{k} \\sin 0 - \\frac{1}{k} \\sin \\left ( -k \\pi \\right ) \\right \\} \\\\\n",
    "&= \\frac{1}{k\\pi} \\sin k\\pi = 0\n",
    "\\end{align}\n",
    "$$\n",
    "\n",
    "最後に，フーリエ係数 $b_k$ は以下のように計算できる．\n",
    "\n",
    "$$\n",
    "\\begin{align}\n",
    "b_k &= \\frac{1}{\\pi} \\int_{-\\pi}^{\\pi} f(x) \\sin kx dx \\\\\n",
    "&= \\frac{1}{\\pi} \\left\\{ \\int_{-\\pi}^{0} 1 \\cdot \\sin kx dx + \\int_{0}^{\\pi} 0 \\cdot \\sin kx dx \\right\\} \\\\\n",
    "&= \\frac{1}{\\pi} \\left [ - \\frac{1}{k} \\cos kx \\right ]^{0}_{\\pi} \\\\\n",
    "&= \\frac{1}{\\pi} \\left \\{ - \\frac{1}{k} \\cos 0 + \\frac{1}{k} \\cos \\left ( -k \\pi \\right ) \\right \\} \\\\\n",
    "&= - \\frac{1}{k \\pi} \\left (1 - \\cos k \\pi \\right ) \\\\\n",
    "&= - \\frac{1}{k \\pi} \\left \\{1 - \\left ( -1 \\right )^k \\right \\} \\\\\n",
    "\\end{align}\n",
    "$$\n",
    "\n",
    "以上より，フーリエ係数が以下のように計算された．\n",
    "\n",
    "$$\n",
    "\\begin{align}\n",
    "a_0 = 1, \\quad a_k = 0, \\quad b_k = - \\frac{1}{k \\pi} \\left \\{1 - \\left ( -1 \\right )^k \\right \\}\n",
    "\\end{align}\n",
    "$$\n",
    "\n",
    "これをフーリエ級数展開の式に代入する．\n",
    "\n",
    "$$\n",
    "\\begin{align}\n",
    "f(t) &\\approx a_0 + \\sum_{n=1}^{\\infty} (a_k \\cos kx + b_k \\sin kx) \\\\\n",
    "&= \\frac{1}{2} + \\sum_{k=1}^{\\infty} \\left [0 \\cdot \\cos kx - \\frac{1}{k \\pi} \\left \\{1 - \\left ( -1 \\right )^k \\right \\} \\sin kx \\right] \\\\\n",
    "&= \\frac{1}{2}  - \\frac{1}{\\pi} \\sum_{k=1}^{\\infty} \\left [ \\frac{\\left \\{1 - \\left ( -1 \\right )^k \\right \\}}{k} \\sin kx \\right] \\\\\n",
    "&= \\frac{1}{2}  - \\frac{2}{\\pi} \\sum_{n=1}^{\\infty} \\left [ \\frac{1}{2n - 1} \\sin (2n-1)x \\right] \\\\\n",
    "&= \\frac{1}{2}  - \\frac{2}{\\pi} \\left ( \\sin x + \\frac{1}{3} \\sin 3x + \\frac{1}{5} \\sin 5x + \\cdots  \\right )\n",
    "\\end{align}\n",
    "$$\n",
    "\n",
    "以上より，与えられた関数 $f(t)$ のフーリエ級数展開を求めることができた．\n",
    "\n",
    "**補足**  \n",
    "3行目から4行目の変換は $k$ が偶数のときは項が0となるので奇数のみを扱うよう $k=2n-1$ として式を整理している．\n",
    "````"
   ]
  },
  {
   "cell_type": "markdown",
   "id": "e2ac1ae3",
   "metadata": {},
   "source": [
    "### Pythonによるフーリエ級数展開の実装\n",
    "では，本日説明したフーリエ級数展開をPythonで実装する．まずは時刻 $t$ の関数 $f(t)$ を定義する．"
   ]
  },
  {
   "cell_type": "code",
   "execution_count": null,
   "id": "03bd3919",
   "metadata": {},
   "outputs": [],
   "source": [
    "from sympy import symbols, cos, sin, pi\n",
    "x = symbols('x')\n",
    "\n",
    "f = 1 + 0.25 * cos(x) -1.1 * sin(2*x) + cos(3*x) - 0.4 * sin(4*x)\n",
    "f"
   ]
  },
  {
   "cell_type": "code",
   "execution_count": null,
   "id": "2260dd3b",
   "metadata": {},
   "outputs": [],
   "source": [
    "from sympy.plotting import plot\n",
    "plot(f, xlim=(-pi, pi) , ylim=(-5, 5))"
   ]
  },
  {
   "cell_type": "markdown",
   "id": "31e0a85e",
   "metadata": {},
   "source": [
    "導出したフーリエ係数 $a_0, a_k, b_k$ を実装する．"
   ]
  },
  {
   "cell_type": "code",
   "execution_count": null,
   "id": "ca33d804",
   "metadata": {},
   "outputs": [],
   "source": [
    "from sympy import Integral\n",
    "k = symbols('k')\n",
    "a_0 = Integral(f, (x, -pi, pi)) / (2 * pi)\n",
    "a_0"
   ]
  },
  {
   "cell_type": "code",
   "execution_count": null,
   "id": "2dc5bf07",
   "metadata": {},
   "outputs": [],
   "source": [
    "a_k = Integral(f * cos(k * x), (x, -pi, pi)) / pi\n",
    "a_k"
   ]
  },
  {
   "cell_type": "code",
   "execution_count": null,
   "id": "cdbc0c99",
   "metadata": {},
   "outputs": [],
   "source": [
    "b_k = Integral(f * sin(k * x), (x, -pi, pi)) / pi\n",
    "b_k"
   ]
  },
  {
   "cell_type": "markdown",
   "id": "a778548e",
   "metadata": {},
   "source": [
    "定義できたので，フーリエ係数の計算を実行する．今回は$k=3$まで展開してみよう．具体的には$k$番目の項を変数として定義していたので`subs()`で代入し，上記で定義した$a_k,b_k$の積分を`.doit()`で実行できる．"
   ]
  },
  {
   "cell_type": "code",
   "execution_count": null,
   "id": "519f3d48",
   "metadata": {},
   "outputs": [],
   "source": [
    "a_0.doit()"
   ]
  },
  {
   "cell_type": "code",
   "execution_count": null,
   "id": "e98b6240",
   "metadata": {},
   "outputs": [],
   "source": [
    "a_1 = a_k.subs(k, 1).doit()\n",
    "a_1"
   ]
  },
  {
   "cell_type": "code",
   "execution_count": null,
   "id": "52a8e873",
   "metadata": {},
   "outputs": [],
   "source": [
    "a_2 = a_k.subs(k, 2).doit()\n",
    "a_2"
   ]
  },
  {
   "cell_type": "code",
   "execution_count": null,
   "id": "2c74d885",
   "metadata": {},
   "outputs": [],
   "source": [
    "a_3 = a_k.subs(k, 3).doit()\n",
    "a_3"
   ]
  },
  {
   "cell_type": "code",
   "execution_count": null,
   "id": "93b6943b",
   "metadata": {},
   "outputs": [],
   "source": [
    "b_0 = b_k.subs(k, 0).doit()\n",
    "b_0"
   ]
  },
  {
   "cell_type": "code",
   "execution_count": null,
   "id": "a5d5993a",
   "metadata": {},
   "outputs": [],
   "source": [
    "b_1 = b_k.subs(k, 1).doit()\n",
    "b_1"
   ]
  },
  {
   "cell_type": "code",
   "execution_count": null,
   "id": "af33a33e",
   "metadata": {},
   "outputs": [],
   "source": [
    "b_2 = b_k.subs(k, 2).doit()\n",
    "b_2"
   ]
  },
  {
   "cell_type": "code",
   "execution_count": null,
   "id": "ce7766ef",
   "metadata": {},
   "outputs": [],
   "source": [
    "b_3 = b_k.subs(k, 3).doit()\n",
    "b_3"
   ]
  },
  {
   "cell_type": "markdown",
   "id": "c935378e",
   "metadata": {},
   "source": [
    "計算された $k=3$ までのフーリエ係数をもとにフーリエ級数展開する．"
   ]
  },
  {
   "cell_type": "code",
   "execution_count": null,
   "id": "fdac3e3a",
   "metadata": {},
   "outputs": [],
   "source": [
    "ff_approx = a_0.doit() + a_1 * cos(x) + b_1 * sin(x) + a_2 * cos(2*x) + b_2 * sin(2*x) + a_3 * cos(3*x) + b_3 * sin(3*x)"
   ]
  },
  {
   "cell_type": "markdown",
   "id": "d84439f6",
   "metadata": {},
   "source": [
    "`omega_0`は変数`T`を含むので`subs()`で代入する．"
   ]
  },
  {
   "cell_type": "code",
   "execution_count": null,
   "id": "ee890379",
   "metadata": {},
   "outputs": [],
   "source": [
    "ff_approx"
   ]
  },
  {
   "cell_type": "markdown",
   "id": "0b6b2be1",
   "metadata": {},
   "source": [
    "近似対象と比較をするために同時にプロットしてみる．"
   ]
  },
  {
   "cell_type": "code",
   "execution_count": null,
   "id": "1977ebd5",
   "metadata": {},
   "outputs": [],
   "source": [
    "plot(f, ff_approx, xlim=(-pi, pi))"
   ]
  },
  {
   "cell_type": "markdown",
   "id": "7fe14189",
   "metadata": {},
   "source": [
    "区間外もプロットしてみる．"
   ]
  },
  {
   "cell_type": "code",
   "execution_count": null,
   "id": "7c7573b5",
   "metadata": {},
   "outputs": [],
   "source": [
    "plot(f, ff_approx, xlim=(-2*pi, 2*pi))"
   ]
  },
  {
   "cell_type": "code",
   "execution_count": null,
   "id": "d07213c2",
   "metadata": {},
   "outputs": [],
   "source": []
  }
 ],
 "metadata": {
  "kernelspec": {
   "display_name": "Python 3 (ipykernel)",
   "language": "python",
   "name": "python3"
  },
  "language_info": {
   "codemirror_mode": {
    "name": "ipython",
    "version": 3
   },
   "file_extension": ".py",
   "mimetype": "text/x-python",
   "name": "python",
   "nbconvert_exporter": "python",
   "pygments_lexer": "ipython3",
   "version": "3.9.13"
  }
 },
 "nbformat": 4,
 "nbformat_minor": 5
}
