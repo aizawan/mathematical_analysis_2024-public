{
 "cells": [
  {
   "cell_type": "markdown",
   "metadata": {},
   "source": [
    "# フーリエ変換"
   ]
  },
  {
   "cell_type": "code",
   "execution_count": null,
   "metadata": {},
   "outputs": [],
   "source": [
    "import numpy as np\n",
    "from skimage import data\n",
    "import matplotlib.pyplot as plt\n",
    "%matplotlib inline"
   ]
  },
  {
   "cell_type": "code",
   "execution_count": null,
   "metadata": {},
   "outputs": [],
   "source": [
    "img = data.camera()\n",
    "\n",
    "plt.imshow(img)"
   ]
  },
  {
   "cell_type": "code",
   "execution_count": null,
   "metadata": {},
   "outputs": [],
   "source": [
    "freq = np.fft.fft2(img)\n",
    "freq_shift = np.fft.fftshift(freq)\n",
    "spectrum = np.log(np.abs(freq_shift))\n",
    "\n",
    "plt.imshow(spectrum)"
   ]
  },
  {
   "cell_type": "code",
   "execution_count": null,
   "metadata": {},
   "outputs": [],
   "source": [
    "np.min(freq.real), np.max(freq.real), np.mean(freq.real)"
   ]
  },
  {
   "cell_type": "code",
   "execution_count": null,
   "metadata": {},
   "outputs": [],
   "source": [
    "from skimage.transform import resize\n",
    "img_32 = resize(img, (32, 32))\n",
    "\n",
    "plt.imshow(img_32)"
   ]
  },
  {
   "cell_type": "code",
   "execution_count": null,
   "metadata": {},
   "outputs": [],
   "source": [
    "freq_32 = np.fft.fft2(img_32)\n",
    "freq_shift_32 = np.fft.fftshift(freq_32)\n",
    "spectrum_32 = np.log(np.abs(freq_shift_32))\n",
    "\n",
    "plt.imshow(spectrum_32)"
   ]
  },
  {
   "cell_type": "code",
   "execution_count": null,
   "metadata": {},
   "outputs": [],
   "source": [
    "img_32_512 = resize(img_32, (512, 512), order=0)\n",
    "\n",
    "plt.imshow(img_32_512)"
   ]
  },
  {
   "cell_type": "code",
   "execution_count": null,
   "metadata": {},
   "outputs": [],
   "source": [
    "freq_32_512 = np.fft.fft2(img_32_512)\n",
    "freq_shift_32_512 = np.fft.fftshift(freq_32_512)\n",
    "spectrum_32_512 = np.log(np.abs(freq_shift_32_512))\n",
    "\n",
    "plt.imshow(spectrum_32_512)"
   ]
  },
  {
   "cell_type": "code",
   "execution_count": null,
   "metadata": {},
   "outputs": [],
   "source": []
  },
  {
   "cell_type": "code",
   "execution_count": null,
   "metadata": {},
   "outputs": [],
   "source": []
  }
 ],
 "metadata": {
  "kernelspec": {
   "display_name": "Python 3.8.8 ('py38-ml')",
   "language": "python",
   "name": "python3"
  },
  "language_info": {
   "codemirror_mode": {
    "name": "ipython",
    "version": 3
   },
   "file_extension": ".py",
   "mimetype": "text/x-python",
   "name": "python",
   "nbconvert_exporter": "python",
   "pygments_lexer": "ipython3",
   "version": "3.9.13"
  },
  "orig_nbformat": 4,
  "vscode": {
   "interpreter": {
    "hash": "393df73654aeede13ebb91076020de1190a2bd60e987ac18d822283f0caa6730"
   }
  }
 },
 "nbformat": 4,
 "nbformat_minor": 2
}
