{
 "cells": [
  {
   "cell_type": "markdown",
   "id": "be0f83d0",
   "metadata": {},
   "source": [
    "# 変数分離法"
   ]
  },
  {
   "cell_type": "markdown",
   "id": "789b374d",
   "metadata": {},
   "source": [
    "変数分離形とは，微分方程式の関数 $f(x,y)$が$x$と$y$のそれぞれの関数$g(x),h(y)$に分離できるときに利用できる解法である．すなわち，\n",
    "\n",
    "$$\n",
    "\\begin{align}\n",
    "\\frac{dy}{dx} = g(x)h(y)\n",
    "\\end{align}\n",
    "$$\n",
    "\n",
    "に式変形できるときに利用される方法である．変数分離形は常微分方程式の解法の中でも最も基本的で強力な解法の一つであるので，実際に計算し，身につけてほしい．"
   ]
  },
  {
   "cell_type": "markdown",
   "id": "a4a378c1",
   "metadata": {},
   "source": [
    "## 変数分離形の解法\n",
    "与えられた一階常微分方程式が上記のような形状に式変形可能であるとき，次のステップを踏むことで未知関数 $y=y(x)$ を計算できる．\n",
    "\n",
    "まず，前述した分離形の微分方程式の両辺に$dx$をかけると以下のようになる\n",
    "\n",
    "$$\n",
    "\\begin{align}\n",
    "dy = g(x)h(y)dx\n",
    "\\end{align}\n",
    "$$\n",
    "\n",
    "続いて，両辺を$h(y)$で割ると以下のようになる．\n",
    "\n",
    "$$\n",
    "\\begin{align}\n",
    "\\frac{1}{h(y)}dy = g(x)dx\n",
    "\\end{align}\n",
    "$$\n",
    "\n",
    "式を見てわかるように，$x$と$y$の項がそれぞれ両辺に移項できたことがわかる．最後に両辺を積分する．\n",
    "\n",
    "$$\n",
    "\\begin{align}\n",
    "\\int\\frac{1}{h(y)}dy = \\int g(x)dx\n",
    "\\end{align}\n",
    "$$\n",
    "\n",
    "この積分を実行することで微分方程式の解である未知関数 $y(x)$を求めることができる．"
   ]
  },
  {
   "cell_type": "markdown",
   "id": "671d6cb5",
   "metadata": {},
   "source": [
    "## 変数分離形の具体例\n",
    "では，次の微分方程式を変数分離形で解いてみよう．以下の微分方程式は $g(x)=1, h(y)=y$のときの場合である．\n",
    "\n",
    "$$\n",
    "\\begin{align}\n",
    "\\frac{dy}{dx} = y\n",
    "\\end{align}\n",
    "$$\n",
    "\n",
    "解答はクリックで確認できる．\n",
    "\n",
    "````{toggle}\n",
    "まず，左辺に $y$ のみ，右辺に $x$ の項のみとなるように整理すると，\n",
    "\n",
    "$$\n",
    "\\begin{align}\n",
    "\\frac{dy}{y} = dx\n",
    "\\end{align}\n",
    "$$\n",
    "\n",
    "となる．続いて，両辺を積分することを考える．\n",
    "\n",
    "$$\n",
    "\\begin{align}\n",
    "\\int \\frac{dy}{y} = \\int dx\n",
    "\\end{align}\n",
    "$$\n",
    "\n",
    "より，積分すると以下となる．\n",
    "\n",
    "$$\n",
    "\\begin{align}\n",
    "\\log |y| = x + C'\n",
    "\\end{align}\n",
    "$$\n",
    "\n",
    "\n",
    "ここで本来ならば，左辺の積分定数 $C_1$ と右辺の積分定数 $C_2$ が存在するがまとめて $C'=C_1 + C_2$ としている．対数の定義より，$\\log |y| = x \\rightarrow e^x = |y|$ であり，絶対値を外すと，$y=\\pm e^x$ となる．よって一般解は，\n",
    "\n",
    "$$\n",
    "\\begin{align}\n",
    "|y| &= e^{x + C'} \\\\\n",
    "y &= \\pm e^{C'} e^x \\\\\n",
    "y & = C e^x\n",
    "\\end{align}\n",
    "$$\n",
    "\n",
    "となる．ただし，$C=\\pm e^{C'}$ としている．以上より，与えられた微分方程式を変数分離形で解くことができた．\n",
    "````"
   ]
  },
  {
   "cell_type": "markdown",
   "id": "607df1ff",
   "metadata": {},
   "source": [
    "## Pythonによる実装\n",
    "では，上記の微分方程式をsympyで解く．単一のセルで作成したが，各行での動作は前回の講義のようにStep-by-stepで確認されたい．"
   ]
  },
  {
   "cell_type": "code",
   "execution_count": null,
   "id": "c5e5185f",
   "metadata": {},
   "outputs": [],
   "source": [
    "from sympy import symbols, Eq, Derivative, Function, dsolve\n",
    "\n",
    "# 変数と未知関数の定義\n",
    "x = symbols('x')\n",
    "y = Function('y')(x)\n",
    "\n",
    "# dy/dxの定義\n",
    "dy = Derivative(y, x)\n",
    "\n",
    "# 微分方程式の定義\n",
    "eq = Eq(dy, y)\n",
    "\n",
    "# 微分方程式を解く\n",
    "y_ = dsolve(eq, y)\n",
    "y_"
   ]
  },
  {
   "cell_type": "markdown",
   "id": "9edf44be",
   "metadata": {},
   "source": [
    "手計算と結果が一致することを確認されたい．最後に解集合を可視化する．"
   ]
  },
  {
   "cell_type": "code",
   "execution_count": null,
   "id": "2c165e61",
   "metadata": {},
   "outputs": [],
   "source": [
    "import numpy as np\n",
    "from sympy import plotting\n",
    "import matplotlib.pyplot as plt\n",
    "\n",
    "N = 10\n",
    "\n",
    "eqs = []\n",
    "for c in np.linspace(-3, 3, N):\n",
    "    eqs.append(y_.rhs.subs(symbols('C1'), c))\n",
    "p = plotting.plot(*eqs, (x, -2, 2), show=False)\n",
    "\n",
    "cm = plt.get_cmap('magma', N)\n",
    "for i in range(cm.N):\n",
    "    p[i].line_color = cm(i)\n",
    "p.show()\n"
   ]
  },
  {
   "cell_type": "markdown",
   "id": "8011d1e9",
   "metadata": {},
   "source": [
    "## 置換による変数分離形への帰着\n",
    "微分方程式によっては置換により変数分離形に帰着できる形がある．具体的に，\n",
    "\n",
    "$$\n",
    "\\frac{dy}{dx} = f(y + ax + b)\n",
    "$$\n",
    "\n",
    "のような微分方程式を考える．このような微分方程式では直接的に変数分離することはできない．\n",
    "\n",
    "そこで，$u = y + ax + b$ で置換する．このとき\n",
    "\n",
    "$$\n",
    "\\frac{du}{dx} = \\frac{dy}{dx} + a\n",
    "$$\n",
    "\n",
    "となる．これを与えられた微分方程式に代入すると\n",
    "\n",
    "$$\n",
    "\\begin{align}\n",
    "\\frac{du}{dx} - a &= f(u) \\\\\n",
    "\\frac{du}{dx} &= f(u) + a \\\\\n",
    "\\end{align}\n",
    "$$\n",
    "\n",
    "となり，変数分離形に帰着できる．\n",
    "\n",
    "そして，\n",
    "\n",
    "$$\n",
    "\\begin{align}\n",
    "\\frac{du}{dx} - a &= f(u) \\\\\n",
    "\\frac{1}{f(u) - a} du &= dx \\\\\n",
    "\\end{align}\n",
    "$$\n",
    "\n",
    "となり，両辺を積分すると\n",
    "\n",
    "$$\n",
    "\\begin{align}\n",
    "\\int \\frac{1}{f(u) - a} du &= \\int dx \\\\\n",
    "\\int \\frac{1}{f(u) - a} du &= x + C \\\\\n",
    "\\end{align}\n",
    "$$\n",
    "\n",
    "で一般解を導出できる．ただし，$C$は任意定数とする．"
   ]
  },
  {
   "cell_type": "markdown",
   "id": "27d0c070",
   "metadata": {},
   "source": [
    "## 置換による変数分離形の具体例\n",
    "\n",
    "次の微分方程式を解く．\n",
    "\n",
    "$$\n",
    "\\frac{dy}{dx} = \\frac{1}{y+x} - 1\n",
    "$$\n",
    "\n",
    "解答はクリックで確認できる．\n",
    "\n",
    "````{toggle}\n",
    "\n",
    "ここで．$u=y+x$として一般解を求める．\n",
    "\n",
    "このとき，両辺を $x$ で微分したときの導関数は次のようになる．\n",
    "\n",
    "$$\n",
    "\\frac{du}{dx} = \\frac{dy}{dx} + 1\n",
    "$$\n",
    "\n",
    "これを与えられた微分方程式に代入し，変形すると．\n",
    "\n",
    "$$\n",
    "\\begin{align}\n",
    "\\frac{du}{dx} - 1 &= \\frac{1}{u} - 1 \\\\\n",
    "\\frac{du}{dx}  &= \\frac{1}{u}\n",
    "\\end{align}\n",
    "$$\n",
    "\n",
    "これを変数分離形として解く．\n",
    "\n",
    "$$\n",
    "\\begin{align}\n",
    "\\frac{du}{dx} - 1 &= \\frac{1}{u} - 1 \\\\\n",
    "u du  &= dx\n",
    "\\end{align}\n",
    "$$\n",
    "\n",
    "両辺を積分し，整理する．\n",
    "\n",
    "$$\n",
    "\\begin{align}\n",
    "\\int u du  &= \\int dx \\\\\n",
    "\\frac{1}{2} u^2 &= x + C \\\\\n",
    "\\frac{1}{2} (y+x)^2 &= x + C\n",
    "\\end{align}\n",
    "$$\n",
    "\n",
    "これを $y$ について解く．\n",
    "\n",
    "$$\n",
    "y = -x \\pm \\sqrt{2x + 2C}\n",
    "$$\n",
    "\n",
    "以上より一般解が得られた．\n",
    "````"
   ]
  },
  {
   "cell_type": "markdown",
   "id": "3dd3dfdb",
   "metadata": {},
   "source": [
    "## Pythonによる実装\n",
    "では，上記の微分方程式をsympyで解く．"
   ]
  },
  {
   "cell_type": "code",
   "execution_count": null,
   "id": "ad95c53b",
   "metadata": {},
   "outputs": [],
   "source": [
    "from sympy import symbols, Eq, Derivative, Function, dsolve\n",
    "\n",
    "# 変数と未知関数の定義\n",
    "x = symbols('x')\n",
    "y = Function('y')(x)\n",
    "\n",
    "# dy/dxの定義\n",
    "dy = Derivative(y, x)\n",
    "\n",
    "# 微分方程式の定義\n",
    "eq = Eq(dy, 1 / (y + x) - 1)\n",
    "\n",
    "# 微分方程式を解く\n",
    "y_ = dsolve(eq, y)"
   ]
  },
  {
   "cell_type": "markdown",
   "id": "f53f32ee",
   "metadata": {},
   "source": [
    "このとき手計算した一般解からもわかるように二つの一般解を持つことに注意する．"
   ]
  },
  {
   "cell_type": "code",
   "execution_count": null,
   "id": "abc0d6b8",
   "metadata": {},
   "outputs": [],
   "source": [
    "y_[0]"
   ]
  },
  {
   "cell_type": "code",
   "execution_count": null,
   "id": "6ef5bece",
   "metadata": {},
   "outputs": [],
   "source": [
    "y_[1]"
   ]
  },
  {
   "cell_type": "code",
   "execution_count": null,
   "id": "d6f5c61b",
   "metadata": {},
   "outputs": [],
   "source": [
    "import numpy as np\n",
    "from sympy import plotting\n",
    "import matplotlib.pyplot as plt\n",
    "\n",
    "N = 10\n",
    "\n",
    "eqs = []\n",
    "for c in np.linspace(-3, 3, N):\n",
    "    eqs.append(y_[0].rhs.subs(symbols('C1'), c))\n",
    "    eqs.append(y_[1].rhs.subs(symbols('C1'), c))\n",
    "p = plotting.plot(*eqs, (x, -2, 2), show=False)\n",
    "\n",
    "cm = plt.get_cmap('magma', N*2)\n",
    "for i in range(0, cm.N, 2):\n",
    "    p[i].line_color = cm(i)\n",
    "    p[i+1].line_color = cm(i)\n",
    "p.show()"
   ]
  },
  {
   "cell_type": "markdown",
   "id": "a92343f0",
   "metadata": {},
   "source": []
  }
 ],
 "metadata": {
  "kernelspec": {
   "display_name": "Python 3 (ipykernel)",
   "language": "python",
   "name": "python3"
  },
  "language_info": {
   "codemirror_mode": {
    "name": "ipython",
    "version": 3
   },
   "file_extension": ".py",
   "mimetype": "text/x-python",
   "name": "python",
   "nbconvert_exporter": "python",
   "pygments_lexer": "ipython3",
   "version": "3.9.-1"
  },
  "vscode": {
   "interpreter": {
    "hash": "c558876ffd71b3528bcdaaa45c5eeebe18905a0bd68c09a6b765c00e31df719e"
   }
  }
 },
 "nbformat": 4,
 "nbformat_minor": 5
}
