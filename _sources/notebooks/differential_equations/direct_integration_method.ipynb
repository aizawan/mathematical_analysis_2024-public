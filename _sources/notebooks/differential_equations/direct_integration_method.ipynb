{
 "cells": [
  {
   "cell_type": "markdown",
   "id": "be0f83d0",
   "metadata": {},
   "source": [
    "# 直接積分形"
   ]
  },
  {
   "cell_type": "markdown",
   "id": "1943cd9f",
   "metadata": {},
   "source": [
    "次の一階常微分方程式と呼ばれる微分方程式をこれまでの微積分の知識を使って解くことを試みる．関数 $f(x,y)$ が変数$x$にのみ依存した関数$g(x)$であるときの場合を考える．すなわち，\n",
    "\n",
    "$$\n",
    "\\begin{align}\n",
    "\\frac{dy}{dx} = g(x)\n",
    "\\end{align}\n",
    "$$\n",
    "\n",
    "の関数の形式の微分方程式である．前述の例は $g(x)=x$ のときの直接積分形による解法である．"
   ]
  },
  {
   "cell_type": "markdown",
   "id": "822804e0",
   "metadata": {},
   "source": [
    "## 直接積分形の解法\n",
    "与えられた一階常微分方程式が上記のような形状に変形可能であるとき，次のステップを踏むことで未知関数 $y=y(x)$ を計算できる．\n",
    "\n",
    "まず，微分方程式の両辺に$dx$をかけると以下のようになる\n",
    "\n",
    "$$\n",
    "\\begin{align}\n",
    "dy = g(x)dx\n",
    "\\end{align}\n",
    "$$\n",
    "\n",
    "式を見てわかるように，$x$と$y$の項がそれぞれ両辺に移項できたことがわかる．続いて両辺を積分する．\n",
    "\n",
    "$$\n",
    "\\begin{align}\n",
    "\\int dy = \\int g(x)dx\n",
    "\\end{align}\n",
    "$$\n",
    "\n",
    "この積分を求めるとで以下の微分方程式の解である未知関数 $y(x)$が得られる．\n",
    "\n",
    "$$\n",
    "\\begin{align}\n",
    "y(x) = \\int g(x) dx + C\n",
    "\\end{align}\n",
    "$$\n",
    "\n",
    "ただし，$C$は積分定数である．これは後述する変数分離法で$y$に関する項がないときの特殊な形式である．"
   ]
  },
  {
   "cell_type": "markdown",
   "id": "4f7b356d",
   "metadata": {},
   "source": [
    "## 直接積分形の具体例\n",
    "では，次の微分方程式の直接積分形で解いてみよう．以下の微分方程式は $g(x)=x^2+1$ のときの場合である．\n",
    "\n",
    "$$\n",
    "\\begin{align}\n",
    "\\frac{dy}{dx} = x^2 + 1\n",
    "\\end{align}\n",
    "$$\n",
    "\n",
    "解答はクリックで確認できる．\n",
    "\n",
    "````{toggle}\n",
    "\n",
    "まず，両辺に $dx$ をかけると以下のようになる．\n",
    "\n",
    "$$\n",
    "\\begin{align}\n",
    "dy = \\left(x^2 + 1\\right) dx\n",
    "\\end{align}\n",
    "$$\n",
    "\n",
    "続いて，両辺を積分することを考える．\n",
    "\n",
    "$$\n",
    "\\begin{align}\n",
    "\\int 1 dy = \\int \\left(x^2 + 1\\right) dx\n",
    "\\end{align}\n",
    "$$\n",
    "\n",
    "積分すると以下の微分方程式の解が得られる．\n",
    "\n",
    "$$\n",
    "\\begin{align}\n",
    "y = \\frac{x^3}{3} + x + C\n",
    "\\end{align}\n",
    "$$\n",
    "\n",
    "ただし，$C$は積分定数である．実際に結果を微分した結果も確認されたい．与えられた微分方程式になるはずである．\n",
    "````"
   ]
  },
  {
   "cell_type": "markdown",
   "id": "f698d68a",
   "metadata": {},
   "source": [
    "## Pythonによる実装\n",
    "上記の微分方程式をsympyで実装する．前述した式変形はあくまでも手計算での方法であり，sympyを利用すると（シンボリックに計算できる微分方程式の形式であれば）式変形なしに解を求めることができる．"
   ]
  },
  {
   "cell_type": "code",
   "execution_count": null,
   "id": "07ad5e68",
   "metadata": {},
   "outputs": [],
   "source": [
    "from sympy import symbols, Eq, Derivative, Function, dsolve\n",
    "\n",
    "# 変数と未知関数の定義\n",
    "x = symbols('x')\n",
    "y = Function('y')(x)\n",
    "\n",
    "# dy/dxの定義\n",
    "dy = Derivative(y, x)\n",
    "\n",
    "# 微分方程式の定義\n",
    "eq = Eq(dy, x**2+1)\n",
    "\n",
    "# 微分方程式を解く\n",
    "y_ = dsolve(eq, y)\n",
    "y_"
   ]
  },
  {
   "cell_type": "markdown",
   "id": "0f0935c3",
   "metadata": {},
   "source": [
    "一般解もプロットしてみる．前述した愚直に $C$ を代入する方法ではなくここではリストを使ってプロットする方法を紹介する．"
   ]
  },
  {
   "cell_type": "code",
   "execution_count": null,
   "id": "e00434c7",
   "metadata": {},
   "outputs": [],
   "source": [
    "import numpy as np\n",
    "from sympy import plotting\n",
    "import matplotlib.pyplot as plt\n",
    "\n",
    "N = 10\n",
    "\n",
    "eqs = []\n",
    "for c in np.linspace(-3, 3, N):\n",
    "    eqs.append(y_.rhs.subs(symbols('C1'), c))\n",
    "p = plotting.plot(*eqs, (x, -2, 2), show=False)\n",
    "\n",
    "cm = plt.get_cmap('magma', N)\n",
    "for i in range(cm.N):\n",
    "    p[i].line_color = cm(i)\n",
    "p.show()"
   ]
  }
 ],
 "metadata": {
  "kernelspec": {
   "display_name": "Python 3 (ipykernel)",
   "language": "python",
   "name": "python3"
  },
  "language_info": {
   "codemirror_mode": {
    "name": "ipython",
    "version": 3
   },
   "file_extension": ".py",
   "mimetype": "text/x-python",
   "name": "python",
   "nbconvert_exporter": "python",
   "pygments_lexer": "ipython3",
   "version": "3.9.13"
  },
  "vscode": {
   "interpreter": {
    "hash": "c558876ffd71b3528bcdaaa45c5eeebe18905a0bd68c09a6b765c00e31df719e"
   }
  }
 },
 "nbformat": 4,
 "nbformat_minor": 5
}
