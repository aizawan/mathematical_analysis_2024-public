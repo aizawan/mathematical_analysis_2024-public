{
 "cells": [
  {
   "attachments": {},
   "cell_type": "markdown",
   "id": "be0f83d0",
   "metadata": {},
   "source": [
    "# 第7回: 課題ファイル"
   ]
  },
  {
   "attachments": {},
   "cell_type": "markdown",
   "id": "38f11f05",
   "metadata": {},
   "source": [
    "## 課題1\n",
    "**課題1-1:** 次の微分方程式の一般解を求めよ．（手計算）\n",
    "\n",
    "$$\n",
    "\\frac{d^2y}{dx^2} + 2\\frac{dy}{dx} + \\frac{1}{4}y = 0\n",
    "$$\n"
   ]
  },
  {
   "attachments": {},
   "cell_type": "markdown",
   "id": "6fe2ec19",
   "metadata": {},
   "source": [
    "**課題1-2:** 次の微分方程式の一般解を求めよ．（手計算）\n",
    "\n",
    "$$\n",
    "\\frac{d^2y}{dx^2} + 4\\frac{dy}{dx} + 4y = 0\n",
    "$$\n"
   ]
  },
  {
   "attachments": {},
   "cell_type": "markdown",
   "id": "1066f5fe",
   "metadata": {},
   "source": [
    "**課題1-3:** 次の微分方程式の一般解を求めよ．（手計算）\n",
    "\n",
    "$$\n",
    "\\frac{d^2y}{dx^2} + \\frac{dy}{dx} + y = 0\n",
    "$$\n"
   ]
  },
  {
   "attachments": {},
   "cell_type": "markdown",
   "id": "716d9bad",
   "metadata": {},
   "source": [
    "## 課題2\n",
    "**課題2-1:** 次の微分方程式の一般解を求めよ．（手計算）\n",
    "\n",
    "$$\n",
    "\\frac{d^2y}{dx^2} + 2\\frac{dy}{dx} + y = 1\n",
    "$$"
   ]
  },
  {
   "attachments": {},
   "cell_type": "markdown",
   "id": "069883dd",
   "metadata": {},
   "source": [
    "**課題2-2:** 次の微分方程式の一般解を求めよ．（手計算）\n",
    "\n",
    "$$\n",
    "\\frac{d^2y}{dx^2} + 2\\frac{dy}{dx} + y = e^{-x}\n",
    "$$"
   ]
  }
 ],
 "metadata": {
  "kernelspec": {
   "display_name": "Python 3 (ipykernel)",
   "language": "python",
   "name": "python3"
  },
  "language_info": {
   "codemirror_mode": {
    "name": "ipython",
    "version": 3
   },
   "file_extension": ".py",
   "mimetype": "text/x-python",
   "name": "python",
   "nbconvert_exporter": "python",
   "pygments_lexer": "ipython3",
   "version": "3.9.13"
  }
 },
 "nbformat": 4,
 "nbformat_minor": 5
}
