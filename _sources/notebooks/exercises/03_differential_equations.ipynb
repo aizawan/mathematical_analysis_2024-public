{
 "cells": [
  {
   "attachments": {},
   "cell_type": "markdown",
   "id": "be0f83d0",
   "metadata": {},
   "source": [
    "# 第3回: 課題ファイル"
   ]
  },
  {
   "cell_type": "markdown",
   "id": "9dec401a",
   "metadata": {},
   "source": [
    "## 課題1\n",
    "**課題1-1:** 以下の微分方程式について線形か非線形かを判断し，理由の述べよ．\n",
    "\n",
    "$$\n",
    "\\begin{align}\n",
    "\\frac{dy}{dx} - y = x\n",
    "\\end{align}\n",
    "$$"
   ]
  },
  {
   "cell_type": "markdown",
   "id": "9553cb23",
   "metadata": {},
   "source": [
    "**課題1-2:** 定数 $C$ を消去して微分方程式を導け（手計算）．\n",
    "\n",
    "$$\n",
    "\\begin{align}\n",
    "x^2 = 4Cy\n",
    "\\end{align}\n",
    "$$"
   ]
  },
  {
   "cell_type": "markdown",
   "id": "4fb31649",
   "metadata": {},
   "source": [
    "**課題1-3:** $y=e^{-x}$は以下の微分方程式の解であることを示せ（手計算）．\n",
    "\n",
    "$$\n",
    "\\begin{align}\n",
    "\\frac{dy}{dx} + y = 0\n",
    "\\end{align}\n",
    "$$"
   ]
  },
  {
   "attachments": {},
   "cell_type": "markdown",
   "id": "889a9dc7",
   "metadata": {},
   "source": [
    "## 課題2\n",
    "**課題2-1:** 次の微分方程式の一般解を直接積分形で求めよ（手計算）．\n",
    "\n",
    "$$\n",
    "\\begin{align}\n",
    "\\frac{dy}{dx} = - x + 2\n",
    "\\end{align}\n",
    "$$"
   ]
  },
  {
   "attachments": {},
   "cell_type": "markdown",
   "id": "927f1180",
   "metadata": {},
   "source": [
    "**課題2-2:** 次の微分方程式の一般解を直接積分形で求めよ（手計算）．\n",
    "\n",
    "$$\n",
    "\\begin{align}\n",
    "\\frac{dy}{dx} = \\frac{1}{x} + x\n",
    "\\end{align}\n",
    "$$"
   ]
  },
  {
   "attachments": {},
   "cell_type": "markdown",
   "id": "075ee8ff",
   "metadata": {},
   "source": [
    "**課題2-3:** 次の微分方程式の一般解を直接積分形で求めよ（手計算）．\n",
    "\n",
    "$$\n",
    "\\begin{align}\n",
    "\\frac{dy}{dx} = e^{2x}\n",
    "\\end{align}\n",
    "$$"
   ]
  },
  {
   "attachments": {},
   "cell_type": "markdown",
   "id": "fe67b9f5",
   "metadata": {},
   "source": [
    "**課題2-4:** 次の微分方程式の一般解を直接積分形で求めよ（手計算）．\n",
    "\n",
    "$$\n",
    "\\begin{align}\n",
    "\\frac{dy}{dx} = \\sin(x) + 1\n",
    "\\end{align}\n",
    "$$"
   ]
  },
  {
   "cell_type": "markdown",
   "id": "ead6e711",
   "metadata": {},
   "source": [
    "**課題2-5:** 次の微分方程式の一般解を直接積分形で求めよ（手計算）．\n",
    "\n",
    "$$\n",
    "\\begin{align}\n",
    "\\frac{dy}{dx} - \\frac{1}{x^3} = 0\n",
    "\\end{align}\n",
    "$$"
   ]
  },
  {
   "attachments": {},
   "cell_type": "markdown",
   "id": "be194c4f",
   "metadata": {},
   "source": [
    "**課題2-6:** 課題2-1から2-5の微分方程式をsympyで実装し，手計算の結果と一致することを確認せよ．"
   ]
  },
  {
   "cell_type": "code",
   "execution_count": null,
   "id": "da958973",
   "metadata": {},
   "outputs": [],
   "source": [
    "# 解答用セル"
   ]
  }
 ],
 "metadata": {
  "kernelspec": {
   "display_name": "ml",
   "language": "python",
   "name": "python3"
  },
  "language_info": {
   "codemirror_mode": {
    "name": "ipython",
    "version": 3
   },
   "file_extension": ".py",
   "mimetype": "text/x-python",
   "name": "python",
   "nbconvert_exporter": "python",
   "pygments_lexer": "ipython3",
   "version": "3.9.7"
  },
  "vscode": {
   "interpreter": {
    "hash": "c558876ffd71b3528bcdaaa45c5eeebe18905a0bd68c09a6b765c00e31df719e"
   }
  }
 },
 "nbformat": 4,
 "nbformat_minor": 5
}
