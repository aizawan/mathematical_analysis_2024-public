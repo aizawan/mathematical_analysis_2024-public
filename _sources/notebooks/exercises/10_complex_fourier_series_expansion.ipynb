{
 "cells": [
  {
   "attachments": {},
   "cell_type": "markdown",
   "id": "be0f83d0",
   "metadata": {},
   "source": [
    "# 第10回: 課題ファイル"
   ]
  },
  {
   "attachments": {},
   "cell_type": "markdown",
   "id": "48ecbb9c",
   "metadata": {},
   "source": [
    "## 課題1\n",
    "**課題1-1:** 区間 $[-a, a]$ 上の以下の関数 $f(t)$ を複素フーリエ級数展開せよ．\n",
    "\n",
    "$$\n",
    "f(t) = t^2\n",
    "$$"
   ]
  },
  {
   "attachments": {},
   "cell_type": "markdown",
   "id": "70d99c23",
   "metadata": {},
   "source": [
    "**課題1-2:** 区間 $[-\\pi, \\pi]$ 上の以下の関数 $f(t)$ を複素フーリエ級数展開せよ．\n",
    "\n",
    "$$\n",
    "f(t) = \\begin{cases}\n",
    "0 & -\\pi < t < 0 \\\\\n",
    "1 & t = 0 \\\\\n",
    "2 & 0 < t \\leq \\pi\n",
    "\\end{cases}\n",
    "$$"
   ]
  },
  {
   "attachments": {},
   "cell_type": "markdown",
   "id": "691c283d",
   "metadata": {},
   "source": [
    "## 課題2\n",
    "**課題2-1:** 上記のサンプルコードを参考に，近似対象の関数や複素フーリエ級数の展開の項数を変更して結果を確認せよ．"
   ]
  },
  {
   "attachments": {},
   "cell_type": "markdown",
   "id": "2b2e4d32",
   "metadata": {},
   "source": [
    "## 課題3\n",
    "**課題3-1**: 区間 $[a,b]$ 上の複素数を含む関数 $f(x),g(x)$ の内積\n",
    "\n",
    "$$\n",
    "\\int_{a}^{b}\\ f(x) \\overline{g(x)} dx= 0\n",
    "$$\n",
    "\n",
    "について，なぜ $g(x)$ ではなく共役な複素数 $\\overline{g(x)}$ を考えるのか考察せよ．"
   ]
  }
 ],
 "metadata": {
  "kernelspec": {
   "display_name": "Python 3 (ipykernel)",
   "language": "python",
   "name": "python3"
  },
  "language_info": {
   "codemirror_mode": {
    "name": "ipython",
    "version": 3
   },
   "file_extension": ".py",
   "mimetype": "text/x-python",
   "name": "python",
   "nbconvert_exporter": "python",
   "pygments_lexer": "ipython3",
   "version": "3.9.13"
  }
 },
 "nbformat": 4,
 "nbformat_minor": 5
}
