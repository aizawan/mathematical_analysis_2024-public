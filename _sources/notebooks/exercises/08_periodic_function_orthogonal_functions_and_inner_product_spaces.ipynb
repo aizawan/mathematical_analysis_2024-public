{
 "cells": [
  {
   "attachments": {},
   "cell_type": "markdown",
   "id": "be0f83d0",
   "metadata": {},
   "source": [
    "# 第8回: 課題ファイル"
   ]
  },
  {
   "attachments": {},
   "cell_type": "markdown",
   "id": "74050f49",
   "metadata": {},
   "source": [
    "## 課題1\n",
    "**課題1-1:** 最小二乗法の説明において，$N$ 個の離散データ $\\{x_\\alpha \\}^N_{\\alpha=1}$ が与えられ，関数 $f(x), g(x)$ に対して，内積とノルムは次のように定義されていた．\n",
    "\n",
    "内積：\n",
    "\n",
    "$$\n",
    "\\left (f,g \\right ) = \\sum_{\\alpha=1}^N f \\left(x_\\alpha \\right) g \\left(x_\\alpha \\right)\n",
    "$$\n",
    "\n",
    "ノルム：\n",
    "\n",
    "$$\n",
    "\\left \\| f \\right \\| = \\sqrt{\\left (f,f\\right )} = \\sqrt{\\sum^{N}_{\\alpha=1} f \\left (x_\\alpha\\right )^2}\n",
    "$$\n",
    "\n",
    "この演算が内積の公理を満たすことを確かめよ（手計算もしくはSympy)．"
   ]
  },
  {
   "attachments": {},
   "cell_type": "markdown",
   "id": "849b01a9",
   "metadata": {},
   "source": [
    "**課題1-2:** $n$ 次元列ベクトル $\\mathbf{a}, \\mathbf{b}$ の内積とノルムは次のように定義されていた．\n",
    "\n",
    "内積：\n",
    "\n",
    "$$\n",
    "\\left (\\mathbf{a}, \\mathbf{b} \\right ) = \\sum_{i=1}^n a_i b_i\n",
    "$$\n",
    "\n",
    "ノルム：\n",
    "\n",
    "$$\n",
    "\\left \\| \\mathbf{a} \\right \\| = \\sqrt{\\left ( \\mathbf{a}, \\mathbf{a} \\right )} = \\sqrt{\\sum^{n}_{i=1} a_i^2}\n",
    "$$\n",
    "\n",
    "この演算が内積の公理を満たすことを確かめよ（手計算もしくはSympy)．"
   ]
  },
  {
   "attachments": {},
   "cell_type": "markdown",
   "id": "e962b113",
   "metadata": {},
   "source": [
    "**課題1-３:** 区間 $[a,b]$ 上の連続関数 $f(x), g(x)$ に対して内積とノルムは次のように定義されていた．\n",
    "\n",
    "内積：\n",
    "\n",
    "$$\n",
    "\\left ( f, g \\right ) = \\int_{a}^{b} f\\left(x\\right) g\\left(x\\right) dx\n",
    "$$\n",
    "\n",
    "ノルム：\n",
    "\n",
    "$$\n",
    "\\left \\| \\mathbf{f} \\right \\| = \\sqrt{\\left ( f, f  \\right )} = \\sqrt{ \\int_{a}^{b} f\\left(x\\right) ^2 dx}\n",
    "$$\n",
    "\n",
    "この演算が内積の公理を満たすことを確かめよ（手計算もしくはSympy)．"
   ]
  },
  {
   "cell_type": "markdown",
   "id": "065ef599",
   "metadata": {},
   "source": []
  }
 ],
 "metadata": {
  "kernelspec": {
   "display_name": "Python 3 (ipykernel)",
   "language": "python",
   "name": "python3"
  },
  "language_info": {
   "codemirror_mode": {
    "name": "ipython",
    "version": 3
   },
   "file_extension": ".py",
   "mimetype": "text/x-python",
   "name": "python",
   "nbconvert_exporter": "python",
   "pygments_lexer": "ipython3",
   "version": "3.9.7"
  }
 },
 "nbformat": 4,
 "nbformat_minor": 5
}
