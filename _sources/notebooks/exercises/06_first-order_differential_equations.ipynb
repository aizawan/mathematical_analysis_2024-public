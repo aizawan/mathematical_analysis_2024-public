{
 "cells": [
  {
   "attachments": {},
   "cell_type": "markdown",
   "id": "be0f83d0",
   "metadata": {},
   "source": [
    "# 第6回: 課題ファイル"
   ]
  },
  {
   "attachments": {},
   "cell_type": "markdown",
   "id": "a34fdf3e",
   "metadata": {},
   "source": [
    "## 課題1\n",
    "**課題1-1:** 次の微分方程式の一般解を求めよ．\n",
    "\n",
    "$$\n",
    "\\frac{dy}{dx} + \\frac{y}{x} = xy^2\n",
    "$$"
   ]
  },
  {
   "attachments": {},
   "cell_type": "markdown",
   "id": "51c7d6d0",
   "metadata": {},
   "source": [
    "**課題1-2:** 次の微分方程式の一般解を求めよ．\n",
    "\n",
    "$$\n",
    "x\\frac{dy}{dx} -y = y^3\n",
    "$$"
   ]
  },
  {
   "attachments": {},
   "cell_type": "markdown",
   "id": "210bd523",
   "metadata": {},
   "source": [
    "## 課題2\n",
    "**課題2-1:** 次の微分方程式の一般解を求めよ．\n",
    "\n",
    "$$\n",
    "y=\\frac{dy}{dx}x + \\left( \\frac{dy}{dx}\\right)^2 + 1\n",
    "$$"
   ]
  },
  {
   "attachments": {},
   "cell_type": "markdown",
   "id": "1589dcf1",
   "metadata": {},
   "source": [
    "**課題2-2:** 上記の微分方程式をsympyで実装し，一般解のグラフを描け．"
   ]
  },
  {
   "attachments": {},
   "cell_type": "markdown",
   "id": "84f74e0b",
   "metadata": {},
   "source": [
    "## 課題3\n",
    "**課題3-1:** 次の微分方程式が完全微分方程式であることを確かめよ．\n",
    "\n",
    "$$\n",
    "3x \\left ( 2y - x \\right )dx + \\left ( 3x^2 + 2y \\right )dy = 0\n",
    "$$"
   ]
  },
  {
   "attachments": {},
   "cell_type": "markdown",
   "id": "4ed3c7f3",
   "metadata": {},
   "source": [
    "**課題3-2:** 上記の微分方程式を解け．"
   ]
  },
  {
   "cell_type": "markdown",
   "id": "9c9d582f",
   "metadata": {},
   "source": []
  }
 ],
 "metadata": {
  "kernelspec": {
   "display_name": "Python 3 (ipykernel)",
   "language": "python",
   "name": "python3"
  },
  "language_info": {
   "codemirror_mode": {
    "name": "ipython",
    "version": 3
   },
   "file_extension": ".py",
   "mimetype": "text/x-python",
   "name": "python",
   "nbconvert_exporter": "python",
   "pygments_lexer": "ipython3",
   "version": "3.9.7"
  }
 },
 "nbformat": 4,
 "nbformat_minor": 5
}
