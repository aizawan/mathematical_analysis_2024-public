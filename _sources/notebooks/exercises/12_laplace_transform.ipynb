{
 "cells": [
  {
   "attachments": {},
   "cell_type": "markdown",
   "id": "be0f83d0",
   "metadata": {},
   "source": [
    "# 第13回: 課題ファイル"
   ]
  },
  {
   "attachments": {},
   "cell_type": "markdown",
   "id": "c74ebcab",
   "metadata": {},
   "source": [
    "## 課題1\n",
    "**課題1-1:** 以下の関数をラプラス変換せよ．\n",
    "\n",
    "$$\n",
    "f(t) = 1\n",
    "$$"
   ]
  },
  {
   "attachments": {},
   "cell_type": "markdown",
   "id": "65870f6e",
   "metadata": {},
   "source": [
    "**課題1-2:** 以下の関数をラプラス変換せよ．\n",
    "\n",
    "$$\n",
    "f(t) = t\n",
    "$$"
   ]
  },
  {
   "attachments": {},
   "cell_type": "markdown",
   "id": "5da04c99",
   "metadata": {},
   "source": [
    "**課題1-3:** 以下の関数をラプラス変換せよ．\n",
    "\n",
    "$$\n",
    "f(t) = t^3\n",
    "$$"
   ]
  },
  {
   "attachments": {},
   "cell_type": "markdown",
   "id": "738b0f29",
   "metadata": {},
   "source": [
    "**課題1-4:** 以下の関数をラプラス変換せよ．\n",
    "\n",
    "$$\n",
    "f(t) = \\cos \\frac{t}{3}\n",
    "$$"
   ]
  }
 ],
 "metadata": {
  "kernelspec": {
   "display_name": "Python 3 (ipykernel)",
   "language": "python",
   "name": "python3"
  },
  "language_info": {
   "codemirror_mode": {
    "name": "ipython",
    "version": 3
   },
   "file_extension": ".py",
   "mimetype": "text/x-python",
   "name": "python",
   "nbconvert_exporter": "python",
   "pygments_lexer": "ipython3",
   "version": "3.9.13"
  }
 },
 "nbformat": 4,
 "nbformat_minor": 5
}
