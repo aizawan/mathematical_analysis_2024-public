{
 "cells": [
  {
   "cell_type": "markdown",
   "metadata": {},
   "source": [
    "# ニュートン・ラプソン法\n",
    "**ニュートン法（Newton's method）** または **ニュートン・ラプソン法（Newton-Raphson method）** は方程式の解を数値計算から近似的に求めるための方法である．アイデアは初期の推定値からスタートし，関数の値とその導関数を使用して新しい推定値の更新を反復的に計算することで，近似解を得るものである．\n",
    "\n",
    "定義域 $x \\in \\mathbb{R}$ で定義される関数 $f: \\mathbb{R} \\rightarrow \\mathbb{R}$ について\n",
    "\n",
    "$$\n",
    "f(x) = 0\n",
    "$$\n",
    "\n",
    "となる $x$ を求める．そのために，$x$ について初期値 $x_0$ を適当に取り，以下の反復式に従って $x$ を更新する．\n",
    "\n",
    "$$\n",
    "x_{n+1} = x_{n} - \\frac{f(x_n)}{f'(x_n)}\n",
    "$$\n",
    "\n",
    "このとき，$n$ は現在の反復数，$x_n$ は現在の$x$の推定値，$f(x_n)$ はそのときの関数の値，$f'(x_n)$ はその導関数である．この反復式は接線の方程式\n",
    "\n",
    "$$\n",
    "y = f'(x_n)(x - x_n) + f(x_n)\n",
    "$$\n",
    "\n",
    "を考えると今考えているのは，$f(x)=0$ となる $x$ であり，この接線が $x$軸 交わる点 $(x_{n+1},0)$ は以下のように求められる．\n",
    "\n",
    "$$\n",
    "\\begin{align}\n",
    "0 &= f'(x_n)(x_{n+1} - x_n) + f(x_n) \\\\\n",
    "f'(x_n)x_{n+1} &= f'(x_n)x_n - f(x_n) \\\\\n",
    "x_{n+1} &= x_n - \\frac{f(x_n)}{f'(x_n)}\n",
    "\\end{align}\n",
    "$$\n",
    "\n",
    "つまり，この反復式は接線を使って $f(x)=0$ を解いていることに他ならない．これを反復することで真の解に近い近似値を得ることができる．"
   ]
  },
  {
   "cell_type": "markdown",
   "metadata": {},
   "source": [
    "これをPythonで実装する．今回は $f(x) = x^2 - 2$ について $f(x)=0$ となる $x$ をニュートン法によって求める．計算すると，$x=\\pm\\sqrt{2}$ となる．この解に近い近似解が得られることを次のプログラムで確認する．"
   ]
  },
  {
   "cell_type": "code",
   "execution_count": null,
   "metadata": {},
   "outputs": [],
   "source": [
    "import numpy as np\n",
    "import matplotlib.pyplot as plt\n",
    "\n",
    "f = lambda x: x**2 - 2\n",
    "df = lambda x: 2*x\n",
    "\n",
    "# newtown method\n",
    "epsilon = 1e-10\n",
    "x, x0 = 1, 1\n",
    "x_s = [x0]\n",
    "\n",
    "for i in range(10):\n",
    "    x_ = x - f(x) / df(x)\n",
    "    x_s.append(x_)\n",
    "    if abs(x_ - x) < epsilon:\n",
    "        break\n",
    "    x = x_\n",
    "    print(i, x)\n",
    "\n",
    "# plot optimization\n",
    "x = np.linspace(-0.5, 2.0, 100)\n",
    "\n",
    "fig, ax = plt.subplots()\n",
    "ax.plot(x, f(x), 'r-', label='f(x)')\n",
    "ax.axhline(0, color='black', linewidth=0.5)\n",
    "ax.axvline(0, color='black', linewidth=0.5)\n",
    "\n",
    "for i, x_n in enumerate(x_s[:-1]):\n",
    "    tangent = df(x_n) * (x - x_n) + f(x_n)\n",
    "    ax.plot(x, tangent, 'g--')\n",
    "\n",
    "    ax.scatter([x_n], [f(x_n)], color='blue')\n",
    "\n",
    "ax.set_title(\"Newton's Method Visualization\")\n",
    "ax.legend()\n",
    "ax.grid(True)"
   ]
  }
 ],
 "metadata": {
  "kernelspec": {
   "display_name": "ml",
   "language": "python",
   "name": "python3"
  },
  "language_info": {
   "codemirror_mode": {
    "name": "ipython",
    "version": 3
   },
   "file_extension": ".py",
   "mimetype": "text/x-python",
   "name": "python",
   "nbconvert_exporter": "python",
   "pygments_lexer": "ipython3",
   "version": "3.9.7"
  },
  "orig_nbformat": 4
 },
 "nbformat": 4,
 "nbformat_minor": 2
}
