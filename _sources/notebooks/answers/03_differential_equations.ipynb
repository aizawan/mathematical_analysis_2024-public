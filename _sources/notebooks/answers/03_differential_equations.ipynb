{
 "cells": [
  {
   "attachments": {},
   "cell_type": "markdown",
   "id": "be0f83d0",
   "metadata": {},
   "source": [
    "# 第3回: 課題ファイル"
   ]
  },
  {
   "cell_type": "markdown",
   "id": "9dec401a",
   "metadata": {},
   "source": [
    "## 課題1\n",
    "**課題1-1:** 以下の微分方程式について線形か非線形かを判断し，理由の述べよ．\n",
    "\n",
    "$$\n",
    "\\begin{align}\n",
    "\\frac{dy}{dx} - y = x\n",
    "\\end{align}\n",
    "$$\n",
    "\n",
    "以下の微分方程式が線形であることを確かめる．\n",
    "\n",
    "$$\n",
    "y' - y = x\n",
    "$$\n",
    "\n",
    "前述の線形性の定義を満たすことを確認すればよいので微分方程式を次のように定義する．\n",
    "\n",
    "$$\n",
    "F(x,y,y') = y' - y - x = 0\n",
    "$$\n",
    "\n",
    "上式の左辺について，\n",
    "\n",
    "$$\n",
    "\\begin{align}\n",
    "F\\left(x, \\alpha y_1+\\beta y_2, \\alpha y_1'+\\beta y_2'\\right) &= \\alpha y_1' + \\beta y_2 ' - (\\alpha y_1+\\beta y_2) - x\n",
    "\\end{align}\n",
    "$$\n",
    "\n",
    "となる．続いて，右辺について確認する．\n",
    "\n",
    "$$\n",
    "\\begin{align}\n",
    "\\alpha F \\left(x, y_1, y_1'\\right)+\\beta F\\left(x, y_2, y_2'\\right) &= \\alpha \\left(y_1' - y_1 - x \\right) + \\beta \\left(y_2' - y_2 - x \\right) \\\\\n",
    "&= \\alpha y_1' + \\beta y_2' - \\alpha y_1 - \\beta y_2 - \\alpha x - \\beta x \\\\\n",
    "&= \\alpha y_1' + \\beta y_2' - \\left(\\alpha y_1 + \\beta y_2\\right) - \\left(\\alpha + \\beta\\right) x \\\\\n",
    "\\end{align}\n",
    "$$\n",
    "\n",
    "以上より，$y,y'$の項について両辺が一致するので $y$ について線形であり，これは線形微分方程式である．"
   ]
  },
  {
   "cell_type": "markdown",
   "id": "9553cb23",
   "metadata": {},
   "source": [
    "**課題1-2:** 定数 $C$ を消去して微分方程式を導け（手計算）．\n",
    "\n",
    "$$\n",
    "\\begin{align}\n",
    "x^2 = 4Cy\n",
    "\\end{align}\n",
    "$$\n",
    "\n",
    "$x$について微分し，$C$について整理する．．\n",
    "\n",
    "$$\n",
    "\\begin{align}\n",
    "2x &= 4C y' \\\\\n",
    "C &= \\frac{x}{2} \\cdot \\frac{1}{y'}\n",
    "\\end{align}\n",
    "$$\n",
    "\n",
    "これを与えられた微分方程式に代入し，$y'$について整理する．\n",
    "\n",
    "$$\n",
    "\\begin{align}\n",
    "x^2 &= 4Cy \\\\\n",
    "x^2 &= 4 \\cdot  \\frac{x}{2} \\cdot \\frac{1}{y'} \\cdot y \\\\\n",
    "y' &= \\frac{2y}{x}\n",
    "\\end{align}\n",
    "$$\n",
    "\n",
    "以上より，$C$を消去して，微分方程式を導けた．"
   ]
  },
  {
   "cell_type": "markdown",
   "id": "4fb31649",
   "metadata": {},
   "source": [
    "**課題1-3:** $y=e^{-x}$は以下の微分方程式の解であることを示せ（手計算）．\n",
    "\n",
    "$$\n",
    "\\begin{align}\n",
    "\\frac{dy}{dx} + y = 0\n",
    "\\end{align}\n",
    "$$\n",
    "\n",
    "まず解として与えられた $y$ を微分する．\n",
    "\n",
    "$$\n",
    "\\begin{align}\n",
    "\\frac{dy}{dx} = - e^{-x}\n",
    "\\end{align}\n",
    "$$\n",
    "\n",
    "これと $y=e^{-x}$ を与えられた微分方程式に代入する．\n",
    "\n",
    "$$\n",
    "- e^{-x} + e^{-x} = 0\n",
    "$$\n",
    "\n",
    "この式からも明らかなように等式を満たす．従って，$y=e^{-x}$は与えられた微分方程式の解である．"
   ]
  },
  {
   "attachments": {},
   "cell_type": "markdown",
   "id": "889a9dc7",
   "metadata": {},
   "source": [
    "## 課題2\n",
    "**課題2-1:** 次の微分方程式の一般解を直接積分形で求めよ（手計算）．\n",
    "\n",
    "$$\n",
    "\\begin{align}\n",
    "\\frac{dy}{dx} = - x + 2\n",
    "\\end{align}\n",
    "$$\n",
    "\n",
    "解答：\n",
    "\n",
    "$$\n",
    "\\begin{align}\n",
    "d y &=(-x+2) d x \\\\\n",
    "\\int 1 d y&=\\int(-x+2) d x \\\\\n",
    "y&=-\\frac{x^2}{2}+2 x+C\n",
    "\\end{align}\n",
    "$$\n"
   ]
  },
  {
   "attachments": {},
   "cell_type": "markdown",
   "id": "927f1180",
   "metadata": {},
   "source": [
    "**課題2-2:** 次の微分方程式の一般解を直接積分形で求めよ（手計算）．\n",
    "\n",
    "$$\n",
    "\\begin{align}\n",
    "\\frac{dy}{dx} = \\frac{1}{x} + x\n",
    "\\end{align}\n",
    "$$\n",
    "\n",
    "解答：\n",
    "\n",
    "$$\n",
    "\\begin{align}\n",
    "d y &= \\left(\\frac{1}{x}+x\\right) d x \\\\\n",
    "\\int 1 d y &= \\int\\left(\\frac{1}{x}+x\\right) d x \\\\\n",
    "y &= \\int\\frac{1}{x}dx +\\int x dx \\\\\n",
    "y &=\\frac{x^2}{2}+\\log |x|+C\n",
    "\\end{align}\n",
    "$$"
   ]
  },
  {
   "attachments": {},
   "cell_type": "markdown",
   "id": "075ee8ff",
   "metadata": {},
   "source": [
    "**課題2-3:** 次の微分方程式の一般解を直接積分形で求めよ（手計算）．\n",
    "\n",
    "$$\n",
    "\\begin{align}\n",
    "\\frac{dy}{dx} = e^{2x}\n",
    "\\end{align}\n",
    "$$\n",
    "\n",
    "解答：\n",
    "\n",
    "$$\n",
    "\\begin{align}\n",
    "d y&=e^{2 x} d x \\\\\n",
    "\\int 1 d y&=\\int e^{2 x} d x \\\\\n",
    "y&=\\frac{e^{2 x}}{2}+C\n",
    "\\end{align}\n",
    "$$"
   ]
  },
  {
   "attachments": {},
   "cell_type": "markdown",
   "id": "fe67b9f5",
   "metadata": {},
   "source": [
    "**課題2-4:** 次の微分方程式の一般解を直接積分形で求めよ（手計算）．\n",
    "\n",
    "$$\n",
    "\\begin{align}\n",
    "\\frac{dy}{dx} = \\sin(x) + 1\n",
    "\\end{align}\n",
    "$$\n",
    "\n",
    "\n",
    "解答：\n",
    "\n",
    "$$\n",
    "\\begin{align}\n",
    "d y &= (\\sin (x)+1) d x \\\\\n",
    "\\int 1 d y &=\\int(\\sin (x)+1) d x \\\\\n",
    "y&=-\\cos (x)+x+C\n",
    "\\end{align}\n",
    "$$"
   ]
  },
  {
   "cell_type": "markdown",
   "id": "ead6e711",
   "metadata": {},
   "source": [
    "**課題2-5:** 次の微分方程式の一般解を直接積分形で求めよ（手計算）．\n",
    "\n",
    "$$\n",
    "\\begin{align}\n",
    "\\frac{dy}{dx} - \\frac{1}{x^3} = 0\n",
    "\\end{align}\n",
    "$$\n",
    "\n",
    "解答：\n",
    "\n",
    "$$\n",
    "\\begin{align}\n",
    "dy &= \\frac{1}{x^3} dx \\\\\n",
    "\\int 1 d y &=\\int x^{-3} d x \\\\\n",
    "y &= -\\frac{1}{2x^{2}} +C \\\\\n",
    "\\end{align}\n",
    "$$"
   ]
  },
  {
   "attachments": {},
   "cell_type": "markdown",
   "id": "be194c4f",
   "metadata": {},
   "source": [
    "**課題2-6:** 課題2-1から2-5の微分方程式をsympyで実装し，手計算の結果と一致することを確認せよ．"
   ]
  },
  {
   "cell_type": "code",
   "execution_count": 5,
   "id": "da958973",
   "metadata": {},
   "outputs": [
    {
     "data": {
      "text/latex": [
       "$\\displaystyle y{\\left(x \\right)} = C_{1} - \\frac{1}{2 x^{2}}$"
      ],
      "text/plain": [
       "Eq(y(x), C1 - 1/(2*x**2))"
      ]
     },
     "execution_count": 5,
     "metadata": {},
     "output_type": "execute_result"
    }
   ],
   "source": [
    "# 解答用セル\n",
    "from sympy import symbols, Eq, Derivative, Function, dsolve, exp, sin\n",
    "\n",
    "x = symbols('x')\n",
    "y = Function('y')(x)\n",
    "\n",
    "dy = Derivative(y, x)\n",
    "\n",
    "eq = Eq(dy, -x + 2) # 2-1\n",
    "# eq = Eq(dy, 1/x + 1) # 2-2\n",
    "# eq = Eq(dy, exp(2*x)) # 2-3\n",
    "# eq = Eq(dy, sin(x) + 1) # 2-4\n",
    "# eq = Eq(dy - 1/x**3, 0) # 2-5\n",
    "\n",
    "y_ = dsolve(eq, y)\n",
    "y_"
   ]
  },
  {
   "cell_type": "code",
   "execution_count": null,
   "id": "9b6c965c",
   "metadata": {},
   "outputs": [],
   "source": []
  }
 ],
 "metadata": {
  "kernelspec": {
   "display_name": "ml",
   "language": "python",
   "name": "python3"
  },
  "language_info": {
   "codemirror_mode": {
    "name": "ipython",
    "version": 3
   },
   "file_extension": ".py",
   "mimetype": "text/x-python",
   "name": "python",
   "nbconvert_exporter": "python",
   "pygments_lexer": "ipython3",
   "version": "3.9.13"
  },
  "vscode": {
   "interpreter": {
    "hash": "c558876ffd71b3528bcdaaa45c5eeebe18905a0bd68c09a6b765c00e31df719e"
   }
  }
 },
 "nbformat": 4,
 "nbformat_minor": 5
}
