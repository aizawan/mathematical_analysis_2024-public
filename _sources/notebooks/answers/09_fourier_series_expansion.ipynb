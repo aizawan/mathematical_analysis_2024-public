{
 "cells": [
  {
   "attachments": {},
   "cell_type": "markdown",
   "id": "be0f83d0",
   "metadata": {},
   "source": [
    "# 第9回: 課題ファイル"
   ]
  },
  {
   "attachments": {},
   "cell_type": "markdown",
   "id": "bcc73cc2",
   "metadata": {},
   "source": [
    "## 課題1\n",
    "**課題1-1:** 三角関数系の直交性をsympyで検証し，手計算の結果と一致することを確認せよ．ただし，すべての組み合わせを確認することはできないので，$1, \\cos x, \\cos 2x \\cos 3x, \\sin x, \\sin 2x, \\sin 3x$ の中で検証せよ．"
   ]
  },
  {
   "cell_type": "code",
   "execution_count": 7,
   "id": "e3cd63dd",
   "metadata": {},
   "outputs": [
    {
     "data": {
      "text/latex": [
       "$\\displaystyle 0$"
      ],
      "text/plain": [
       "0"
      ]
     },
     "metadata": {},
     "output_type": "display_data"
    },
    {
     "data": {
      "text/latex": [
       "$\\displaystyle 0$"
      ],
      "text/plain": [
       "0"
      ]
     },
     "metadata": {},
     "output_type": "display_data"
    },
    {
     "data": {
      "text/latex": [
       "$\\displaystyle 0$"
      ],
      "text/plain": [
       "0"
      ]
     },
     "metadata": {},
     "output_type": "display_data"
    },
    {
     "data": {
      "text/latex": [
       "$\\displaystyle \\begin{cases} 0 & \\text{for}\\: k \\neq l \\\\\\pi & \\text{otherwise} \\end{cases}$"
      ],
      "text/plain": [
       "Piecewise((0, Ne(k, l)), (pi, True))"
      ]
     },
     "metadata": {},
     "output_type": "display_data"
    },
    {
     "data": {
      "text/latex": [
       "$\\displaystyle \\begin{cases} 0 & \\text{for}\\: k \\neq l \\\\\\pi & \\text{otherwise} \\end{cases}$"
      ],
      "text/plain": [
       "Piecewise((0, Ne(k, l)), (pi, True))"
      ]
     },
     "metadata": {},
     "output_type": "display_data"
    },
    {
     "data": {
      "text/latex": [
       "$\\displaystyle 2 \\pi$"
      ],
      "text/plain": [
       "2*pi"
      ]
     },
     "metadata": {},
     "output_type": "display_data"
    }
   ],
   "source": [
    "from sympy import symbols, integrate, sin, cos, pi\n",
    "x = symbols('x')\n",
    "k = symbols('k', positive=True, integer=True)\n",
    "l = symbols('l', positive=True, integer=True)\n",
    "\n",
    "f = 1 * cos(k*x)\n",
    "display(integrate(f, (x, -pi, pi)))\n",
    "\n",
    "f = 1 * sin(k*x)\n",
    "display(integrate(f, (x, -pi, pi)))\n",
    "\n",
    "f = cos(k*x) * sin(l*x)\n",
    "display(integrate(f, (x, -pi, pi)))\n",
    "\n",
    "f = cos(k*x) * cos(l*x)\n",
    "display(integrate(f, (x, -pi, pi)))\n",
    "\n",
    "f = sin(k*x) * sin(l*x)\n",
    "display(integrate(f, (x, -pi, pi)))\n",
    "\n",
    "f = 1 * 1\n",
    "display(integrate(f, (x, -pi, pi)))"
   ]
  },
  {
   "attachments": {},
   "cell_type": "markdown",
   "id": "6cdd6cd7",
   "metadata": {},
   "source": [
    "**課題1-2:** 次の関数 $P_n(x), n=0,1,2,\\ldots,$ は $n$次のルジャンドルの多項式と呼ばれる．\n",
    "\n",
    "$$\n",
    "\\begin{align}\n",
    "P_0(x) &= 1 \\\\\n",
    "P_1(x) &= x \\\\\n",
    "P_2(x) &= \\frac{1}{2}(3 x^{2} - 1) \\\\\n",
    "P_3(x) &= \\frac{1}{2}(5 x^{3} - 3x) \\\\\n",
    "P_4(x) &= \\frac{1}{8}(35x^{4}-30x^{2}+3) \\\\\n",
    "P_5(x) &= \\frac{1}{8}(63x^{5}-70x^{3}+15x) \\\\\n",
    "P_6(x) &= \\frac{1}{16}(231x^{6}-315x^{4}+105x^{2}-5) \\\\\n",
    "P_7(x) &= \\frac{1}{16}(429x^{7}-693x^{5}+315x^{3}-35x) \\\\\n",
    "P_8(x) &= \\frac{1}{128}(6435x^{8}-12012x^{6}+6930x^{4}-1260x^{2}+35) \\\\\n",
    "\\vdots\n",
    "\\end{align}\n",
    "$$\n",
    "\n",
    "そして，ルジャンドル多項式は区間 $[-1,1]$ 上で直交関数系である．\n",
    "\n",
    "$$\n",
    "\\int^{1}_{-1} P_n(x)P_m(x)dx =\\left\\{\\begin{matrix}\n",
    "\\frac{2}{2n+1} \\quad m = n \\\\ \n",
    "0 \\quad m \\neq n\n",
    "\\end{matrix}\\right.\n",
    "$$\n",
    "\n",
    "ルジャンドル多項式が直交関数系であることをsympyを使って確認せよ（ヒント：区間 $[-1,1]$ で積分して自身以外との内積が0になることを示せば良い）．課題1-1と同様にすべての組み合わせを検証することはできないので一部の項のみで良い．"
   ]
  },
  {
   "cell_type": "code",
   "execution_count": 11,
   "id": "f963f7f6",
   "metadata": {},
   "outputs": [
    {
     "data": {
      "text/latex": [
       "$\\displaystyle 1$"
      ],
      "text/plain": [
       "1"
      ]
     },
     "metadata": {},
     "output_type": "display_data"
    },
    {
     "data": {
      "text/latex": [
       "$\\displaystyle x$"
      ],
      "text/plain": [
       "x"
      ]
     },
     "metadata": {},
     "output_type": "display_data"
    },
    {
     "data": {
      "text/latex": [
       "$\\displaystyle \\frac{3 x^{2}}{2} - \\frac{1}{2}$"
      ],
      "text/plain": [
       "3*x**2/2 - 1/2"
      ]
     },
     "metadata": {},
     "output_type": "display_data"
    },
    {
     "data": {
      "text/latex": [
       "$\\displaystyle \\frac{5 x^{3}}{2} - \\frac{3 x}{2}$"
      ],
      "text/plain": [
       "5*x**3/2 - 3*x/2"
      ]
     },
     "metadata": {},
     "output_type": "display_data"
    },
    {
     "data": {
      "text/latex": [
       "$\\displaystyle \\frac{35 x^{4}}{8} - \\frac{15 x^{2}}{4} + \\frac{3}{8}$"
      ],
      "text/plain": [
       "35*x**4/8 - 15*x**2/4 + 3/8"
      ]
     },
     "metadata": {},
     "output_type": "display_data"
    },
    {
     "data": {
      "text/latex": [
       "$\\displaystyle \\frac{63 x^{5}}{8} - \\frac{35 x^{3}}{4} + \\frac{15 x}{8}$"
      ],
      "text/plain": [
       "63*x**5/8 - 35*x**3/4 + 15*x/8"
      ]
     },
     "metadata": {},
     "output_type": "display_data"
    },
    {
     "data": {
      "text/latex": [
       "$\\displaystyle \\frac{231 x^{6}}{16} - \\frac{315 x^{4}}{16} + \\frac{105 x^{2}}{16} - \\frac{5}{16}$"
      ],
      "text/plain": [
       "231*x**6/16 - 315*x**4/16 + 105*x**2/16 - 5/16"
      ]
     },
     "metadata": {},
     "output_type": "display_data"
    },
    {
     "data": {
      "text/latex": [
       "$\\displaystyle \\frac{429 x^{7}}{16} - \\frac{693 x^{5}}{16} + \\frac{315 x^{3}}{16} - \\frac{35 x}{16}$"
      ],
      "text/plain": [
       "429*x**7/16 - 693*x**5/16 + 315*x**3/16 - 35*x/16"
      ]
     },
     "metadata": {},
     "output_type": "display_data"
    },
    {
     "name": "stdout",
     "output_type": "stream",
     "text": [
      "0 0 2\n",
      "0 1 0\n",
      "0 2 0\n",
      "0 3 0\n",
      "0 4 0\n",
      "0 5 0\n",
      "0 6 0\n",
      "0 7 0\n",
      "1 0 0\n",
      "1 1 2/3\n",
      "1 2 0\n",
      "1 3 0\n",
      "1 4 0\n",
      "1 5 0\n",
      "1 6 0\n",
      "1 7 0\n",
      "2 0 0\n",
      "2 1 0\n",
      "2 2 2/5\n",
      "2 3 0\n",
      "2 4 0\n",
      "2 5 0\n",
      "2 6 0\n",
      "2 7 0\n",
      "3 0 0\n",
      "3 1 0\n",
      "3 2 0\n",
      "3 3 2/7\n",
      "3 4 0\n",
      "3 5 0\n",
      "3 6 0\n",
      "3 7 0\n",
      "4 0 0\n",
      "4 1 0\n",
      "4 2 0\n",
      "4 3 0\n",
      "4 4 2/9\n",
      "4 5 0\n",
      "4 6 0\n",
      "4 7 0\n",
      "5 0 0\n",
      "5 1 0\n",
      "5 2 0\n",
      "5 3 0\n",
      "5 4 0\n",
      "5 5 2/11\n",
      "5 6 0\n",
      "5 7 0\n",
      "6 0 0\n",
      "6 1 0\n",
      "6 2 0\n",
      "6 3 0\n",
      "6 4 0\n",
      "6 5 0\n",
      "6 6 2/13\n",
      "6 7 0\n",
      "7 0 0\n",
      "7 1 0\n",
      "7 2 0\n",
      "7 3 0\n",
      "7 4 0\n",
      "7 5 0\n",
      "7 6 0\n",
      "7 7 2/15\n"
     ]
    }
   ],
   "source": [
    "from sympy import legendre\n",
    "x = symbols('x')\n",
    "\n",
    "p = []\n",
    "for i in range(8):\n",
    "    p_i = legendre(i, x)\n",
    "    display(p_i)\n",
    "    p.append(p_i)\n",
    "    \n",
    "for i in range(8):\n",
    "    for j in range(8):\n",
    "        f = integrate(p[i] * p[j], (x, -1, 1))\n",
    "        print(i, j, f)\n"
   ]
  },
  {
   "attachments": {},
   "cell_type": "markdown",
   "id": "3d8dea83",
   "metadata": {},
   "source": [
    "## 課題2\n",
    "**課題2-1:** 区間 $[-\\pi, \\pi]$ 上の以下の関数 $f(t)$ をフーリエ級数展開せよ．\n",
    "\n",
    "$$\n",
    "f(t) = t^2\n",
    "$$"
   ]
  },
  {
   "cell_type": "markdown",
   "id": "f8297656",
   "metadata": {},
   "source": [
    "フーリエ係数 $a_0, a_k, b_k$ を順に計算する．まず $\\omega_0 = 2 \\pi / T$ で周期 $T = 2\\pi$ より基本周波数は $\\omega_0 = 1$ であることがわかる．これよりフーリエ係数 $a_0$ を上記で導出したフーリエ係数の式から計算する．\n",
    "\n",
    "$$\n",
    "\\begin{aligned}\n",
    "a_0 & =\\frac{2}{T} \\int_{-T / 2}^{T / 2} f(t) d t \\\\\n",
    "& =\\frac{2}{2 \\pi} \\int_{-\\pi}^\\pi f(t) d t \\\\\n",
    "& =\\frac{1}{\\pi} \\int_{-\\pi}^\\pi t^2 d t \\\\\n",
    "& =\\frac{1}{3 \\pi}\\left[t^3\\right]_{-\\pi}^\\pi \\\\\n",
    "& =\\frac{2 \\pi^2}{3}\n",
    "\\end{aligned}\n",
    "$$\n",
    "\n",
    "続いて，フーリ工係数 $a_k$ は以下のように計算できる.\n",
    "$$\n",
    "\\begin{aligned}\n",
    "a_k & =\\frac{2}{T} \\int_{-T / 2}^{T / 2} f(t) \\cos k \\omega_0 t d t \\\\\n",
    "& =\\frac{2}{2 \\pi} \\int_{-\\pi}^\\pi f(t) \\cos k t d t \\\\\n",
    "& =\\frac{1}{\\pi} \\int_{-\\pi}^\\pi t^2 \\cdot \\cos k t d t \\\\\n",
    "& =\\frac{1}{\\pi}\\left[-\\frac{2 \\sin (k t)}{k^3}+\\frac{2 t \\cos (k t)}{k^2}+\\frac{t^2 \\sin (k t)}{k}\\right]_{-\\pi}^\\pi \\\\\n",
    "& =\\frac{4 \\cos (k \\pi)}{k^2}\n",
    "\\end{aligned}\n",
    "$$\n",
    "\n",
    "最後に，フーリエ係数 $b_k$ は以下のように計算できる.\n",
    "\n",
    "$$\n",
    "\\begin{aligned}\n",
    "b_k & =\\frac{2}{T} \\int_{-T / 2}^{T / 2} f(t) \\sin k \\omega_0 t d t \\\\\n",
    "& =\\frac{2}{2 \\pi} \\int_{-\\pi}^\\pi f(t) \\sin k t d t \\\\\n",
    "& =\\frac{1}{\\pi} \\int_{-\\pi}^\\pi t^2 \\cdot \\sin k t d t \\\\\n",
    "& =\\frac{1}{\\pi}\\left[\\frac{2 \\cos (k t)}{k^3}+\\frac{2 t \\sin (k t)}{k^2}-\\frac{t^2 \\cos (k t)}{k}\\right]_{-\\pi}^\\pi \\\\\n",
    "& =0\n",
    "\\end{aligned}\n",
    "$$\n",
    "\n",
    "以上より, フーリ工係数が以下のように計算された.\n",
    "$$\n",
    "a_0=\\frac{2 \\pi^2}{3}, \\quad a_k=\\frac{4 \\cos (k \\pi)}{k^2}, \\quad b_k=0\n",
    "$$\n",
    "\n",
    "これをフーリ工級数展開の式に代入する.\n",
    "$$\n",
    "\\begin{aligned}\n",
    "f(t) & \\approx \\frac{a_0}{2}+\\sum_{k=1}^{\\infty}\\left(a_k \\cos k \\omega_0 t+b_k \\sin k \\omega_0 t\\right)=\\frac{a_0}{2}+\\sum_{k=1}^{\\infty}\\left(a_k \\cos k t+b_k \\sin k t\\right) \\\\\n",
    "& =\\frac{\\pi^2}{3}+\\sum_{k=1}^{\\infty}\\left[\\frac{4 \\cos (k \\pi)}{k^2} \\cdot \\cos k t+0 \\cdot \\sin k t\\right] \\\\\n",
    "& =\\frac{\\pi^2}{3}+\\sum_{k=1}^{\\infty}\\left[\\frac{4 \\cos (k \\pi)}{k^2} \\cdot \\cos k t\\right] \\\\\n",
    "& =\\frac{\\pi^2}{3}-4 \\cos t+\\cos 2 t-\\frac{4}{9} \\cos 3 t+\\cdots\n",
    "\\end{aligned}\n",
    "$$\n",
    "\n",
    "以上が与えられた関数 $f(t)$ のフーリ工級数展開である."
   ]
  },
  {
   "attachments": {},
   "cell_type": "markdown",
   "id": "6b414e9c",
   "metadata": {},
   "source": [
    "**課題2-2:** 区間 $[-\\pi, \\pi]$ 上の以下の関数 $f(t)$ をフーリエ級数展開せよ．\n",
    "\n",
    "$$\n",
    "f(t) = \\cos t \\sin t\n",
    "$$"
   ]
  },
  {
   "cell_type": "markdown",
   "id": "1224bb34",
   "metadata": {},
   "source": [
    "倍角公式より，\n",
    "\n",
    "$$\n",
    "\\cos t \\sin t = \\frac{1}{2} \\sin 2t\n",
    "$$\n",
    "\n",
    "であることがわかる．この結果は\n",
    "\n",
    "$$\n",
    "a_0=0, \\quad a_k=0, \\quad b_k= \\begin{cases}0 & (k \\neq 2) \\\\ \\frac{1}{2} & (k=2)\\end{cases}\n",
    "$$\n",
    "\n",
    "のときのフーリエ級数展開した式に他ならないので結果は\n",
    "\n",
    "$$\n",
    "f(t) = \\frac{1}{2} \\sin 2t\n",
    "$$\n",
    "\n",
    "である．"
   ]
  },
  {
   "attachments": {},
   "cell_type": "markdown",
   "id": "c03cf132",
   "metadata": {},
   "source": [
    "## 課題3\n",
    "**課題3-1:** ホームページのサンプルコードを参考に，近似対象の関数やフーリエ級数の展開の項数を変更して結果を確認せよ．"
   ]
  }
 ],
 "metadata": {
  "kernelspec": {
   "display_name": "Python 3 (ipykernel)",
   "language": "python",
   "name": "python3"
  },
  "language_info": {
   "codemirror_mode": {
    "name": "ipython",
    "version": 3
   },
   "file_extension": ".py",
   "mimetype": "text/x-python",
   "name": "python",
   "nbconvert_exporter": "python",
   "pygments_lexer": "ipython3",
   "version": "3.9.13"
  }
 },
 "nbformat": 4,
 "nbformat_minor": 5
}
