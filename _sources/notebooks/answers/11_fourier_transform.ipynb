{
 "cells": [
  {
   "attachments": {},
   "cell_type": "markdown",
   "id": "be0f83d0",
   "metadata": {},
   "source": [
    "# 第11回: 課題ファイル"
   ]
  },
  {
   "attachments": {},
   "cell_type": "markdown",
   "id": "f36df547",
   "metadata": {},
   "source": [
    "## 課題1\n",
    "**課題1-1:** 以下の関数をフーリエ変換せよ．\n",
    "\n",
    "$$\n",
    "f(t) = \\begin{cases}\n",
    "1 & - \\frac{a}{2} \\leq t \\leq \\frac{a}{2} \\\\\n",
    "0 & \\text{otherwise}\n",
    "\\end{cases}\n",
    "$$"
   ]
  },
  {
   "cell_type": "markdown",
   "id": "87f91e43",
   "metadata": {},
   "source": [
    "**解答**\n",
    "\n",
    "区間 $[-\\infty, \\infty]$ で， $f(t)$ は区分的に滑らかで,絶対可積分である.よってフーリエ変換可能であ る.フーリエ変換の式に代入して計算する.\n",
    "$$\n",
    "\\begin{aligned}\n",
    "F(\\omega) & =\\int_{-\\infty}^{\\infty} f(t) e^{-i \\omega t} d t \\\\\n",
    "& =\\int_{-\\infty}^{-\\frac{a}{2}} 0 \\cdot e^{-i \\omega t} d t+\\int_{-\\frac{a}{2}}^{\\frac{a}{2}} 1 \\cdot e^{-i \\omega t} d t+\\int_{\\frac{a}{2}}^{\\infty} 0 \\cdot e^{-i \\omega t} d t \\\\\n",
    "& =\\int_{-\\frac{a}{2}}^{\\frac{a}{2}} e^{-i \\omega t} d t \\\\\n",
    "& =\\left[\\frac{-e^{-i \\omega t}}{i \\omega}\\right]_{-\\frac{a}{2}}^{\\frac{a}{2}} \\\\\n",
    "& =\\frac{-e^{-\\frac{i \\omega a}{2}}}{i \\omega}-\\frac{-e^{\\frac{i \\omega a}{2}}}{i \\omega} \\\\\n",
    "& =\\frac{e^{\\frac{i \\omega a}{2}}-e^{-\\frac{i \\omega a}{2}}}{i \\omega} \\\\\n",
    "& =\\frac{2}{i \\omega} \\cdot \\frac{e^{\\frac{i \\omega a}{2}}-e^{-\\frac{i \\omega a}{2}}}{2} \\\\\n",
    "& =\\frac{2}{i \\omega} \\cdot \\sinh \\left(\\frac{i \\omega a}{2}\\right) \\\\\n",
    "& =-\\frac{2 i \\sinh \\left(\\frac{i \\omega a}{2}\\right)}{\\omega}\n",
    "\\end{aligned}\n",
    "$$"
   ]
  },
  {
   "attachments": {},
   "cell_type": "markdown",
   "id": "c81527a0",
   "metadata": {},
   "source": [
    "**課題1-2:** 以下の関数をフーリエ変換せよ．\n",
    "\n",
    "$$\n",
    "f(t) = \\begin{cases}\n",
    "e^{-t} & 0 \\leq t \\\\\n",
    "e^{t} & t < 0\n",
    "\\end{cases}\n",
    "$$"
   ]
  },
  {
   "cell_type": "markdown",
   "id": "cc6b4bc6",
   "metadata": {},
   "source": [
    "**解答**\n",
    "\n",
    "区間 $[-\\infty, \\infty]$ で, $f(t)$ は区分的に滑らかで,絶対可積分である.よってフーリエ変換可能であ る.フーリエ変換の式に代入して計算する.\n",
    "$$\n",
    "\\begin{aligned}\n",
    "F(\\omega) & =\\int_{-\\infty}^{\\infty} f(t) e^{-i \\omega t} d t \\\\\n",
    "& =\\int_{-\\infty}^0 e^t e^{-i \\omega t} d t+\\int_0^{\\infty} e^{-t} e^{-i \\omega t} d t \\\\\n",
    "& =\\int_{-\\infty}^0 e^{(1-i \\omega) t} d t+\\int_0^{\\infty} e^{-(1+i \\omega) t} d t \\\\\n",
    "& =\\left[\\frac{e^{(1-i \\omega) t}}{1-i \\omega}\\right]_{-\\infty}^0+\\left[\\frac{-e^{-(1+i \\omega) t}}{1+i \\omega}\\right]_0^{\\infty} \\\\\n",
    "& =\\frac{e^{(1-i \\omega) \\cdot 0}}{1-i \\omega}-\\frac{e^{(1-i \\omega) \\cdot-\\infty}}{1-i \\omega}+\\frac{-e^{-(1+i \\omega) \\cdot \\infty}}{1+i \\omega}-\\frac{-e^{-(1+i \\omega) \\cdot 0}}{1+i \\omega} \\\\\n",
    "& =\\frac{1}{1-i \\omega}+\\frac{1}{1+i \\omega} \\\\\n",
    "& =\\frac{2}{1+\\omega^2}\n",
    "\\end{aligned}\n",
    "$$"
   ]
  },
  {
   "cell_type": "markdown",
   "id": "c0b586ad",
   "metadata": {},
   "source": []
  }
 ],
 "metadata": {
  "kernelspec": {
   "display_name": "Python 3 (ipykernel)",
   "language": "python",
   "name": "python3"
  },
  "language_info": {
   "codemirror_mode": {
    "name": "ipython",
    "version": 3
   },
   "file_extension": ".py",
   "mimetype": "text/x-python",
   "name": "python",
   "nbconvert_exporter": "python",
   "pygments_lexer": "ipython3",
   "version": "3.9.7"
  }
 },
 "nbformat": 4,
 "nbformat_minor": 5
}
