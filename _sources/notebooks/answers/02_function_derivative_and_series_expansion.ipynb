{
 "cells": [
  {
   "attachments": {},
   "cell_type": "markdown",
   "id": "be0f83d0",
   "metadata": {},
   "source": [
    "# 第2回: 課題ファイル"
   ]
  },
  {
   "attachments": {},
   "cell_type": "markdown",
   "id": "568191bd",
   "metadata": {},
   "source": [
    "## 課題\n",
    "**課題:** Sympyを用いて変数 `var` を作成せよ．また作成した変数 `var` に値 `3.14` を代入せよ．"
   ]
  },
  {
   "cell_type": "code",
   "execution_count": null,
   "id": "ae44382d",
   "metadata": {},
   "outputs": [],
   "source": [
    "# 解答用のセル\n",
    "from sympy import symbols\n",
    "var = symbols('var')\n",
    "var.subs(var, 3.14)"
   ]
  },
  {
   "attachments": {},
   "cell_type": "markdown",
   "id": "b755c7d2",
   "metadata": {},
   "source": [
    "## 課題\n",
    "**課題1:** Sympyを用いて次の関数を実装せよ．必要な変数は自由に定義してよい．\n",
    "\n",
    "$$\n",
    "y = \\frac{x^2}{2} + 1\n",
    "$$"
   ]
  },
  {
   "cell_type": "code",
   "execution_count": null,
   "id": "34d49205",
   "metadata": {},
   "outputs": [],
   "source": [
    "# 解答用のセル\n",
    "x = symbols('x')\n",
    "y = x**2 / 2 + 1\n",
    "y"
   ]
  },
  {
   "attachments": {},
   "cell_type": "markdown",
   "id": "1d0dc996",
   "metadata": {},
   "source": [
    "**課題2:** 実装した関数を `print` で出力せよ．"
   ]
  },
  {
   "cell_type": "code",
   "execution_count": null,
   "id": "b4a7086e",
   "metadata": {},
   "outputs": [],
   "source": [
    "# 解答用セル\n",
    "print(y)"
   ]
  },
  {
   "attachments": {},
   "cell_type": "markdown",
   "id": "364bd313",
   "metadata": {},
   "source": [
    "**課題3:** SympyはLaTeX形式での出力も可能である．出力用の関数を調べて実行せよ．"
   ]
  },
  {
   "cell_type": "code",
   "execution_count": null,
   "id": "35abf989",
   "metadata": {},
   "outputs": [],
   "source": [
    "# 解答用セル\n",
    "from sympy import latex\n",
    "latex(y)"
   ]
  },
  {
   "attachments": {},
   "cell_type": "markdown",
   "id": "f9287c8d",
   "metadata": {},
   "source": [
    "## 課題\n",
    "**課題1:** Sympyを用いて次の関数を実装せよ．必要な変数は自由に定義してよい．\n",
    "\n",
    "$$\n",
    "f(x_1, x_2, x_3) = x_{1}^3 + x_{2}^2 + x_{3} + 1\n",
    "$$"
   ]
  },
  {
   "cell_type": "code",
   "execution_count": null,
   "id": "51bef951",
   "metadata": {},
   "outputs": [],
   "source": [
    "# 解答用のセル\n",
    "x_1 = symbols('x_1')\n",
    "x_2 = symbols('x_2')\n",
    "x_3 = symbols('x_3')\n",
    "y = x_1 ** 3 + x_2 ** 2 + x_3 + 1\n",
    "y"
   ]
  },
  {
   "attachments": {},
   "cell_type": "markdown",
   "id": "6247b9f4",
   "metadata": {},
   "source": [
    "**課題2:** 実装した関数を `print` で出力せよ．"
   ]
  },
  {
   "cell_type": "code",
   "execution_count": null,
   "id": "308dd87a",
   "metadata": {},
   "outputs": [],
   "source": [
    "# 解答用セル\n",
    "print(y)"
   ]
  },
  {
   "attachments": {},
   "cell_type": "markdown",
   "id": "ffa19479",
   "metadata": {},
   "source": [
    "**課題3:** SympyはLaTeX形式での出力も可能である．出力用の関数を調べて実行せよ．"
   ]
  },
  {
   "cell_type": "code",
   "execution_count": null,
   "id": "91239644",
   "metadata": {},
   "outputs": [],
   "source": [
    "# 解答用セル\n",
    "latex(y)"
   ]
  },
  {
   "attachments": {},
   "cell_type": "markdown",
   "id": "a76ba7e9",
   "metadata": {},
   "source": [
    "## 課題\n",
    "**課題1:** Sympyを用いて次の関数を`x`で微分せよ．\n",
    "\n",
    "$$\n",
    "y = \\frac{x^2}{3} - x + 1\n",
    "$$"
   ]
  },
  {
   "cell_type": "code",
   "execution_count": null,
   "id": "9a7b0b06",
   "metadata": {},
   "outputs": [],
   "source": [
    "# 解答用セル\n",
    "x = symbols('x')\n",
    "y = x**2 / 3 - x + 1\n",
    "y.diff(x)"
   ]
  },
  {
   "attachments": {},
   "cell_type": "markdown",
   "id": "3125f236",
   "metadata": {},
   "source": [
    "**課題2:** Sympyを用いて次の関数を`t`で微分せよ．\n",
    "\n",
    "$$\n",
    "y = t + 1\n",
    "$$"
   ]
  },
  {
   "cell_type": "code",
   "execution_count": null,
   "id": "1f5805a5",
   "metadata": {},
   "outputs": [],
   "source": [
    "# 解答用セル\n",
    "t = symbols('t')\n",
    "y = t + 1\n",
    "y.diff(t)"
   ]
  },
  {
   "attachments": {},
   "cell_type": "markdown",
   "id": "cd346fb4",
   "metadata": {},
   "source": [
    "**課題3:** Sympyを用いて次の関数を`x`で微分せよ．またその導関数に値 `2` を代入せよ．\n",
    "\n",
    "$$\n",
    "y = 2x^2 + 1\n",
    "$$"
   ]
  },
  {
   "cell_type": "code",
   "execution_count": null,
   "id": "6418567e",
   "metadata": {},
   "outputs": [],
   "source": [
    "# 解答用セル\n",
    "x = symbols('x')\n",
    "y = 2 * x**2 + 1\n",
    "y.diff(x).subs(x,2)"
   ]
  },
  {
   "attachments": {},
   "cell_type": "markdown",
   "id": "61a98ef9",
   "metadata": {},
   "source": [
    "## 課題\n",
    "**課題1:** 任意の関数を定義してマクローリン展開せよ．計算式はこの式に記述せよ．\n",
    "\n",
    "$f(x)=\\sin(x)$ をマクローリン展開する．マクローリン級数は\n",
    "\n",
    "$$\n",
    "\\begin{align}\n",
    "f(x)=f(0)+\\frac{f^{\\prime}(0)}{1!} x+\\frac{f^{\\prime \\prime}(0)}{2!} x^2+\\frac{f^{\\prime \\prime \\prime}(0)}{3!} x^3+\\cdots\n",
    "\\end{align}\n",
    "$$\n",
    "\n",
    "であり，$\\sin(x)$の導関数を代入すると次のようになる．\n",
    "\n",
    "$$\n",
    "\\begin{align}\n",
    "\\begin{aligned}\n",
    "\\sin (x) & =0+\\frac{1}{1!} x+\\frac{0}{2!} x^2+\\frac{-1}{3!} x^3+\\frac{0}{4!} x^4+\\cdots \\\\\n",
    "& =x-\\frac{x^3}{3!}+\\frac{x^5}{5!}-\\frac{x^7}{7!}+\\cdots\n",
    "\\end{aligned}\n",
    "\\end{align}\n",
    "$$\n"
   ]
  },
  {
   "attachments": {},
   "cell_type": "markdown",
   "id": "f3dc06b1",
   "metadata": {},
   "source": [
    "**課題2:** 定義した関数とマクローリン展開をsympyで実装し，グラフにプロットせよ．"
   ]
  },
  {
   "cell_type": "code",
   "execution_count": null,
   "id": "e304577d",
   "metadata": {},
   "outputs": [],
   "source": [
    "# 解答用セル\n",
    "from sympy import sin, series\n",
    "x = symbols('x')\n",
    "f = sin(x)\n",
    "f_ = series(f, x, 0, 10)\n",
    "f_"
   ]
  }
 ],
 "metadata": {
  "kernelspec": {
   "display_name": "ml",
   "language": "python",
   "name": "python3"
  },
  "language_info": {
   "codemirror_mode": {
    "name": "ipython",
    "version": 3
   },
   "file_extension": ".py",
   "mimetype": "text/x-python",
   "name": "python",
   "nbconvert_exporter": "python",
   "pygments_lexer": "ipython3",
   "version": "3.9.13"
  },
  "vscode": {
   "interpreter": {
    "hash": "c558876ffd71b3528bcdaaa45c5eeebe18905a0bd68c09a6b765c00e31df719e"
   }
  }
 },
 "nbformat": 4,
 "nbformat_minor": 5
}
