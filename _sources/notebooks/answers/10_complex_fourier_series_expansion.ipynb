{
 "cells": [
  {
   "attachments": {},
   "cell_type": "markdown",
   "id": "be0f83d0",
   "metadata": {},
   "source": [
    "# 第10回: 課題ファイル"
   ]
  },
  {
   "attachments": {},
   "cell_type": "markdown",
   "id": "48ecbb9c",
   "metadata": {},
   "source": [
    "## 課題1\n",
    "**課題1-1:** 区間 $[-a, a]$ 上の以下の関数 $f(t)$ を複素フーリエ級数展開せよ．\n",
    "\n",
    "$$\n",
    "f(t) = t^2\n",
    "$$"
   ]
  },
  {
   "cell_type": "markdown",
   "id": "31a05642",
   "metadata": {},
   "source": [
    "**解答**\n",
    "\n",
    "複素フーリエ係数 $C_0, C_k$ を計算する. まず $\\omega_0=2 \\pi / T$ で周期 $T=2 a$ より基本周波数は $\\omega_0=\\frac{\\pi}{a}$ である. これより, $C_0(k=0)$ のとき\n",
    "$$\n",
    "\\begin{aligned}\n",
    "C_0 & =\\frac{1}{2 a} \\int_{-a}^a f(t) e^{-i \\cdot 0 \\cdot t} d t \\\\\n",
    "& =\\frac{1}{2 a} \\int_{-a}^a f(t) d t \\\\\n",
    "& =\\frac{1}{2 a} \\int_{-a}^a t^2 d t \\\\\n",
    "& =\\frac{1}{6 a}\\left[t^3\\right]_{-a}^a \\\\\n",
    "& =\\frac{a^2}{3}\n",
    "\\end{aligned}\n",
    "$$\n",
    "\n",
    "続いて, $C_k(k \\neq 0)$ のとき\n",
    "$$\n",
    "\\begin{aligned}\n",
    "C_k & =\\frac{1}{T} \\int_{-T / 2}^{T / 2} f(t) e^{-i k \\omega_0 t} d t \\\\\n",
    "& =\\frac{1}{2 a} \\int_{-a}^a f(t) e^{-i \\frac{k \\pi}{a} t} d t \\\\\n",
    "& =\\frac{1}{2 a} \\int_{-a}^a t^2 e^{-i \\frac{k \\pi}{a} t} d t \\\\\n",
    "& =\\frac{1}{2 a}\\left[t^2\\left(i \\frac{k \\pi}{a}\\right)^{-1} e^{-i \\frac{k \\pi}{a} t}-2 t\\left(i \\frac{k \\pi}{a}\\right)^{-2} e^{-i \\frac{k \\pi}{a} t}-2\\left(i \\frac{k \\pi}{a}\\right)^{-3} e^{-i \\frac{k \\pi}{a} t}\\right]_{-a}^a \\\\\n",
    "& =\\frac{1}{2 a}\\left[\\left(t^2\\left(i \\frac{k \\pi}{a}\\right)^{-1}-2 t\\left(i \\frac{k \\pi}{a}\\right)^{-2}-2\\left(i \\frac{k \\pi}{a}\\right)^{-3}\\right) e^{-i \\frac{k \\pi}{a} t}\\right]_{-a}^a \\\\\n",
    "& =\\frac{1}{2 a}\\left(\\frac{2 a^3\\left(\\left(k^2 \\pi^2-2\\right) \\sin (k \\pi)+2 k \\pi \\cos (k \\pi)\\right)}{k^3 \\pi^3}\\right) \\\\\n",
    "& =\\frac{1}{2 a}\\left(\\frac{2 a^3(2 k \\pi \\cos (k \\pi))}{k^3 \\pi^3}\\right) \\\\\n",
    "& =\\frac{2 a^2(-1)^k}{k^2 \\pi^2}\n",
    "\\end{aligned}\n",
    "$$\n",
    "\n",
    "以上より，複素フーリエ級数が以下のように計算された.\n",
    "$$\n",
    "C_0=\\frac{a^2}{3}, \\quad C_k=\\frac{2 a^2(-1)^k}{k^2 \\pi^2}\n",
    "$$\n",
    "\n",
    "よって複素フーリエ級数の式に代入すると\n",
    "$$\n",
    "f(t)=\\frac{a^2}{3}+\\frac{2 a^2}{\\pi^2} \\sum_{k= \\pm 1}^{ \\pm \\infty} \\frac{(-1)^k}{k^2} e^{i k \\frac{\\pi}{a} t}\n",
    "$$\n",
    "\n",
    "となる."
   ]
  },
  {
   "attachments": {},
   "cell_type": "markdown",
   "id": "70d99c23",
   "metadata": {},
   "source": [
    "**課題1-2:** 区間 $[-\\pi, \\pi]$ 上の以下の関数 $f(t)$ を複素フーリエ級数展開せよ．\n",
    "\n",
    "$$\n",
    "f(t) = \\begin{cases}\n",
    "0 & -\\pi < t < 0 \\\\\n",
    "1 & t = 0 \\\\\n",
    "2 & 0 < t \\leq \\pi\n",
    "\\end{cases}\n",
    "$$"
   ]
  },
  {
   "cell_type": "markdown",
   "id": "b0859e9e",
   "metadata": {},
   "source": [
    "**解答**\n",
    "\n",
    "複素フーリエ係数 $C_0, C_k$ を計算する. まず $\\omega_0=2 \\pi / T$ で周期 $T=2 \\pi$ より基本周波数は $\\omega_0=1$ である. これより, $C_0(k=0)$ のとき\n",
    "$$\n",
    "\\begin{aligned}\n",
    "C_0 & =\\frac{1}{2 \\pi} \\int_{-\\pi}^\\pi f(t) e^{-i \\cdot 0 \\cdot t} d t \\\\\n",
    "& =\\frac{1}{2 \\pi} \\int_{-\\pi}^\\pi f(t) d t \\\\\n",
    "& =\\frac{1}{2 \\pi}\\left\\{\\int_{-\\pi}^0 0 d t+\\int_0^\\pi 2 d t\\right\\} \\\\\n",
    "& =\\frac{1}{2 \\pi}[2 t]_0^\\pi \\\\\n",
    "& =\\frac{1}{2 \\pi}\\{2 \\pi+0\\}=1\n",
    "\\end{aligned}\n",
    "$$\n",
    "\n",
    "続いて， $C_k(k \\neq 0)$ のとき\n",
    "$$\n",
    "\\begin{aligned}\n",
    "C_k & =\\frac{1}{T} \\int_{-T / 2}^{T / 2} f(t) e^{-i k \\omega_0 t} d t \\\\\n",
    "& =\\frac{1}{2 \\pi} \\int_{-\\pi}^\\pi f(t) e^{-i k t} d t \\\\\n",
    "& =\\frac{1}{2 \\pi}\\left\\{\\int_{-\\pi}^0 0 e^{-i k t} d t+\\int_0^\\pi 2 e^{-i k t} d t\\right\\} \\\\\n",
    "& =\\frac{1}{2 \\pi} \\int_0^\\pi 2 e^{-i k t} d t \\\\\n",
    "& =\\frac{1}{2 \\pi}\\left[\\frac{2}{-i k} e^{-i k t}\\right]_0^\\pi \\\\\n",
    "& =\\frac{1}{2 \\pi}\\left(\\frac{2}{-i k} e^{-i k \\pi}-\\frac{2}{-i k} e^{-i k \\cdot 0}\\right) \\\\\n",
    "& =\\frac{1}{2 \\pi}\\left(\\frac{2}{-i k} e^{-i k \\pi}+\\frac{2}{i k}\\right) \\\\\n",
    "& =\\frac{1}{\\pi}\\left(\\frac{1-e^{i k \\pi}}{i k}\\right) \\\\\n",
    "& =\\frac{1}{\\pi}\\left(\\frac{1-\\cos k \\pi-i \\sin k \\pi}{i k}\\right) \\\\\n",
    "& =\\frac{1}{\\pi}\\left\\{\\frac{1-(-1)^k}{i k}\\right\\} \\\\\n",
    "& =\\frac{1}{i k \\pi}\\left\\{1-(-1)^k\\right\\}\n",
    "\\end{aligned}\n",
    "$$\n",
    "\n",
    "以上より，複素フーリ工級数が以下のように計算された.\n",
    "$$\n",
    "C_0=1, \\quad C_k=\\frac{1}{i k \\pi}\\left\\{1-(-1)^k\\right\\}\n",
    "$$\n",
    "\n",
    "よって複素フーリエ級数の式に代入すると\n",
    "$$\n",
    "f(t)=1+\\frac{1}{i \\pi} \\sum_{k= \\pm 1}^{ \\pm \\infty} \\frac{1-(-1)^k}{k} e^{i k t}\n",
    "$$\n",
    "\n",
    "となる."
   ]
  },
  {
   "attachments": {},
   "cell_type": "markdown",
   "id": "691c283d",
   "metadata": {},
   "source": [
    "## 課題2\n",
    "**課題2-1:** 上記のサンプルコードを参考に，近似対象の関数や複素フーリエ級数の展開の項数を変更して結果を確認せよ．"
   ]
  },
  {
   "attachments": {},
   "cell_type": "markdown",
   "id": "2b2e4d32",
   "metadata": {},
   "source": [
    "## 課題3\n",
    "**課題3-1**: 区間 $[a,b]$ 上の複素数を含む関数 $f(x),g(x)$ の内積\n",
    "\n",
    "$$\n",
    "\\int_{a}^{b}\\ f(x) \\overline{g(x)} dx= 0\n",
    "$$\n",
    "\n",
    "について，なぜ $g(x)$ ではなく共役な複素数 $\\overline{g(x)}$ を考えるのか考察せよ．"
   ]
  },
  {
   "cell_type": "markdown",
   "id": "c60eaa06",
   "metadata": {},
   "source": [
    "**解答**\n",
    "\n",
    "共役な複素数 $\\overline{g(x)}$ を取らずに計算することを考える．\n",
    "\n",
    "$$\n",
    "\\int_a^b f(x) f(x) d x\n",
    "$$\n",
    "\n",
    "ここで，内積の公理に関して，$f(t)=e^{i k \\omega t}$ として正値性を確認すると，\n",
    "$$\n",
    "\\begin{aligned}\n",
    "\\int_a^b f(t) f(t) d t & =\\int_a^b e^{i k \\omega t} \\cdot e^{i k \\omega t} d t \\\\\n",
    "& =0\n",
    "\\end{aligned}\n",
    "$$\n",
    "\n",
    "となり，自身との内積が0になる．共役な複素数を取ることで自身との内積が0とならないようにしている．"
   ]
  },
  {
   "cell_type": "markdown",
   "id": "2c63c67e",
   "metadata": {},
   "source": []
  }
 ],
 "metadata": {
  "kernelspec": {
   "display_name": "Python 3 (ipykernel)",
   "language": "python",
   "name": "python3"
  },
  "language_info": {
   "codemirror_mode": {
    "name": "ipython",
    "version": 3
   },
   "file_extension": ".py",
   "mimetype": "text/x-python",
   "name": "python",
   "nbconvert_exporter": "python",
   "pygments_lexer": "ipython3",
   "version": "3.9.13"
  }
 },
 "nbformat": 4,
 "nbformat_minor": 5
}
