{
 "cells": [
  {
   "attachments": {},
   "cell_type": "markdown",
   "id": "be0f83d0",
   "metadata": {},
   "source": [
    "# 第12回: 課題ファイル"
   ]
  },
  {
   "attachments": {},
   "cell_type": "markdown",
   "id": "c74ebcab",
   "metadata": {},
   "source": [
    "## 課題1\n",
    "**課題1-1:** 以下の関数をラプラス変換せよ．\n",
    "\n",
    "$$\n",
    "f(t) = 1\n",
    "$$"
   ]
  },
  {
   "cell_type": "markdown",
   "id": "e4fa5fbb",
   "metadata": {},
   "source": [
    "**解答**\n",
    "\n",
    "ラプラス変換の式に代入して計算する.\n",
    "$$\n",
    "\\begin{aligned}\n",
    "F(s) & =\\int_0^{\\infty} f(t) e^{-s t} d t \\\\\n",
    "& =\\int_0^{\\infty} 1 \\cdot e^{-s t} d t \\\\\n",
    "& =\\left[\\frac{e^{-s t}}{-s}\\right]_0^{\\infty} \\\\\n",
    "& =\\frac{e^{-s \\cdot \\infty}}{-s}-\\frac{e^{-s \\cdot 0}}{-s} \\\\\n",
    "& =\\frac{1}{s}\n",
    "\\end{aligned}\n",
    "$$"
   ]
  },
  {
   "attachments": {},
   "cell_type": "markdown",
   "id": "65870f6e",
   "metadata": {},
   "source": [
    "**課題1-2:** 以下の関数をラプラス変換せよ．\n",
    "\n",
    "$$\n",
    "f(t) = t\n",
    "$$"
   ]
  },
  {
   "cell_type": "markdown",
   "id": "5d1c5cf3",
   "metadata": {},
   "source": [
    "**解答**\n",
    "\n",
    "$$\n",
    "\\begin{aligned}\n",
    "F(s) & =\\int_0^{\\infty} t e^{-s t} d t \\\\\n",
    "& =\\left[t \\frac{e^{-s t}}{-s}\\right]_0^{\\infty}-\\int_0^{\\infty} \\frac{e^{-s t}}{-s} d t \\\\\n",
    "& =\\infty \\cdot \\frac{e^{-s \\cdot \\infty}}{-s}-0 \\cdot \\frac{e^{-s \\cdot 0}}{-s}+\\frac{1}{s} \\int_0^{\\infty} e^{-s t} d t \\\\\n",
    "& =\\frac{1}{s} \\int_0^{\\infty} e^{-s t} d t \\\\\n",
    "& =\\frac{1}{s}\\left[\\frac{e^{-s t}}{-s}\\right]_0^{\\infty} \\\\\n",
    "& =\\frac{1}{s}\\left\\{\\frac{e^{-s \\cdot \\infty}}{-s}-\\frac{e^{-s \\cdot 0}}{-s}\\right\\} \\\\\n",
    "& =\\frac{1}{s^2}\n",
    "\\end{aligned}\n",
    "$$"
   ]
  },
  {
   "attachments": {},
   "cell_type": "markdown",
   "id": "5da04c99",
   "metadata": {},
   "source": [
    "**課題1-3:** 以下の関数をラプラス変換せよ．\n",
    "\n",
    "$$\n",
    "f(t) = t^3\n",
    "$$"
   ]
  },
  {
   "cell_type": "markdown",
   "id": "60f120ca",
   "metadata": {},
   "source": [
    "**解答**\n",
    "\n",
    "$$\n",
    "\\begin{aligned}\n",
    "F(s) & =\\int_0^{\\infty} f(t) e^{-s t} d t \\\\\n",
    "& =\\int_0^{\\infty} t^3 e^{-s t} d t \\\\\n",
    "& =\\left[t^3 \\frac{e^{-s t}}{-s}\\right]_0^{\\infty}-\\int_0^{\\infty} 3 t^2 \\cdot \\frac{e^{-s t}}{-s} d t \\\\\n",
    "& =0-0+\\frac{3}{s} \\int_0^{\\infty} t^2 e^{-s t} d t \\\\\n",
    "& =\\frac{3}{s} \\int_0^{\\infty} t^2 e^{-s t} d t \\\\\n",
    "& =\\frac{3}{s}\\left(\\left[t^2 \\frac{e^{-s t}}{-s}\\right]_0^{\\infty}-\\int_0^{\\infty} 2 t \\cdot \\frac{e^{-s t}}{-s} d t\\right) \\\\\n",
    "& =\\frac{3}{s}\\left(0+\\frac{2}{s} \\int_0^{\\infty} t e^{-s t} d t\\right) \\\\\n",
    "& =\\frac{3}{s} \\cdot \\frac{2}{s} \\int_0^{\\infty} t e^{-s t} d t \\\\\n",
    "& =\\frac{3}{s} \\cdot \\frac{2}{s} \\cdot \\frac{1}{s^2} \\\\\n",
    "& =\\frac{6}{s^4}\n",
    "\\end{aligned}\n",
    "$$"
   ]
  },
  {
   "attachments": {},
   "cell_type": "markdown",
   "id": "738b0f29",
   "metadata": {},
   "source": [
    "**課題1-4:** 以下の関数をラプラス変換せよ．\n",
    "\n",
    "$$\n",
    "f(t) = \\cos \\frac{t}{3}\n",
    "$$"
   ]
  },
  {
   "cell_type": "markdown",
   "id": "549fe2f2",
   "metadata": {},
   "source": [
    "**解答**\n",
    "\n",
    "$$\n",
    "\\begin{aligned}\n",
    "& F(s)=\\int_0^{\\infty} f(t) e^{-s t} d t \\\\\n",
    "& =\\int_0^{\\infty} \\cos \\frac{t}{3} \\cdot e^{-s t} d t \\\\\n",
    "& =\\frac{1}{2} \\int_0^{\\infty}\\left(e^{\\frac{i t}{3}}+e^{-\\frac{i t}{3}}\\right) e^{-s t} d t \\\\\n",
    "& =\\frac{1}{2} \\int_0^{\\infty} e^{-\\left(s-\\frac{i}{3}\\right) t}+e^{-\\left(s+\\frac{i}{3}\\right) t} d t \\\\\n",
    "& =\\frac{1}{2}\\left(\\int_0^{\\infty} e^{-\\left(s-\\frac{i}{3}\\right) t} d t+\\int_0^{\\infty} e^{-\\left(s+\\frac{i}{3}\\right) t} d t\\right) \\\\\n",
    "& =\\frac{1}{2}\\left(\\left[\\frac{e^{-\\left(s-\\frac{i}{3}\\right) t}}{-\\left(s-\\frac{i}{3}\\right)}\\right]_0^{\\infty}+\\left[\\frac{e^{-\\left(s+\\frac{i}{3}\\right) t}}{-\\left(s+\\frac{i}{3}\\right)}\\right]_0^{\\infty}\\right) \\\\\n",
    "& =\\frac{1}{2}\\left(\\frac{1}{s-\\frac{i}{3}}+\\frac{1}{s+\\frac{i}{3}}\\right) \\\\\n",
    "& =\\frac{1}{2}\\left(\\frac{2 s}{s^2+\\left(\\frac{1}{3}\\right)^2}\\right) \\\\\n",
    "& =\\frac{s}{s^2+\\left(\\frac{1}{3}\\right)^2} \\\\\n",
    "& =\\frac{9 s}{9 s^2+1} \\\\\n",
    "&\n",
    "\\end{aligned}\n",
    "$$"
   ]
  },
  {
   "cell_type": "markdown",
   "id": "96f58d1f",
   "metadata": {},
   "source": []
  }
 ],
 "metadata": {
  "kernelspec": {
   "display_name": "Python 3 (ipykernel)",
   "language": "python",
   "name": "python3"
  },
  "language_info": {
   "codemirror_mode": {
    "name": "ipython",
    "version": 3
   },
   "file_extension": ".py",
   "mimetype": "text/x-python",
   "name": "python",
   "nbconvert_exporter": "python",
   "pygments_lexer": "ipython3",
   "version": "3.9.13"
  }
 },
 "nbformat": 4,
 "nbformat_minor": 5
}
