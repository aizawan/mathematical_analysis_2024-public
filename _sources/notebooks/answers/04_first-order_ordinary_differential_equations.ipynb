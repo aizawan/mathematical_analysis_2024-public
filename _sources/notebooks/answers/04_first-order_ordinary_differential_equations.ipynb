{
 "cells": [
  {
   "attachments": {},
   "cell_type": "markdown",
   "id": "be0f83d0",
   "metadata": {},
   "source": [
    "# 第4回: 課題ファイル"
   ]
  },
  {
   "attachments": {},
   "cell_type": "markdown",
   "id": "44290c06",
   "metadata": {},
   "source": [
    "## 課題1\n",
    "**課題1-1:** 次の微分方程式の一般解を求めよ（手計算）．\n",
    "\n",
    "$$\n",
    "\\begin{align}\n",
    "\\frac{dy}{dx} + y = 1\n",
    "\\end{align}\n",
    "$$"
   ]
  },
  {
   "attachments": {},
   "cell_type": "markdown",
   "id": "452679a3",
   "metadata": {},
   "source": [
    "**課題1-2:** 次の微分方程式の一般解を求めよ（手計算）．\n",
    "\n",
    "$$\n",
    "\\begin{align}\n",
    "\\frac{dy}{dx} = xy\n",
    "\\end{align}\n",
    "$$"
   ]
  },
  {
   "attachments": {},
   "cell_type": "markdown",
   "id": "a3f9044c",
   "metadata": {},
   "source": [
    "**課題1-3:** 次の微分方程式の一般解を求めよ（手計算）．\n",
    "\n",
    "$$\n",
    "\\begin{align}\n",
    "\\frac{dy}{dx} = y^2 + 1\n",
    "\\end{align}\n",
    "$$"
   ]
  },
  {
   "attachments": {},
   "cell_type": "markdown",
   "id": "99c5fbb7",
   "metadata": {},
   "source": [
    "**課題1-4:** 次の微分方程式の一般解を求めよ（手計算）．\n",
    "\n",
    "$$\n",
    "\\begin{align}\n",
    "\\left( x + 1\\right) \\frac{dy}{dx} = y\n",
    "\\end{align}\n",
    "$$"
   ]
  },
  {
   "cell_type": "markdown",
   "id": "59daec72",
   "metadata": {},
   "source": [
    "**課題1-5:** 次の微分方程式の一般解を求めよ（手計算）．\n",
    "\n",
    "$$\n",
    "\\begin{align}\n",
    "\\frac{dy}{dx} = \\sqrt{y}\n",
    "\\end{align}\n",
    "$$"
   ]
  },
  {
   "cell_type": "markdown",
   "id": "13902d94",
   "metadata": {},
   "source": [
    "**課題1-6:** 次の微分方程式の特殊解を求めよ（手計算）．\n",
    "\n",
    "$$\n",
    "\\begin{align}\n",
    "\\frac{dy}{dx} = y(1-y), \\qquad y(0)=\\frac{1}{2}\n",
    "\\end{align}\n",
    "$$"
   ]
  },
  {
   "attachments": {},
   "cell_type": "markdown",
   "id": "30b829a7",
   "metadata": {},
   "source": [
    "**課題1-7:** 問1-1から問1-6の微分方程式をsympyで実装し，手計算の結果と一致することを確認せよ．"
   ]
  },
  {
   "cell_type": "code",
   "execution_count": 3,
   "id": "13618877",
   "metadata": {},
   "outputs": [],
   "source": [
    "# 解答用セル"
   ]
  },
  {
   "attachments": {},
   "cell_type": "markdown",
   "id": "133932d8",
   "metadata": {},
   "source": [
    "## 課題2\n",
    "**課題2-1:** 次の微分方程式の一般解を求めよ（手計算）．\n",
    "\n",
    "$$\n",
    "\\begin{align}\n",
    "x^2\\frac{dy}{dx} = y^2\n",
    "\\end{align}\n",
    "$$"
   ]
  },
  {
   "attachments": {},
   "cell_type": "markdown",
   "id": "b2be3187",
   "metadata": {},
   "source": [
    "**課題2-2:** 次の微分方程式の一般解を求めよ（手計算）．\n",
    "\n",
    "$$\n",
    "\\begin{align}\n",
    "\\frac{dy}{dx} = \\frac{x+y}{x}\n",
    "\\end{align}\n",
    "$$"
   ]
  },
  {
   "attachments": {},
   "cell_type": "markdown",
   "id": "4bf75274",
   "metadata": {},
   "source": [
    "**課題2-3:** 次の微分方程式の一般解を求めよ（手計算）．\n",
    "\n",
    "$$\n",
    "\\begin{align}\n",
    "\\frac{dy}{dx} = \\frac{x-y}{x+y}\n",
    "\\end{align}\n",
    "$$"
   ]
  },
  {
   "attachments": {},
   "cell_type": "markdown",
   "id": "730ed96a",
   "metadata": {},
   "source": [
    "**課題2-4:** 問2-1から問2-3の微分方程式をsympyで実装し，手計算の結果と一致することを確認せよ．"
   ]
  },
  {
   "cell_type": "code",
   "execution_count": 2,
   "id": "21545059",
   "metadata": {},
   "outputs": [],
   "source": [
    "# 解答用セル"
   ]
  }
 ],
 "metadata": {
  "kernelspec": {
   "display_name": "ml",
   "language": "python",
   "name": "python3"
  },
  "language_info": {
   "codemirror_mode": {
    "name": "ipython",
    "version": 3
   },
   "file_extension": ".py",
   "mimetype": "text/x-python",
   "name": "python",
   "nbconvert_exporter": "python",
   "pygments_lexer": "ipython3",
   "version": "3.9.-1"
  },
  "vscode": {
   "interpreter": {
    "hash": "c558876ffd71b3528bcdaaa45c5eeebe18905a0bd68c09a6b765c00e31df719e"
   }
  }
 },
 "nbformat": 4,
 "nbformat_minor": 5
}
