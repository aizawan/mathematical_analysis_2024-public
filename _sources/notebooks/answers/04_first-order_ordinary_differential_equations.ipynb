{
 "cells": [
  {
   "attachments": {},
   "cell_type": "markdown",
   "id": "be0f83d0",
   "metadata": {},
   "source": [
    "# 第4回: 課題ファイル"
   ]
  },
  {
   "attachments": {},
   "cell_type": "markdown",
   "id": "44290c06",
   "metadata": {},
   "source": [
    "## 課題1\n",
    "**課題1-1:** 次の微分方程式の一般解を求めよ（手計算）．\n",
    "\n",
    "$$\n",
    "\\begin{align}\n",
    "\\frac{dy}{dx} + y = 1\n",
    "\\end{align}\n",
    "$$"
   ]
  },
  {
   "cell_type": "markdown",
   "id": "0e2e07a1",
   "metadata": {},
   "source": [
    "**解答**\n",
    "\n",
    "$$\n",
    "\\begin{align}\n",
    "\\frac{d y}{1-y} &= d x \\\\\n",
    "-\\log |1-y| &= x+C^{\\prime} \\\\\n",
    "|1-y| &= e^{-x-C^{\\prime}} \\\\\n",
    "1-y &= \\pm e^{-C^{\\prime}} e^{-x} \\\\\n",
    "y &= C e^{-x}+1\n",
    "\\end{align}\n",
    "$$"
   ]
  },
  {
   "attachments": {},
   "cell_type": "markdown",
   "id": "452679a3",
   "metadata": {},
   "source": [
    "**課題1-2:** 次の微分方程式の一般解を求めよ（手計算）．\n",
    "\n",
    "$$\n",
    "\\begin{align}\n",
    "\\frac{dy}{dx} = xy\n",
    "\\end{align}\n",
    "$$"
   ]
  },
  {
   "cell_type": "markdown",
   "id": "fc63fb57",
   "metadata": {},
   "source": [
    "**解答**\n",
    "\n",
    "\n",
    "$$\n",
    "\\begin{align}\n",
    "\\frac{d y}{y} &= x dx \\\\\n",
    "\\log |y| &= \\frac{x^2}{2}+C^{\\prime} \\\\\n",
    "|y| &= e^{\\frac{x^2}{2}+C^{\\prime}} \\\\\n",
    "y &= \\pm e^{-C^{\\prime}} e^{\\frac{x^2}{2}} \\\\\n",
    "y &= C e^{\\frac{x^2}{2}}\n",
    "\\end{align}\n",
    "$$"
   ]
  },
  {
   "attachments": {},
   "cell_type": "markdown",
   "id": "a3f9044c",
   "metadata": {},
   "source": [
    "**課題1-3:** 次の微分方程式の一般解を求めよ（手計算）．\n",
    "\n",
    "$$\n",
    "\\begin{align}\n",
    "\\frac{dy}{dx} = y^2 + 1\n",
    "\\end{align}\n",
    "$$"
   ]
  },
  {
   "cell_type": "markdown",
   "id": "f27c3ee9",
   "metadata": {},
   "source": [
    "**解答**\n",
    "\n",
    "$$\n",
    "\\begin{align}\n",
    "\\frac{d y}{y^2+1} &=d x \\\\\n",
    "\\tan ^{-1}(y) & =x+C \\\\\n",
    "y & =\\tan (x+C)\n",
    "\\end{align}\n",
    "$$\n",
    "\n",
    "注意：逆三角関数 $y = \\tan x \\Leftrightarrow x = \\tan^{-1} x$"
   ]
  },
  {
   "attachments": {},
   "cell_type": "markdown",
   "id": "99c5fbb7",
   "metadata": {},
   "source": [
    "**課題1-4:** 次の微分方程式の一般解を求めよ（手計算）．\n",
    "\n",
    "$$\n",
    "\\begin{align}\n",
    "\\left( x + 1\\right) \\frac{dy}{dx} = y\n",
    "\\end{align}\n",
    "$$"
   ]
  },
  {
   "cell_type": "markdown",
   "id": "8520fead",
   "metadata": {},
   "source": [
    "**解答**\n",
    "\n",
    "$$\n",
    "\\begin{align}\n",
    "\\frac{d y}{y} &= \\frac{1}{x+1} d x \\\\\n",
    "\\log |y| & =\\log |x+1|+C^{\\prime} \\\\\n",
    "|y| & =e^{\\log |x+1|+C^{\\prime}} \\\\\n",
    "y & = \\pm e^{C^{\\prime}}(x+1) \\\\\n",
    "y & =C(x+1)\n",
    "\\end{align}\n",
    "$$"
   ]
  },
  {
   "cell_type": "markdown",
   "id": "59daec72",
   "metadata": {},
   "source": [
    "**課題1-5:** 次の微分方程式の一般解を求めよ（手計算）．\n",
    "\n",
    "$$\n",
    "\\begin{align}\n",
    "\\frac{dy}{dx} = \\sqrt{y}\n",
    "\\end{align}\n",
    "$$"
   ]
  },
  {
   "cell_type": "markdown",
   "id": "2aa81bf5",
   "metadata": {},
   "source": [
    "**解答**\n",
    "\n",
    "$$\n",
    "\\begin{align}\n",
    "\\int \\frac{dy}{\\sqrt{y}} = \\int dx \\\\\n",
    "2 \\sqrt{y} = x + C \\\\\n",
    "y = \\frac{1}{4} (x + C)^2\n",
    "\\end{align}\n",
    "$$\n",
    "\n",
    "ただし，$-C \\leq x$ のときのみ成立"
   ]
  },
  {
   "cell_type": "markdown",
   "id": "13902d94",
   "metadata": {},
   "source": [
    "**課題1-6:** 次の微分方程式の特殊解を求めよ（手計算）．\n",
    "\n",
    "$$\n",
    "\\begin{align}\n",
    "\\frac{dy}{dx} = y(1-y), \\qquad y(0)=\\frac{1}{2}\n",
    "\\end{align}\n",
    "$$"
   ]
  },
  {
   "cell_type": "markdown",
   "id": "d14b0ce4",
   "metadata": {},
   "source": [
    "解答\n",
    "\n",
    "$$\n",
    "\\begin{align}\n",
    "\\frac{dy}{y(1-y)} &= dx \\\\\n",
    "\\left(\\frac{1}{y} + \\frac{1}{1-y}\\right) dy &= dx \\\\\n",
    "\\log |y| - \\log |1-y| &= x + C \\\\\n",
    "\\log |\\frac{y}{1-y}| &= x + C \\\\\n",
    "\\frac{y}{1-y} &= \\pm e^{x+C} \\\\\n",
    "y &= \\frac{De^x}{De^x + 1} \\\\\n",
    "y &= \\frac{1}{1+Ee^{-x}}\n",
    "\\end{align}\n",
    "$$\n",
    "\n",
    "初期条件より\n",
    "\n",
    "$$\n",
    "y = \\frac{1}{1+e^{-x}}\n",
    "$$"
   ]
  },
  {
   "attachments": {},
   "cell_type": "markdown",
   "id": "30b829a7",
   "metadata": {},
   "source": [
    "**課題1-7:** 問1-1から問1-6の微分方程式をsympyで実装し，手計算の結果と一致することを確認せよ．"
   ]
  },
  {
   "cell_type": "code",
   "execution_count": 6,
   "id": "13618877",
   "metadata": {},
   "outputs": [
    {
     "data": {
      "text/latex": [
       "$\\displaystyle y{\\left(x \\right)} + \\frac{d}{d x} y{\\left(x \\right)} = 1$"
      ],
      "text/plain": [
       "Eq(y(x) + Derivative(y(x), x), 1)"
      ]
     },
     "metadata": {},
     "output_type": "display_data"
    },
    {
     "data": {
      "text/latex": [
       "$\\displaystyle y{\\left(x \\right)} = C_{1} e^{- x} + 1$"
      ],
      "text/plain": [
       "Eq(y(x), C1*exp(-x) + 1)"
      ]
     },
     "metadata": {},
     "output_type": "display_data"
    },
    {
     "name": "stdout",
     "output_type": "stream",
     "text": [
      "\n"
     ]
    },
    {
     "data": {
      "text/latex": [
       "$\\displaystyle \\frac{d}{d x} y{\\left(x \\right)} = x y{\\left(x \\right)}$"
      ],
      "text/plain": [
       "Eq(Derivative(y(x), x), x*y(x))"
      ]
     },
     "metadata": {},
     "output_type": "display_data"
    },
    {
     "data": {
      "text/latex": [
       "$\\displaystyle y{\\left(x \\right)} = C_{1} e^{\\frac{x^{2}}{2}}$"
      ],
      "text/plain": [
       "Eq(y(x), C1*exp(x**2/2))"
      ]
     },
     "metadata": {},
     "output_type": "display_data"
    },
    {
     "name": "stdout",
     "output_type": "stream",
     "text": [
      "\n"
     ]
    },
    {
     "data": {
      "text/latex": [
       "$\\displaystyle \\frac{d}{d x} y{\\left(x \\right)} = y^{2}{\\left(x \\right)} + 1$"
      ],
      "text/plain": [
       "Eq(Derivative(y(x), x), y(x)**2 + 1)"
      ]
     },
     "metadata": {},
     "output_type": "display_data"
    },
    {
     "data": {
      "text/latex": [
       "$\\displaystyle y{\\left(x \\right)} = - \\tan{\\left(C_{1} - x \\right)}$"
      ],
      "text/plain": [
       "Eq(y(x), -tan(C1 - x))"
      ]
     },
     "metadata": {},
     "output_type": "display_data"
    },
    {
     "name": "stdout",
     "output_type": "stream",
     "text": [
      "\n"
     ]
    },
    {
     "data": {
      "text/latex": [
       "$\\displaystyle \\left(x + 1\\right) \\frac{d}{d x} y{\\left(x \\right)} = y{\\left(x \\right)}$"
      ],
      "text/plain": [
       "Eq((x + 1)*Derivative(y(x), x), y(x))"
      ]
     },
     "metadata": {},
     "output_type": "display_data"
    },
    {
     "data": {
      "text/latex": [
       "$\\displaystyle y{\\left(x \\right)} = C_{1} \\left(x + 1\\right)$"
      ],
      "text/plain": [
       "Eq(y(x), C1*(x + 1))"
      ]
     },
     "metadata": {},
     "output_type": "display_data"
    },
    {
     "name": "stdout",
     "output_type": "stream",
     "text": [
      "\n"
     ]
    },
    {
     "data": {
      "text/latex": [
       "$\\displaystyle \\frac{d}{d x} y{\\left(x \\right)} = \\sqrt{y{\\left(x \\right)}}$"
      ],
      "text/plain": [
       "Eq(Derivative(y(x), x), sqrt(y(x)))"
      ]
     },
     "metadata": {},
     "output_type": "display_data"
    },
    {
     "data": {
      "text/latex": [
       "$\\displaystyle y{\\left(x \\right)} = \\frac{C_{1}^{2}}{4} + \\frac{C_{1} x}{2} + \\frac{x^{2}}{4}$"
      ],
      "text/plain": [
       "Eq(y(x), C1**2/4 + C1*x/2 + x**2/4)"
      ]
     },
     "metadata": {},
     "output_type": "display_data"
    },
    {
     "name": "stdout",
     "output_type": "stream",
     "text": [
      "\n"
     ]
    },
    {
     "data": {
      "text/latex": [
       "$\\displaystyle \\frac{d}{d x} y{\\left(x \\right)} = \\left(1 - y{\\left(x \\right)}\\right) y{\\left(x \\right)}$"
      ],
      "text/plain": [
       "Eq(Derivative(y(x), x), (1 - y(x))*y(x))"
      ]
     },
     "metadata": {},
     "output_type": "display_data"
    },
    {
     "data": {
      "text/latex": [
       "$\\displaystyle y{\\left(x \\right)} = \\frac{1}{1 + 1.0 e^{- x}}$"
      ],
      "text/plain": [
       "Eq(y(x), 1/(1 + 1.0*exp(-x)))"
      ]
     },
     "metadata": {},
     "output_type": "display_data"
    }
   ],
   "source": [
    "# 解答用セル\n",
    "\n",
    "from sympy import symbols, Eq, Derivative, Function, dsolve, sqrt\n",
    "\n",
    "x = symbols('x')\n",
    "y = Function('y')(x)\n",
    "\n",
    "dy = Derivative(y, x)\n",
    "\n",
    "eq1 = Eq(dy + y, 1)\n",
    "eq2 = Eq(dy, x * y)\n",
    "eq3 = Eq(dy, y**2 + 1)\n",
    "eq4 = Eq((x+1) * dy, y)\n",
    "eq5 = Eq(dy, sqrt(y))\n",
    "eq6 = Eq(dy, y*(1-y))\n",
    "\n",
    "for eq in [eq1, eq2, eq3, eq4, eq5]:\n",
    "    y_ = dsolve(eq, y)\n",
    "    display(eq)\n",
    "    display(y_)\n",
    "    print()\n",
    "\n",
    "y_ = dsolve(eq6, y, ics={y.subs(x,0): 1/2})\n",
    "display(eq6)\n",
    "display(y_)    "
   ]
  },
  {
   "attachments": {},
   "cell_type": "markdown",
   "id": "133932d8",
   "metadata": {},
   "source": [
    "## 課題2\n",
    "**課題2-1:** 次の微分方程式の一般解を求めよ（手計算）．\n",
    "\n",
    "$$\n",
    "\\begin{align}\n",
    "x^2\\frac{dy}{dx} = y^2\n",
    "\\end{align}\n",
    "$$"
   ]
  },
  {
   "cell_type": "markdown",
   "id": "f9934c5e",
   "metadata": {},
   "source": [
    "## 解答\n",
    "\n",
    "両辺を $x^2$ で割ると，\n",
    "\n",
    "$$\n",
    "\\frac{dy}{dx} = \\frac{y^2}{x^2} \n",
    "$$\n",
    "\n",
    "$ u = \\frac{y}{x} $ として変数変換をすると，\n",
    "\n",
    "$$\n",
    "u + x \\frac{du}{dx} = u^2 \n",
    "$$\n",
    "\n",
    "両辺積分する．左辺の積分定数 $C_1$ と右辺の積分定数 $C_2$ が存在するがまとめて $C' = C_1 + C_2$ として\n",
    "\n",
    "$$\n",
    "\\begin{align}\n",
    "\\frac{1}{u^2 - u} &= \\frac{1}{x} dx \\\\\n",
    "\\int \\frac{1}{u^2 - u} du &= \\int \\frac{1}{x} dx \\\\\n",
    "- (\\log |u| - \\log |u-1|) &= \\log |x| + C' \\\\\n",
    "u &= \\frac{1}{1-e^{C'} x} \\\\\n",
    "y &= \\frac{x}{1-Cx} \n",
    "\\end{align}\n",
    "$$"
   ]
  },
  {
   "attachments": {},
   "cell_type": "markdown",
   "id": "b2be3187",
   "metadata": {},
   "source": [
    "**課題2-2:** 次の微分方程式の一般解を求めよ（手計算）．\n",
    "\n",
    "$$\n",
    "\\begin{align}\n",
    "\\frac{dy}{dx} = \\frac{x+y}{x}\n",
    "\\end{align}\n",
    "$$"
   ]
  },
  {
   "cell_type": "markdown",
   "id": "00ede688",
   "metadata": {},
   "source": [
    "解答\n",
    "\n",
    "$u = \\frac{y}{x}$として変数変換をすると，\n",
    "\n",
    "$$\n",
    "\\begin{align}\n",
    "\\frac{dy}{dx} &= 1 + \\frac{y}{x} \\\\\n",
    "u + x \\frac{du}{dx} &= 1 + u \\\\\n",
    "x \\frac{du}{dx} &= 1 \\\\\n",
    "du &= \\frac{dx}{x} \\\\\n",
    "\\end{align}\n",
    "$$\n",
    "\n",
    "両辺積分する．左辺の積分定数 $C_1$ と右辺の積分定数 $C_2$ が存在するがまとめて $C = C_1 + C_2$ として\n",
    "\n",
    "$$\n",
    "\\begin{align}\n",
    "\\int du &= \\int \\frac{dx}{x} \\\\\n",
    "u &= \\log |x| + C \\\\\n",
    "\\frac{y}{x} &= \\log |x| + C \\\\\n",
    "y &= x \\log |x| + Cx\n",
    "\\end{align}\n",
    "$$"
   ]
  },
  {
   "attachments": {},
   "cell_type": "markdown",
   "id": "4bf75274",
   "metadata": {},
   "source": [
    "**課題2-3:** 次の微分方程式の一般解を求めよ（手計算）．\n",
    "\n",
    "$$\n",
    "\\begin{align}\n",
    "\\frac{dy}{dx} = \\frac{x-y}{x+y}\n",
    "\\end{align}\n",
    "$$"
   ]
  },
  {
   "cell_type": "markdown",
   "id": "bccbcc49",
   "metadata": {},
   "source": [
    "解答\n",
    "\n",
    "$$\n",
    "\\begin{align}\n",
    "\\frac{d y}{d x}&=\\frac{x-y}{x+y} \\\\\n",
    "\\frac{d y}{d x}&=\\frac{1-\\frac{y}{x}}{1+\\frac{y}{x}}\n",
    "\\end{align}\n",
    "$$\n",
    "\n",
    "$$\n",
    "\\begin{align}\n",
    "u+x \\frac{d u}{d x} & =\\frac{1-u}{1+u} \\\\\n",
    "x \\frac{d u}{d x} & =\\frac{2-(1+u)^2}{1+u} \\\\\n",
    "\\frac{1+u}{2-(1+u)^2} d u & =\\frac{d x}{x}\n",
    "\\end{align}\n",
    "$$\n",
    "\n",
    "$$\n",
    "\\begin{align}\n",
    "\\int \\frac{1+u}{2-(1+u)^2} d u & =\\int \\frac{d x}{x} \\\\\n",
    "-\\frac{1}{2} \\log \\left|u^2+2 u-1\\right| & =\\log |x|+C^{\\prime} \\\\\n",
    "u & = \\pm \\frac{\\sqrt{2 x^2 \\pm e^{-C^{\\prime}}}}{x}-1\n",
    "\\end{align}\n",
    "$$\n",
    "\n",
    "$$\n",
    "\\begin{align}\n",
    "u & = \\pm \\frac{\\sqrt{2 x^2+C}}{x}-1 \\\\\n",
    "\\frac{y}{x} & = \\pm \\frac{\\sqrt{2 x^2+C}}{x}-1 \\\\\n",
    "y & =-x \\pm \\sqrt{2 x^2+C}\n",
    "\\end{align}\n",
    "$$"
   ]
  },
  {
   "attachments": {},
   "cell_type": "markdown",
   "id": "730ed96a",
   "metadata": {},
   "source": [
    "**課題2-4:** 問2-1から問2-3の微分方程式をsympyで実装し，手計算の結果と一致することを確認せよ．"
   ]
  },
  {
   "cell_type": "code",
   "execution_count": 10,
   "id": "21545059",
   "metadata": {},
   "outputs": [
    {
     "data": {
      "text/latex": [
       "$\\displaystyle x^{2} \\frac{d}{d x} y{\\left(x \\right)} = y^{2}{\\left(x \\right)}$"
      ],
      "text/plain": [
       "Eq(x**2*Derivative(y(x), x), y(x)**2)"
      ]
     },
     "metadata": {},
     "output_type": "display_data"
    },
    {
     "data": {
      "text/latex": [
       "$\\displaystyle y{\\left(x \\right)} = - \\frac{x}{C_{1} x - 1}$"
      ],
      "text/plain": [
       "Eq(y(x), -x/(C1*x - 1))"
      ]
     },
     "metadata": {},
     "output_type": "display_data"
    },
    {
     "name": "stdout",
     "output_type": "stream",
     "text": [
      "\n"
     ]
    },
    {
     "data": {
      "text/latex": [
       "$\\displaystyle \\frac{d}{d x} y{\\left(x \\right)} = \\frac{x + y{\\left(x \\right)}}{x}$"
      ],
      "text/plain": [
       "Eq(Derivative(y(x), x), (x + y(x))/x)"
      ]
     },
     "metadata": {},
     "output_type": "display_data"
    },
    {
     "data": {
      "text/latex": [
       "$\\displaystyle y{\\left(x \\right)} = x \\left(C_{1} + \\log{\\left(x \\right)}\\right)$"
      ],
      "text/plain": [
       "Eq(y(x), x*(C1 + log(x)))"
      ]
     },
     "metadata": {},
     "output_type": "display_data"
    },
    {
     "name": "stdout",
     "output_type": "stream",
     "text": [
      "\n"
     ]
    },
    {
     "data": {
      "text/latex": [
       "$\\displaystyle \\frac{d}{d x} y{\\left(x \\right)} = \\frac{x - y{\\left(x \\right)}}{x + y{\\left(x \\right)}}$"
      ],
      "text/plain": [
       "Eq(Derivative(y(x), x), (x - y(x))/(x + y(x)))"
      ]
     },
     "metadata": {},
     "output_type": "display_data"
    },
    {
     "data": {
      "text/latex": [
       "$\\displaystyle y{\\left(x \\right)} = - x - \\sqrt{C_{1} + 2 x^{2}}$"
      ],
      "text/plain": [
       "Eq(y(x), -x - sqrt(C1 + 2*x**2))"
      ]
     },
     "metadata": {},
     "output_type": "display_data"
    },
    {
     "data": {
      "text/latex": [
       "$\\displaystyle y{\\left(x \\right)} = - x + \\sqrt{C_{1} + 2 x^{2}}$"
      ],
      "text/plain": [
       "Eq(y(x), -x + sqrt(C1 + 2*x**2))"
      ]
     },
     "metadata": {},
     "output_type": "display_data"
    },
    {
     "name": "stdout",
     "output_type": "stream",
     "text": [
      "\n"
     ]
    }
   ],
   "source": [
    "# 解答用セル\n",
    "\n",
    "from sympy import symbols, Eq, Derivative, Function, dsolve, sqrt\n",
    "\n",
    "x = symbols('x')\n",
    "y = Function('y')(x)\n",
    "\n",
    "dy = Derivative(y, x)\n",
    "\n",
    "eq1 = Eq(x**2 * dy, y**2)\n",
    "eq2 = Eq(dy, (x + y)/x)\n",
    "eq3 = Eq(dy, (x-y)/(x+y))\n",
    "\n",
    "for eq in [eq1, eq2, eq3]:\n",
    "    y_ = dsolve(eq, y)\n",
    "    \n",
    "    if isinstance(y_, list):\n",
    "        display(eq)\n",
    "        display(y_[0])\n",
    "        display(y_[1])\n",
    "        print()\n",
    "    else:\n",
    "        display(eq)\n",
    "        display(y_)\n",
    "        print()"
   ]
  },
  {
   "cell_type": "code",
   "execution_count": null,
   "id": "672f081a",
   "metadata": {},
   "outputs": [],
   "source": []
  }
 ],
 "metadata": {
  "kernelspec": {
   "display_name": "ml",
   "language": "python",
   "name": "python3"
  },
  "language_info": {
   "codemirror_mode": {
    "name": "ipython",
    "version": 3
   },
   "file_extension": ".py",
   "mimetype": "text/x-python",
   "name": "python",
   "nbconvert_exporter": "python",
   "pygments_lexer": "ipython3",
   "version": "3.9.13"
  },
  "vscode": {
   "interpreter": {
    "hash": "c558876ffd71b3528bcdaaa45c5eeebe18905a0bd68c09a6b765c00e31df719e"
   }
  }
 },
 "nbformat": 4,
 "nbformat_minor": 5
}
