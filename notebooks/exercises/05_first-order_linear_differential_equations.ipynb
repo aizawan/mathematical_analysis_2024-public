{
 "cells": [
  {
   "attachments": {},
   "cell_type": "markdown",
   "id": "be0f83d0",
   "metadata": {},
   "source": [
    "# 第5回: 課題ファイル"
   ]
  },
  {
   "attachments": {},
   "cell_type": "markdown",
   "id": "2cc3486b",
   "metadata": {},
   "source": [
    "## 課題1\n",
    "**課題1-1:** 次の微分方程式の一般解を求めよ．（手計算）\n",
    "\n",
    "$$\n",
    "\\begin{align}\n",
    "\\frac{dy}{dx}+\\cos(x)y=0\n",
    "\\end{align}\n",
    "$$"
   ]
  },
  {
   "cell_type": "markdown",
   "id": "0e131f87",
   "metadata": {},
   "source": [
    "## 課題2\n",
    "**課題2-1:** 次の微分方程式の一般解を求めよ．（手計算）\n",
    "\n",
    "$$\n",
    "\\begin{align}\n",
    "\\frac{dy}{dx}+(\\sin x)y=\\sin x\n",
    "\\end{align}\n",
    "$$"
   ]
  },
  {
   "attachments": {},
   "cell_type": "markdown",
   "id": "ae3363c3",
   "metadata": {},
   "source": [
    "## 課題3\n",
    "**課題3-1:** 次の微分方程式の一般解を積分因子法で求めよ．（手計算）\n",
    "\n",
    "$$\n",
    "\\begin{align}\n",
    "\\frac{dy}{dx}+\\frac{y}{x}=x\n",
    "\\end{align}\n",
    "$$"
   ]
  },
  {
   "attachments": {},
   "cell_type": "markdown",
   "id": "db9c6f09",
   "metadata": {},
   "source": [
    "## 課題4\n",
    "**課題4-1:** 次の微分方程式の一般解を定数変化法で求めよ．（手計算）\n",
    "\n",
    "$$\n",
    "\\begin{align}\n",
    "\\frac{dy}{dx}+\\frac{y}{x}=x\n",
    "\\end{align}\n",
    "$$"
   ]
  },
  {
   "attachments": {},
   "cell_type": "markdown",
   "id": "07297686",
   "metadata": {},
   "source": [
    "**課題4-1:** 上記の微分方程式をsympyで実装し，一般解のグラフを描け．"
   ]
  },
  {
   "cell_type": "code",
   "execution_count": null,
   "id": "c7f327e8",
   "metadata": {},
   "outputs": [],
   "source": [
    "# 解答用セル"
   ]
  }
 ],
 "metadata": {
  "kernelspec": {
   "display_name": "Python 3 (ipykernel)",
   "language": "python",
   "name": "python3"
  },
  "language_info": {
   "codemirror_mode": {
    "name": "ipython",
    "version": 3
   },
   "file_extension": ".py",
   "mimetype": "text/x-python",
   "name": "python",
   "nbconvert_exporter": "python",
   "pygments_lexer": "ipython3",
   "version": "3.9.7"
  }
 },
 "nbformat": 4,
 "nbformat_minor": 5
}
