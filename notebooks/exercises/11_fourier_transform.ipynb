{
 "cells": [
  {
   "attachments": {},
   "cell_type": "markdown",
   "id": "be0f83d0",
   "metadata": {},
   "source": [
    "# 第11回: 課題ファイル"
   ]
  },
  {
   "attachments": {},
   "cell_type": "markdown",
   "id": "f36df547",
   "metadata": {},
   "source": [
    "## 課題1\n",
    "**課題1-1:** 以下の関数をフーリエ変換せよ．\n",
    "\n",
    "$$\n",
    "f(t) = \\begin{cases}\n",
    "1 & - \\frac{a}{2} \\leq t \\leq \\frac{a}{2} \\\\\n",
    "0 & \\text{otherwise}\n",
    "\\end{cases}\n",
    "$$"
   ]
  },
  {
   "attachments": {},
   "cell_type": "markdown",
   "id": "c81527a0",
   "metadata": {},
   "source": [
    "**課題1-2:** 以下の関数をフーリエ変換せよ．\n",
    "\n",
    "$$\n",
    "f(t) = \\begin{cases}\n",
    "e^{-t} & 0 \\leq t \\\\\n",
    "e^{t} & t < 0\n",
    "\\end{cases}\n",
    "$$"
   ]
  }
 ],
 "metadata": {
  "kernelspec": {
   "display_name": "Python 3 (ipykernel)",
   "language": "python",
   "name": "python3"
  },
  "language_info": {
   "codemirror_mode": {
    "name": "ipython",
    "version": 3
   },
   "file_extension": ".py",
   "mimetype": "text/x-python",
   "name": "python",
   "nbconvert_exporter": "python",
   "pygments_lexer": "ipython3",
   "version": "3.9.7"
  }
 },
 "nbformat": 4,
 "nbformat_minor": 5
}
