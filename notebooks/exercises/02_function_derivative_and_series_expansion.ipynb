{
 "cells": [
  {
   "attachments": {},
   "cell_type": "markdown",
   "id": "be0f83d0",
   "metadata": {},
   "source": [
    "# 第2回: 課題ファイル"
   ]
  },
  {
   "attachments": {},
   "cell_type": "markdown",
   "id": "568191bd",
   "metadata": {},
   "source": [
    "## 課題\n",
    "**課題:** Sympyを用いて変数 `var` を作成せよ．また作成した変数 `var` に値 `3.14` を代入せよ．"
   ]
  },
  {
   "cell_type": "code",
   "execution_count": null,
   "id": "ae44382d",
   "metadata": {},
   "outputs": [],
   "source": [
    "# 解答用のセル\n"
   ]
  },
  {
   "attachments": {},
   "cell_type": "markdown",
   "id": "b755c7d2",
   "metadata": {},
   "source": [
    "## 課題\n",
    "**課題1:** Sympyを用いて次の関数を実装せよ．必要な変数は自由に定義してよい．\n",
    "\n",
    "$$\n",
    "y = \\frac{x^2}{2} + 1\n",
    "$$"
   ]
  },
  {
   "cell_type": "code",
   "execution_count": null,
   "id": "34d49205",
   "metadata": {},
   "outputs": [],
   "source": [
    "# 解答用セル"
   ]
  },
  {
   "attachments": {},
   "cell_type": "markdown",
   "id": "1d0dc996",
   "metadata": {},
   "source": [
    "**課題2:** 実装した関数を `print` で出力せよ．"
   ]
  },
  {
   "cell_type": "code",
   "execution_count": null,
   "id": "b4a7086e",
   "metadata": {},
   "outputs": [],
   "source": [
    "# 解答用セル"
   ]
  },
  {
   "attachments": {},
   "cell_type": "markdown",
   "id": "364bd313",
   "metadata": {},
   "source": [
    "**課題3:** SympyはLaTeX形式での出力も可能である．出力用の関数を調べて実行せよ．"
   ]
  },
  {
   "cell_type": "code",
   "execution_count": null,
   "id": "35abf989",
   "metadata": {},
   "outputs": [],
   "source": [
    "# 解答用セル"
   ]
  },
  {
   "attachments": {},
   "cell_type": "markdown",
   "id": "f9287c8d",
   "metadata": {},
   "source": [
    "## 課題\n",
    "**課題1:** Sympyを用いて次の関数を実装せよ．必要な変数は自由に定義してよい．\n",
    "\n",
    "$$\n",
    "f(x_1, x_2, x_3) = x_{1}^3 + x_{2}^2 + x_{3} + 1\n",
    "$$"
   ]
  },
  {
   "cell_type": "code",
   "execution_count": null,
   "id": "51bef951",
   "metadata": {},
   "outputs": [],
   "source": [
    "# 解答用セル"
   ]
  },
  {
   "attachments": {},
   "cell_type": "markdown",
   "id": "6247b9f4",
   "metadata": {},
   "source": [
    "**課題2:** 実装した関数を `print` で出力せよ．"
   ]
  },
  {
   "cell_type": "code",
   "execution_count": null,
   "id": "308dd87a",
   "metadata": {},
   "outputs": [],
   "source": [
    "# 解答用セル"
   ]
  },
  {
   "attachments": {},
   "cell_type": "markdown",
   "id": "ffa19479",
   "metadata": {},
   "source": [
    "**課題3:** SympyはLaTeX形式での出力も可能である．出力用の関数を調べて実行せよ．"
   ]
  },
  {
   "cell_type": "code",
   "execution_count": null,
   "id": "91239644",
   "metadata": {},
   "outputs": [],
   "source": [
    "# 解答用セル"
   ]
  },
  {
   "attachments": {},
   "cell_type": "markdown",
   "id": "a76ba7e9",
   "metadata": {},
   "source": [
    "## 課題\n",
    "**課題1:** Sympyを用いて次の関数を`x`で微分せよ．\n",
    "\n",
    "$$\n",
    "y = \\frac{x^2}{3} - x + 1\n",
    "$$"
   ]
  },
  {
   "cell_type": "code",
   "execution_count": null,
   "id": "9a7b0b06",
   "metadata": {},
   "outputs": [],
   "source": [
    "# 解答用セル"
   ]
  },
  {
   "attachments": {},
   "cell_type": "markdown",
   "id": "3125f236",
   "metadata": {},
   "source": [
    "**課題2:** Sympyを用いて次の関数を`t`で微分せよ．\n",
    "\n",
    "$$\n",
    "y = t + 1\n",
    "$$"
   ]
  },
  {
   "cell_type": "code",
   "execution_count": null,
   "id": "1f5805a5",
   "metadata": {},
   "outputs": [],
   "source": [
    "# 解答用セル"
   ]
  },
  {
   "attachments": {},
   "cell_type": "markdown",
   "id": "cd346fb4",
   "metadata": {},
   "source": [
    "**課題3:** Sympyを用いて次の関数を`x`で微分せよ．またその導関数に値 `2` を代入せよ．\n",
    "\n",
    "$$\n",
    "y = 2x^2 + 1\n",
    "$$"
   ]
  },
  {
   "cell_type": "code",
   "execution_count": null,
   "id": "6418567e",
   "metadata": {},
   "outputs": [],
   "source": [
    "# 解答用セル"
   ]
  },
  {
   "attachments": {},
   "cell_type": "markdown",
   "id": "61a98ef9",
   "metadata": {},
   "source": [
    "## 課題\n",
    "**課題1:** 任意の関数を定義してマクローリン展開せよ．計算式はこの式に記述せよ．"
   ]
  },
  {
   "attachments": {},
   "cell_type": "markdown",
   "id": "f3dc06b1",
   "metadata": {},
   "source": [
    "**課題2:** 定義した関数とマクローリン展開をsympyで実装し，グラフにプロットせよ．"
   ]
  },
  {
   "cell_type": "code",
   "execution_count": null,
   "id": "e304577d",
   "metadata": {},
   "outputs": [],
   "source": [
    "# 解答用セル"
   ]
  }
 ],
 "metadata": {
  "kernelspec": {
   "display_name": "ml",
   "language": "python",
   "name": "python3"
  },
  "language_info": {
   "codemirror_mode": {
    "name": "ipython",
    "version": 3
   },
   "file_extension": ".py",
   "mimetype": "text/x-python",
   "name": "python",
   "nbconvert_exporter": "python",
   "pygments_lexer": "ipython3",
   "version": "3.9.7"
  },
  "vscode": {
   "interpreter": {
    "hash": "c558876ffd71b3528bcdaaa45c5eeebe18905a0bd68c09a6b765c00e31df719e"
   }
  }
 },
 "nbformat": 4,
 "nbformat_minor": 5
}
