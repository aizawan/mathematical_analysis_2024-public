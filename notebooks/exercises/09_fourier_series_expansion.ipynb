{
 "cells": [
  {
   "attachments": {},
   "cell_type": "markdown",
   "id": "be0f83d0",
   "metadata": {},
   "source": [
    "# 第9回: 課題ファイル"
   ]
  },
  {
   "attachments": {},
   "cell_type": "markdown",
   "id": "bcc73cc2",
   "metadata": {},
   "source": [
    "## 課題1\n",
    "**課題1-1:** 三角関数系の直交性をsympyで検証し，手計算の結果と一致することを確認せよ．ただし，すべての組み合わせを確認することはできないので，$1, \\cos x, \\cos 2x \\cos 3x, \\sin x, \\sin 2x, \\sin 3x$ の中で検証せよ．"
   ]
  },
  {
   "attachments": {},
   "cell_type": "markdown",
   "id": "6cdd6cd7",
   "metadata": {},
   "source": [
    "**課題1-2:** 次の関数 $P_n(x), n=0,1,2,\\ldots,$ は $n$次のルジャンドルの多項式と呼ばれる．\n",
    "\n",
    "$$\n",
    "\\begin{align}\n",
    "P_0(x) &= 1 \\\\\n",
    "P_1(x) &= x \\\\\n",
    "P_2(x) &= \\frac{1}{2}(3 x^{2} - 1) \\\\\n",
    "P_3(x) &= \\frac{1}{2}(5 x^{3} - 3x) \\\\\n",
    "P_4(x) &= \\frac{1}{8}(35x^{4}-30x^{2}+3) \\\\\n",
    "P_5(x) &= \\frac{1}{8}(63x^{5}-70x^{3}+15x) \\\\\n",
    "P_6(x) &= \\frac{1}{16}(231x^{6}-315x^{4}+105x^{2}-5) \\\\\n",
    "P_7(x) &= \\frac{1}{16}(429x^{7}-693x^{5}+315x^{3}-35x) \\\\\n",
    "P_8(x) &= \\frac{1}{128}(6435x^{8}-12012x^{6}+6930x^{4}-1260x^{2}+35) \\\\\n",
    "\\vdots\n",
    "\\end{align}\n",
    "$$\n",
    "\n",
    "そして，ルジャンドル多項式は区間 $[-1,1]$上で直交関数系である．\n",
    "\n",
    "$$\n",
    "\\int^{1}_{-1} P_n(x)P_m(x)dx =\\left\\{\\begin{matrix}\n",
    "\\frac{2}{2n+1} \\quad m = n \\\\ \n",
    "0 \\quad m \\neq n\n",
    "\\end{matrix}\\right.\n",
    "$$\n",
    "\n",
    "ルジャンドル多項式が直交関数系であることをsympyを使って確認せよ．課題1-1と同様にすべての組み合わせを検証することはできないので一部の項のみで良い．"
   ]
  },
  {
   "attachments": {},
   "cell_type": "markdown",
   "id": "3d8dea83",
   "metadata": {},
   "source": [
    "## 課題2\n",
    "**課題2-1:** 区間 $[-\\pi, \\pi]$ 上の以下の関数 $f(t)$ をフーリエ級数展開せよ．\n",
    "\n",
    "$$\n",
    "f(t) = t^2\n",
    "$$"
   ]
  },
  {
   "attachments": {},
   "cell_type": "markdown",
   "id": "6b414e9c",
   "metadata": {},
   "source": [
    "**課題2-2:** 区間 $[-\\pi, \\pi]$ 上の以下の関数 $f(t)$ をフーリエ級数展開せよ．\n",
    "\n",
    "$$\n",
    "f(t) = \\cos t \\sin t\n",
    "$$"
   ]
  },
  {
   "attachments": {},
   "cell_type": "markdown",
   "id": "c03cf132",
   "metadata": {},
   "source": [
    "## 課題3\n",
    "**課題3-1:** ホームページのサンプルコードを参考に，近似対象の関数やフーリエ級数の展開の項数を変更して結果を確認せよ．"
   ]
  }
 ],
 "metadata": {
  "kernelspec": {
   "display_name": "Python 3 (ipykernel)",
   "language": "python",
   "name": "python3"
  },
  "language_info": {
   "codemirror_mode": {
    "name": "ipython",
    "version": 3
   },
   "file_extension": ".py",
   "mimetype": "text/x-python",
   "name": "python",
   "nbconvert_exporter": "python",
   "pygments_lexer": "ipython3",
   "version": "3.9.7"
  }
 },
 "nbformat": 4,
 "nbformat_minor": 5
}
