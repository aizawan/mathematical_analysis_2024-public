{
 "cells": [
  {
   "attachments": {},
   "cell_type": "markdown",
   "id": "be0f83d0",
   "metadata": {},
   "source": [
    "# 数理解析の導入"
   ]
  },
  {
   "attachments": {},
   "cell_type": "markdown",
   "id": "ec2ed0db",
   "metadata": {},
   "source": [
    "## 数理解析\n",
    "**数理解析** は自然科学に現れる現象を数理的に解明するための学問である．そのために，極限や微積分といった解析学に基づき，観測された時間や空間で変化する現象を数理的に記述し，その内在するダイナミクスや特性を解析することが数理解析の目的である．\n",
    "\n",
    "本講義ではまず数理解析の方法として **微分方程式** に焦点を当てる．微分方程式は様々な現象を表現しモデル化する有力な手段であり，その解を求めることで現象の根底に潜むダイナミクスや特性を明らかにすることができる．微分方程式は関数を解とする方程式であり，その適用範囲は多岐に渡るが，解析的に解くことが可能な微分方程式の形式は限定的で，微分・積分を含む微分方程式の解を求めるのは一般的に難易度が高い．\n",
    "\n",
    "そこで，次に本講義で取り上げるのが **フーリエ解析** である．フーリエ解析，特にフーリエ変換やラプラス変換という手法を利用すると、難解な微分方程式も周波数空間で簡単に解くことが可能となる．またフーリエ解析は関数や信号を単純な波の組み合わせで表現することができ，信号処理においても重要な分野である．\n",
    "\n",
    "このように微分方程式とフーリエ解析ともに，実数・複素数，極限，連続性，微積分といった解析学の知識を基礎として，数理解析学を構成している．本講義の目的は，受講者が数理解析の主要な概念と手法を理解し、具体的には微積分の基礎から始まり、微分方程式とフーリエ解析について深い理解を得ることを期待する．"
   ]
  },
  {
   "attachments": {},
   "cell_type": "markdown",
   "id": "d19771c0",
   "metadata": {},
   "source": [
    "### 微分方程式\n",
    "**微分方程式** とは関数の微分（導関数）を含む方程式である．微分が関数の変化を表すと学んだように，このような微分が含まれる微分方程式はある関数の変化の法則を表す式と言える．\n",
    "\n",
    "具体例を考える．質量が $m$ の物体を力 $F$ で動かしたとき，時刻 $t$ での物体の位置 $x=x(t)$ は以下の式で与えられる．\n",
    "\n",
    "$$\n",
    "m\\frac{d^2x}{dt^2}=F\n",
    "$$\n",
    "\n",
    "これはニュートンの運動方程式（第二法則）と呼ばれる微分方程式であり，同じ力 $F$ で異なる質量の物体を動かしたとき，質量が大きい物体の方が動くのが遅い（=加速度が小さい）という現象の性質を記述している．では，物体の位置 $x(t)$ はどのような関数であろうか？第一回では解を紹介するのみとするが今後の講義からその解き方を学ばれたい．\n",
    "\n",
    "時刻 $t=0$ のときの位置について $x(0)=0$ として，また力 $F$ が一定であるという前提のもと，「$x(t)$は2回 $t$ で微分すると $F/m$ である」を考えて，この微分方程式を解くと以下の解が得られる．\n",
    "\n",
    "$$\n",
    "x(t) = \\frac{F}{2m}t^2\n",
    "$$\n",
    "\n",
    "また，速度 $v=\\frac{dx}{dt}$ も考える．単純に $x(t)$ を微分すると以下が得られる．\n",
    "\n",
    "$$\n",
    "v=\\frac{dx}{dt}=\\frac{F}{m}t\n",
    "$$\n",
    "\n",
    "このように微分方程式から位置，速度，加速度について質量に応じた変化の性質を知ることができる．このようにして物理現象を記述した微分方程式からその現象の性質やダイナミクスを解析することができ，数理解析において微分方程式は重要な概念であることがわかる．\n",
    "\n",
    "```{admonition} 補足\n",
    "ひょっとすると，位置 $x(t)$ を時刻 $t$ で微分したら速度 $v=\\frac{dx}{dt}$，速度をさらに微分したら加速度 $a = \\frac{d^2x}{dt^2}$ と学んでいるかもしれないが，その場合は加速度 $a$ で書き換えると上記の式は $ma=F$ となり見知った方程式になったかもしれない．\n",
    "```"
   ]
  },
  {
   "attachments": {},
   "cell_type": "markdown",
   "id": "cd17cd26",
   "metadata": {},
   "source": [
    "#### Pythonで微分方程式\n",
    "\n",
    "では，`sympy`を使ってプログラミングから上記の運動方程式を解く．`sympy`の詳細な使い方は次回の講義で紹介する．またいくつか勉強に適した`sympy`の資料を[参考資料](advanced_material.md)にまとめておいたのでそちらも参照されたい．\n",
    "\n",
    "まずは必要なライブラリを`import`する．"
   ]
  },
  {
   "cell_type": "code",
   "execution_count": null,
   "id": "f8160d7b",
   "metadata": {},
   "outputs": [],
   "source": [
    "import numpy as np\n",
    "import matplotlib.pyplot as plt\n",
    "from sympy import symbols, Eq, Derivative, Function, dsolve"
   ]
  },
  {
   "attachments": {},
   "cell_type": "markdown",
   "id": "3e4e69f4",
   "metadata": {},
   "source": [
    "数式でのシンボル演算のために次の文字としての変数を`symbols`関数で定義する．"
   ]
  },
  {
   "cell_type": "code",
   "execution_count": null,
   "id": "77111954",
   "metadata": {},
   "outputs": [],
   "source": [
    "m = symbols('m')\n",
    "t = symbols('t')\n",
    "F = symbols('F')"
   ]
  },
  {
   "attachments": {},
   "cell_type": "markdown",
   "id": "2867b6d5",
   "metadata": {},
   "source": [
    "続いて，`t`に依存する関数`x`を`Function`を使って定義する．"
   ]
  },
  {
   "cell_type": "code",
   "execution_count": null,
   "id": "603cae80",
   "metadata": {},
   "outputs": [],
   "source": [
    "x = Function('x')(t)\n",
    "x"
   ]
  },
  {
   "attachments": {},
   "cell_type": "markdown",
   "id": "546072b0",
   "metadata": {},
   "source": [
    "これまでのpythonと違い変数`t`に具体的な値を定義していなくても関数`x`を定義できたことを確認されたい．`sympy`はこれまで学んだ数学のようにプログラミングすることができ，理論と実装を学ぶ上で非常に便利である．\n",
    "\n",
    "続いて，速度`v`を定義する．速度は一階導関数であったので以下のように書ける．微分は`Derivative`を利用する．"
   ]
  },
  {
   "cell_type": "code",
   "execution_count": null,
   "id": "d0a23e02",
   "metadata": {},
   "outputs": [],
   "source": [
    "v = Derivative(x, t)\n",
    "v"
   ]
  },
  {
   "attachments": {},
   "cell_type": "markdown",
   "id": "ed3a84d6",
   "metadata": {},
   "source": [
    "そして，加速度`a`を定義する．加速度は二階導関数であったので次のように書く．"
   ]
  },
  {
   "cell_type": "code",
   "execution_count": null,
   "id": "8cfd0245",
   "metadata": {},
   "outputs": [],
   "source": [
    "a = Derivative(x, t, 2)\n",
    "a"
   ]
  },
  {
   "attachments": {},
   "cell_type": "markdown",
   "id": "a32a2f33",
   "metadata": {},
   "source": [
    "方程式は`Eq`を利用する．微分方程式を定義できた．"
   ]
  },
  {
   "cell_type": "code",
   "execution_count": null,
   "id": "00786f27",
   "metadata": {},
   "outputs": [],
   "source": [
    "eq = Eq(m * a, F)\n",
    "eq"
   ]
  },
  {
   "attachments": {},
   "cell_type": "markdown",
   "id": "19af6b60",
   "metadata": {},
   "source": [
    "微分方程式を解くときは，`dsolve`を利用する．手計算では二階微分方程式を解くために非常に大変であるが，プログラミングを用いると簡単に解を求められる．`sympy`を用いた演算は便利であるが，**解が正しいかどうか？** を判断するためには，その導出方法を理解する必要がある．あくまでもプログラミングは数式の理解の助けとして利用されたい．"
   ]
  },
  {
   "cell_type": "code",
   "execution_count": null,
   "id": "9014e6a7",
   "metadata": {},
   "outputs": [],
   "source": [
    "x_ = dsolve(eq, x)\n",
    "x_"
   ]
  },
  {
   "attachments": {},
   "cell_type": "markdown",
   "id": "ecae9dcd",
   "metadata": {},
   "source": [
    "前述した前提条件（厳密には初期条件という）は`ics`という引数で与えられる．`subs`は変数に具体的な値を代入するメソッドである．"
   ]
  },
  {
   "cell_type": "code",
   "execution_count": null,
   "id": "7fc8bc2c",
   "metadata": {},
   "outputs": [],
   "source": [
    "x_ = dsolve(eq, x, ics={x.subs(t,0): 0, v.subs(t,0): 0})\n",
    "x_"
   ]
  },
  {
   "attachments": {},
   "cell_type": "markdown",
   "id": "c6279bc5",
   "metadata": {},
   "source": [
    "最後に，グラフでプロットする．"
   ]
  },
  {
   "cell_type": "code",
   "execution_count": null,
   "id": "b8a000f4",
   "metadata": {},
   "outputs": [],
   "source": [
    "from sympy import plotting\n",
    "plotting.plot(x_.subs(F,1).subs(m,1).rhs, (t, 0, 4))"
   ]
  },
  {
   "attachments": {},
   "cell_type": "markdown",
   "id": "c7857598",
   "metadata": {},
   "source": [
    "以上より，微分方程式の解の計算と解のプロットをできた．"
   ]
  },
  {
   "attachments": {},
   "cell_type": "markdown",
   "id": "b657db61",
   "metadata": {},
   "source": [
    "### フーリエ解析\n",
    "**フーリエ解析** とは，関数を異なる周波数を持つ正弦波の重ね合わせで表現する方法である．フーリエ解析によって，複雑な関数であっても単純な波の組み合わせで表現することで関数の構成要素の性質の理解や分解・合成ができる．前述したように，フーリエ解析によって一般的に解くのが難しい微分方程式を解くのに利用されるだけでなく，波形・音声・動画像・生体信号といった信号処理や解析にも役立つ．\n",
    "\n",
    "突然だが，関数 $f(x)$ を $\\sin$関数と$\\cos$関数の足し合わせで近似するフーリエ級数を紹介する．詳細や導出は後半の講義で説明する．フーリエ級数は以下で与えられる．\n",
    "\n",
    "$$\n",
    "\\begin{align}\n",
    "f(x) \\sim  a_0 + \\sum_{n=1}^{\\infty} (a_n \\cos nx + b_n \\sin nx)\n",
    "\\end{align}\n",
    "$$\n",
    "\n",
    "ここで，$a_0, a_n, b_n$は以下で与えられる．\n",
    "\n",
    "$$\n",
    "\\begin{align}\n",
    "a_{0}&=\\frac{1}{2 \\pi} \\int_{-\\pi}^{\\pi} f(x) dx \\\\\n",
    "a_{n}&=\\frac{1}{\\pi} \\int_{-\\pi}^{\\pi} f(x) \\cos nx dx \\quad(n=1,2,3 \\cdots) \\\\\n",
    "b_{n}&=\\frac{1}{\\pi} \\int_{-\\pi}^{\\pi} f(x) \\sin n x d x \\quad(n=1,2,3 \\cdots)\n",
    "\\end{align}\n",
    "$$\n",
    "\n",
    "複雑な式が現れたが，第一回では「関数 $f(x)$ を $\\sin$関数と$\\cos$関数の足し合わせ」で表現することを体感してほしい．係数$a_0, a_n, b_n$はひとまず無視して，一番上の式を展開してみると，sin波とcos波の足し算であることがわかる．\n",
    "\n",
    "$$\n",
    "f(x) \\sim a_0 + a_1 \\cos x + b_1 \\sin x + a_2 \\cos 2x + b_2 \\sin 2x + \\cdots\n",
    "$$\n",
    "\n",
    "フーリエ解析（$\\fallingdotseq$フーリエ級数展開）のポイントは複雑な関数を単純な関数（sin波とcos波）に分解することで複雑な関数の特性を知ることができること，また，単純な関数の組み合わせで複雑な関数を合成することにある．フーリエ解析の導入としてフーリエ級数展開による関数の分解を紹介したが，関数の性質を理解するという意味で数理解析の重要な概念であることがわかってもらえたかと思う．また本講義の後半では，微分方程式への応用のために，フーリエ変換・ラプラス変換を中心に紹介する．\n",
    "\n",
    "```{admonition} 補足: 三角関数系\n",
    "異なる周波数を持つ三角関数で表される波の集まりとその係数で表現される関数の集合を **三角関数系** と呼び，フーリエ解析を理解する上で非常に重要な概念である．\n",
    "\n",
    "$$\n",
    "\\{1, \\cos x, \\sin x, \\cos 2x, \\sin 2x, \\cdots \\}\n",
    "$$\n",
    "\n",
    "```"
   ]
  },
  {
   "attachments": {},
   "cell_type": "markdown",
   "id": "a7cdcc97",
   "metadata": {},
   "source": [
    "#### Pythonでフーリエ解析\n",
    "微分方程式と同様にフーリエ級数展開も`sympy`を用いて計算してみる．今回は例として $f(x)=x$ という一次関数を用いるが，いろいろな関数を定義してフーリエ級数展開を体験してほしい．\n",
    "\n",
    "まずは必要なライブラリを`import`する．"
   ]
  },
  {
   "cell_type": "code",
   "execution_count": null,
   "id": "61457625",
   "metadata": {},
   "outputs": [],
   "source": [
    "from sympy import symbols, pi, fourier_series\n",
    "from sympy.plotting import plot"
   ]
  },
  {
   "attachments": {},
   "cell_type": "markdown",
   "id": "0c53d6e3",
   "metadata": {},
   "source": [
    "変数`x`と関数`f`を定義する．"
   ]
  },
  {
   "cell_type": "code",
   "execution_count": null,
   "id": "71a56a58",
   "metadata": {},
   "outputs": [],
   "source": [
    "x = symbols('x')\n",
    "\n",
    "f = x\n",
    "f"
   ]
  },
  {
   "attachments": {},
   "cell_type": "markdown",
   "id": "599a9014",
   "metadata": {},
   "source": [
    "グラフにプロットしてみる．"
   ]
  },
  {
   "cell_type": "code",
   "execution_count": null,
   "id": "4b06bad2",
   "metadata": {},
   "outputs": [],
   "source": [
    "plot(f, xlim=(-pi, pi) , ylim=(-4, 4))"
   ]
  },
  {
   "attachments": {},
   "cell_type": "markdown",
   "id": "341b9366",
   "metadata": {},
   "source": [
    "`sympy`では`fourier_series`でフーリエ級数展開できる．関数 `f` を`-pi`から`pi`の範囲で展開することを示す．また`truncate()`メソッドは何項の`sin`と`cos`を使うかを示す．"
   ]
  },
  {
   "cell_type": "code",
   "execution_count": null,
   "id": "95caef02",
   "metadata": {},
   "outputs": [],
   "source": [
    "ff = fourier_series(f, (x, -pi, pi))\n",
    "ff_8 = ff.truncate(8)\n",
    "ff_8"
   ]
  },
  {
   "attachments": {},
   "cell_type": "markdown",
   "id": "9a961d20",
   "metadata": {},
   "source": [
    "$a_{0}=\\frac{1}{2 \\pi} \\int_{-\\pi}^{\\pi} f(x) dx$を出力する"
   ]
  },
  {
   "cell_type": "code",
   "execution_count": null,
   "id": "c8aa53ff",
   "metadata": {},
   "outputs": [],
   "source": [
    "ff.a0"
   ]
  },
  {
   "attachments": {},
   "cell_type": "markdown",
   "id": "c697bf75",
   "metadata": {},
   "source": [
    "$a_{n}=\\frac{1}{\\pi} \\int_{-\\pi}^{\\pi} f(x) \\cos nx dx$を出力する"
   ]
  },
  {
   "cell_type": "code",
   "execution_count": null,
   "id": "943be485",
   "metadata": {},
   "outputs": [],
   "source": [
    "ff.an"
   ]
  },
  {
   "attachments": {},
   "cell_type": "markdown",
   "id": "23d4096f",
   "metadata": {},
   "source": [
    "$b_{n}=\\frac{1}{\\pi} \\int_{-\\pi}^{\\pi} f(x) \\sin n x d x$を出力する"
   ]
  },
  {
   "cell_type": "code",
   "execution_count": null,
   "id": "f80d87e6",
   "metadata": {},
   "outputs": [],
   "source": [
    "ff.bn"
   ]
  },
  {
   "attachments": {},
   "cell_type": "markdown",
   "id": "58ad6bae",
   "metadata": {},
   "source": [
    "フーリエ級数展開の結果をプロットしてみる．"
   ]
  },
  {
   "cell_type": "code",
   "execution_count": null,
   "id": "a0658be6",
   "metadata": {},
   "outputs": [],
   "source": [
    "p = plot(f, ff_8, xlim=(-pi, pi), ylim=(-4, 4), show=False)\n",
    "p[1].line_color = 'red'\n",
    "p.show()"
   ]
  },
  {
   "attachments": {},
   "cell_type": "markdown",
   "id": "eacf1400",
   "metadata": {},
   "source": [
    "フーリエ級数展開の項数を変更してみる.\n"
   ]
  },
  {
   "cell_type": "code",
   "execution_count": null,
   "id": "8caa56a7",
   "metadata": {},
   "outputs": [],
   "source": [
    "ff_1 = fourier_series(f, (x, -pi, pi)).truncate(1)\n",
    "ff_3 = fourier_series(f, (x, -pi, pi)).truncate(3)\n",
    "ff_5 = fourier_series(f, (x, -pi, pi)).truncate(5)\n",
    "ff_11 = fourier_series(f, (x, -pi, pi)).truncate(11)"
   ]
  },
  {
   "cell_type": "code",
   "execution_count": null,
   "id": "a13f618e",
   "metadata": {},
   "outputs": [],
   "source": [
    "p = plot(f, ff_1, ff_3, ff_5, ff_11, xlim=(-pi, pi), ylim=(-4, 4), show=False)\n",
    "\n",
    "N = 5\n",
    "cm = plt.get_cmap('jet', N)\n",
    "print(cm, cm.N)\n",
    "for i in range(cm.N):\n",
    "    p[i].line_color = cm(i)\n",
    "p.show()"
   ]
  },
  {
   "attachments": {},
   "cell_type": "markdown",
   "id": "b4d24900",
   "metadata": {},
   "source": [
    "以上より，フーリエ級数の関数の分解を体験できたかと思う．講義後半ではこのように関数を周波数空間で考えることから微分方程式を解く方法を紹介する．またフーリエ解析は微分方程式だけでなく，信号処理においても重要な数学的ツールである．本講義では信号処理的な側面を紹介することはできないが，参考になりそうな書籍を[勉強資料](../advanced_materials.md)にまとめておいたので挑戦されたい．"
   ]
  },
  {
   "cell_type": "code",
   "execution_count": null,
   "id": "c8befb4c",
   "metadata": {},
   "outputs": [],
   "source": []
  }
 ],
 "metadata": {
  "kernelspec": {
   "display_name": "Python 3 (ipykernel)",
   "language": "python",
   "name": "python3"
  },
  "language_info": {
   "codemirror_mode": {
    "name": "ipython",
    "version": 3
   },
   "file_extension": ".py",
   "mimetype": "text/x-python",
   "name": "python",
   "nbconvert_exporter": "python",
   "pygments_lexer": "ipython3",
   "version": "3.9.7"
  }
 },
 "nbformat": 4,
 "nbformat_minor": 5
}
