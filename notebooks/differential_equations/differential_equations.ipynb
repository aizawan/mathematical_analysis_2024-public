{
 "cells": [
  {
   "cell_type": "markdown",
   "id": "be0f83d0",
   "metadata": {},
   "source": [
    "# 微分方程式"
   ]
  },
  {
   "cell_type": "markdown",
   "id": "25029ad8",
   "metadata": {},
   "source": [
    "## 微分方程式とは？\n",
    "**微分方程式**とは，変数 $x$ と変数 $x$ を持つ未知関数 $y$ とその導関数を含む方程式である．例えば，以下のように，\n",
    "\n",
    "$$\n",
    "\\frac{dy}{dx} = f(x,y)\n",
    "$$\n",
    "\n",
    "という等式が与えられ，この等式は左辺の独立変数 $x$ を持つ関数 $y(x)$ の微分 $\\frac{dy}{dx}$ が右辺の変数 $x,y$ を持つ関数 $f(x,y)$ を持つ関数が等しいことを意味し，これまで学んだ $x=1$ といった解が得られる方程式とは異なり，この等式を満たす関数 $y(x)$ を求めることが微分方程式を解くということである．"
   ]
  },
  {
   "cell_type": "markdown",
   "id": "5ce7c6d1",
   "metadata": {},
   "source": [
    "## 微分方程式の形\n",
    "微分方程式は大まかに，\n",
    "1. 関数と導関数が線形性を持つか？\n",
    "2. 独立変数の数は2つ以上か？\n",
    "に応じて分類することができる．"
   ]
  },
  {
   "cell_type": "markdown",
   "id": "e5cdf45b",
   "metadata": {},
   "source": [
    "### 線形微分方程式\n",
    "まず一つ目の「関数と導関数が線形性を持つか？」について，微分方程式を\n",
    "\n",
    "$$\n",
    "F(x,y,y')=0\n",
    "$$\n",
    "\n",
    "と定義する．ここで$y'=\\frac{dy}{dx}$であり，実定数 $\\alpha,\\beta$に対して，\n",
    "\n",
    "$$\n",
    "\\begin{align}\n",
    "F\\left(x, \\alpha y_1+\\beta y_2, \\alpha y_1'+\\beta y_2'\\right)=\n",
    "\\alpha F \\left(x, y_1, y_1'\\right)+\\beta F\\left(x, y_2, y_2'\\right)\n",
    "\\end{align}\n",
    "$$\n",
    "\n",
    "が成立すれば微分方程式が**線形**であり，その微分方程式を**線形微分方程式**と呼ぶ．成立しない微分方程式は**非線形微分方程式**と呼ばれる．非線形微分方程式は簡単にいうと$y^2$や$yy'$といった非線形項を含む微分方程式と言える．\n",
    "\n",
    "\n",
    "#### 線形微分方程式の具体例\n",
    "以下の微分方程式が線形であることを確かめる．\n",
    "\n",
    "$$\n",
    "y' - y = x\n",
    "$$\n",
    "\n",
    "前述の線形性の定義を満たすことを確認すればよいので微分方程式を次のように定義する．\n",
    "\n",
    "$$\n",
    "F(x,y,y') = y' - y - x = 0\n",
    "$$\n",
    "\n",
    "上式の左辺について，\n",
    "\n",
    "$$\n",
    "\\begin{align}\n",
    "F\\left(x, \\alpha y_1+\\beta y_2, \\alpha y_1'+\\beta y_2'\\right) &= \\alpha y_1' + \\beta y_2 ' - (\\alpha y_1+\\beta y_2) - x\n",
    "\\end{align}\n",
    "$$\n",
    "\n",
    "となる．続いて，右辺について確認する．\n",
    "\n",
    "$$\n",
    "\\begin{align}\n",
    "\\alpha F \\left(x, y_1, y_1'\\right)+\\beta F\\left(x, y_2, y_2'\\right) &= \\alpha \\left(y_1' - y_1 - x \\right) + \\beta \\left(y_2' - y_2 - x \\right) \\\\\n",
    "&= \\alpha y_1' + \\beta y_2' - \\alpha y_1 - \\beta y_2 - \\alpha x - \\beta x \\\\\n",
    "&= \\alpha y_1' + \\beta y_2' - \\left(\\alpha y_1 + \\beta y_2\\right) - \\left(\\alpha + \\beta\\right) x \\\\\n",
    "\\end{align}\n",
    "$$\n",
    "\n",
    "以上より，$y,y'$の項について両辺が一致するので $y$ について線形であり，これは線形微分方程式である．\n",
    "\n",
    "\n",
    "#### 非線形微分方程式の具体例\n",
    "以下の微分方程式が非線形であることを確かめる．\n",
    "\n",
    "$$\n",
    "y'' = - y - y^2\n",
    "$$\n",
    "\n",
    "前述の線形性の定義を満たすことを確認すればよいので微分方程式を次のように定義する．\n",
    "\n",
    "$$\n",
    "F(x,y,y'') = y'' + y + y^2\n",
    "$$\n",
    "\n",
    "上式の左辺について，\n",
    "\n",
    "$$\n",
    "\\begin{align}\n",
    "F\\left(x, \\alpha y_1+\\beta y_2, \\alpha y_1''+\\beta y_2''\\right) &= \\alpha y_1'' + \\beta y_2 '' + \\alpha y_1+\\beta y_2 + (\\alpha y_1)^2 + (\\beta y_2)^2 \\\\\n",
    "&= \\alpha y_1'' + \\beta y_2 '' + \\alpha y_1+\\beta y_2 + \\alpha^2 y_1^2 + \\beta^2 y_2^2\n",
    "\\end{align}\n",
    "$$\n",
    "\n",
    "となる．続いて，右辺について確認する．\n",
    "\n",
    "$$\n",
    "\\begin{align}\n",
    "\\alpha F \\left(x, y_1, y_1''\\right)+\\beta F\\left(x, y_2, y_2''\\right) &= \\alpha \\left( y_1'' + y_1 + y_1^2 \\right) + \\beta \\left(y_2'' + y_2 + y_2^2 \\right) \\\\\n",
    "&= \\alpha y_1'' + \\beta y_2'' + \\alpha y_1 + \\beta y_2 + \\alpha y_1^2 + \\beta y_2^2 \n",
    "\\end{align}\n",
    "$$\n",
    "\n",
    "以上より，$y,y''$の項について両辺の係数が一致しない．従って，$y$ について非線形であり，これは非線形微分方程式である．\n"
   ]
  },
  {
   "cell_type": "markdown",
   "id": "d30fa7ca",
   "metadata": {},
   "source": [
    "### 常微分方程式\n",
    "続いて，二つ目の「独立変数の数は2つ以上か？」について，一つの独立変数を持つ微分方程式を **常微分方程式（Ordinary Differential Equations, ODEs）** と呼び，以下の形で与えられる．\n",
    "\n",
    "$$\n",
    "\\begin{align}\n",
    "F\\left(x, y, y',..., y^{(n)}\\right)\n",
    "=F\\left(x, y, \\frac{dy}{dx},...,\\frac{d^ny}{dx^n}\\right)=0\n",
    "\\end{align}\n",
    "$$\n",
    "\n",
    "このとき，復習であるが$y^{(n)}$は$n$階の導関数であり，微分方程式に含まれる導関数の最大の次数 $n$ を微分方程式の階数と呼ぶ．上記の式には一つの独立変数 $x$ と関数$y(x)$，またその導関数 $\\{y',...y^{n}\\}$が含まれている．"
   ]
  },
  {
   "cell_type": "markdown",
   "id": "207ae6fe",
   "metadata": {},
   "source": [
    "### 偏微分方程式\n",
    "常微分方程式とは異なり，二つ以上の独立変数を持つ微分方程式を **偏微分方程式（Partial Differential Equations, PDEs）** と呼ぶ．偏微分方程式は関数の偏微分に関する等式であり，以下で与えられる．\n",
    "\n",
    "$$\n",
    "\\begin{align}\n",
    "F\\left(x_1, x_2, ..., x_n, u, \\frac{\\partial u}{\\partial x_1}, \\frac{\\partial u}{\\partial x_2}, ..., \\frac{\\partial u}{\\partial x_n}, \\frac{\\partial^2 u}{\\partial x_1^2}, \\frac{\\partial^2 u}{\\partial x_2^2}, ..., \\frac{\\partial^2 u}{\\partial x_n^2}, ...\\right) = 0\n",
    "\\end{align}\n",
    "$$\n",
    "\n",
    "ここで，$F$はある関数，$x_1, x_2, ..., x_n$は$n$個の独立変数，関数$u$は求める未知関数を表す．また，$\\frac{\\partial u}{\\partial x_i}$は$u$の$x_i$に対する一階の偏微分を表し，$n$階の偏微分を含む．常微分方程式とは異なり，複数個の独立変数とその偏導関数が含まれていることを確認されたい．"
   ]
  },
  {
   "cell_type": "markdown",
   "id": "ec2ed0db",
   "metadata": {},
   "source": [
    "## 微分方程式の例\n",
    "具体例から微分方程式を理解しよう．関数 $f(x,y)$ が $f(x,y)=x$ であるときを考える．この関数は一階の常微分方程式として分類される．\n",
    "\n",
    "$$\n",
    "\\frac{dy}{dx} = x\n",
    "$$\n",
    "\n",
    "この微分方程式は，関数 $y(x)$ の導関数が関数 $x$ と等しいことを意味する．初めは，慣れないが，微分したら $x$ となるような関数を求めることがゴールであり，このような関数は容易に暗算で計算できる．\n",
    "\n",
    "$$\n",
    "y(x) = \\frac{x^2}{2} + C\n",
    "$$\n",
    "\n",
    "このとき，$C$は**積分定数**であり，上記の関数 $y(x)$ を微分 $\\frac{dy}{dx}$ すると $x$となることがわかるかと思う．この解は任意の定数 $C$ に対する解の集合を表しており，これを**一般解**と呼ぶ．\n"
   ]
  },
  {
   "cell_type": "markdown",
   "id": "a583d469",
   "metadata": {},
   "source": [
    "では上記の微分方程式をsympyで解いてみる．まずは必要なライブラリを`import`する．"
   ]
  },
  {
   "cell_type": "code",
   "execution_count": null,
   "id": "2e38f687",
   "metadata": {},
   "outputs": [],
   "source": [
    "from sympy import symbols, Eq, Derivative, Function, dsolve"
   ]
  },
  {
   "cell_type": "markdown",
   "id": "b8e05ead",
   "metadata": {},
   "source": [
    "変数 `x` と関数 `y(x)` を定義する．"
   ]
  },
  {
   "cell_type": "code",
   "execution_count": null,
   "id": "f76d413b",
   "metadata": {},
   "outputs": [],
   "source": [
    "x = symbols('x')\n",
    "y = Function('y')(x)\n",
    "y"
   ]
  },
  {
   "cell_type": "markdown",
   "id": "7ef4ce24",
   "metadata": {},
   "source": [
    "`y(x)` を `x` で微分した $dy/dx$ を作成する．"
   ]
  },
  {
   "cell_type": "code",
   "execution_count": null,
   "id": "6c3d8847",
   "metadata": {},
   "outputs": [],
   "source": [
    "dy = Derivative(y, x)\n",
    "dy"
   ]
  },
  {
   "cell_type": "markdown",
   "id": "8481bcf1",
   "metadata": {},
   "source": [
    "`Eq` を使って方程式を定義する．"
   ]
  },
  {
   "cell_type": "code",
   "execution_count": null,
   "id": "84c383d6",
   "metadata": {},
   "outputs": [],
   "source": [
    "eq = Eq(dy, x)\n",
    "eq"
   ]
  },
  {
   "cell_type": "markdown",
   "id": "c732e2fe",
   "metadata": {},
   "source": [
    "`dsolve`関数を使って未知関数 `y(x)` を求める．"
   ]
  },
  {
   "cell_type": "code",
   "execution_count": null,
   "id": "02528c0d",
   "metadata": {},
   "outputs": [],
   "source": [
    "y_ = dsolve(eq, y)\n",
    "y_"
   ]
  },
  {
   "cell_type": "markdown",
   "id": "06cd8d37",
   "metadata": {},
   "source": [
    "手計算の結果と一致することを確認されたい．"
   ]
  },
  {
   "cell_type": "markdown",
   "id": "ba9148a7",
   "metadata": {},
   "source": [
    "### 一般解と特殊解\n",
    "改めて前述の話をまとめる．微分方程式は解として未知関数を持つ方程式であり，上記のように，積分定数を含む形で解の集合を表す形式を一般解と言った．ここでの解の集合は任意の定数 $C$ は微分して消えるのでどのような値が入っていもいいと考えると，導出した解は，例えば，$y(x) = x^2/2$, $y(x) = x^2/2 + 1$ などさまざまな関数を解として持つことがわかる．つまり，一般解はパラメータ $C$ を持つ関数の集合なのである．\n",
    "\n",
    "では，これをsympyを使ってプロットしてみよう．"
   ]
  },
  {
   "cell_type": "code",
   "execution_count": null,
   "id": "0b7c267d",
   "metadata": {},
   "outputs": [],
   "source": [
    "from sympy import plotting\n",
    "plotting.plot(\n",
    "    y_.rhs.subs(symbols('C1'), -3),\n",
    "    y_.rhs.subs(symbols('C1'), -2),\n",
    "    y_.rhs.subs(symbols('C1'), -1),\n",
    "    y_.rhs.subs(symbols('C1'), 0),\n",
    "    y_.rhs.subs(symbols('C1'), 1),\n",
    "    y_.rhs.subs(symbols('C1'), 2),\n",
    "    y_.rhs.subs(symbols('C1'), 3), (x, -2, 2))\n"
   ]
  },
  {
   "cell_type": "markdown",
   "id": "99d1f427",
   "metadata": {},
   "source": [
    "上記のように，積分定数 `C1` に値を入力してみると，複数の解の候補がプロットできる．これが一般解であり，解の集合（=関数の集合）ということである．\n",
    "\n",
    "そして，第一回の講義で紹介したように，問題によっては解に条件が課される場合がある．その条件を **初期条件** と呼び，初期条件に基づいて上記の集合からある特定の解（関数）を求めることができる．このときの解を **特殊解** という．\n",
    "\n",
    "前述の例に初期条件を付加すると，\n",
    "\n",
    "$$\n",
    "\\frac{dy}{dx} = x, \\quad y(0) = 1\n",
    "$$\n",
    "\n",
    "となる．これはつまり，$x=0$ のときの未知関数 $y$ の値は $1$ であるという初期条件である．一般解が以下であったので，\n",
    "\n",
    "$$\n",
    "y(x) = \\frac{x^2}{2} + C\n",
    "$$\n",
    "\n",
    "この一般解に $y(0) = 1$ を代入する．\n",
    "\n",
    "$$\n",
    "\\begin{align}\n",
    "y(0) &= \\frac{0^2}{2} + C \\\\\n",
    "1 &= 0 + C \\\\\n",
    "C &= 1\n",
    "\\end{align}\n",
    "$$\n",
    "\n",
    "となり，積分定数 $C$ は $1$ であり，特殊解は\n",
    "\n",
    "$$\n",
    "y(x) = \\frac{x^2}{2} + 1\n",
    "$$\n",
    "\n",
    "である．"
   ]
  },
  {
   "cell_type": "markdown",
   "id": "9cbcbe64",
   "metadata": {},
   "source": [
    "sympyの`dsolve`に初期条件を与えて特殊解を計算するためには，`ics`というキーワード引数で辞書形式で初期条件を与えれば良い．"
   ]
  },
  {
   "cell_type": "code",
   "execution_count": null,
   "id": "bac5ae02",
   "metadata": {},
   "outputs": [],
   "source": [
    "y_ = dsolve(eq, y, ics={y.subs(x,0): 1})\n",
    "y_"
   ]
  },
  {
   "cell_type": "markdown",
   "id": "1635ddcd",
   "metadata": {},
   "source": [
    "これをプロットすると以下となる．"
   ]
  },
  {
   "cell_type": "code",
   "execution_count": null,
   "id": "da10f751",
   "metadata": {},
   "outputs": [],
   "source": [
    "plotting.plot(y_.rhs, (x, -2, 2))"
   ]
  }
 ],
 "metadata": {
  "kernelspec": {
   "display_name": "Python 3 (ipykernel)",
   "language": "python",
   "name": "python3"
  },
  "language_info": {
   "codemirror_mode": {
    "name": "ipython",
    "version": 3
   },
   "file_extension": ".py",
   "mimetype": "text/x-python",
   "name": "python",
   "nbconvert_exporter": "python",
   "pygments_lexer": "ipython3",
   "version": "3.9.undefined"
  },
  "vscode": {
   "interpreter": {
    "hash": "c558876ffd71b3528bcdaaa45c5eeebe18905a0bd68c09a6b765c00e31df719e"
   }
  }
 },
 "nbformat": 4,
 "nbformat_minor": 5
}
