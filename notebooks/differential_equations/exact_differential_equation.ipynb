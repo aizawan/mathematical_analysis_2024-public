{
 "cells": [
  {
   "cell_type": "markdown",
   "id": "a11a12d9",
   "metadata": {},
   "source": [
    "# 完全微分方程式\n",
    "**全微分** とは多変数関数の各変数の微小変化を表現したものである．2変数関数 $f(x,y)$ の全微分 $df$ は偏微分を用いて\n",
    "\n",
    "$$\n",
    "df = \\frac{\\partial f}{\\partial x} dx + \\frac{\\partial f}{\\partial y} dy\n",
    "$$\n",
    "\n",
    "と書けることを思い出してほしい．ここで，全微分の形式の形の微分方程式，\n",
    "\n",
    "$$\n",
    "p(x,y)dx+q(x,y)dy = 0\n",
    "$$\n",
    "\n",
    "を **全微分方程式** という．ここで，$p(x,y),q(x,y)$は$x,y$の関数である．そして，全微分方程式の中でも$p(x,y),q(x,y)$が，\n",
    "\n",
    "$$\n",
    "\\frac{\\partial f}{\\partial x} = p(x,y), \\frac{\\partial f}{\\partial y} = q(x,y)\n",
    "$$\n",
    "\n",
    "となるとき，つまり，ある関数 $f(x,y)$ の$x,y$のそれぞれの偏導関数となっているとき，以下の微分方程式\n",
    "\n",
    "$$\n",
    "p(x,y)dx + q(x,y)dy = 0\n",
    "$$\n",
    "\n",
    "は **完全微分方程式** と呼ばれる．"
   ]
  },
  {
   "cell_type": "markdown",
   "id": "f128e44c",
   "metadata": {},
   "source": [
    "## 完全微分方程式の解法\n",
    "完全微分方程式の一般解の導出は関数 $f(x,y)$ を求めることである．このとき，上記の関数 $f(x,y)$ の全微分式の定義より，\n",
    "\n",
    "$$\n",
    "df = p(x,y)dx + q(x,y)dy = 0\n",
    "$$\n",
    "\n",
    "であり，未知関数 $f(x,y)$ は微分したら 0 となるので定数であることがわかる．つまり一般解は，\n",
    "\n",
    "$$\n",
    "f(x,y)=C\n",
    "$$\n",
    "\n",
    "となる．ただし，$C$は定数とする．\n",
    "\n",
    "では，微分方程式 $p(x,y)dx + q(x,y)dy = 0$ を与えられ，未知関数 $f(x,y)$ をどのように求めればいいかを以降で説明する．\n",
    "\n",
    "まず与えられた微分方程式が完全形であることを確認する．完全微分方程式であるための必要十分条件は\n",
    "\n",
    "$$\n",
    "\\frac{\\partial p(x,y)}{\\partial y} = \\frac{\\partial q(x,y)}{\\partial x} \n",
    "$$\n",
    "\n",
    "である．続いて，$p(x,y)$を$x$について積分すると\n",
    "\n",
    "$$\n",
    "f(x,y) = \\int p(x,y) dx + \\phi(y) = C\n",
    "$$\n",
    "\n",
    "未知関数 $f(x,y)$ の一般解を求めることができるが，$y$を含むので$y$に関する未知の項 $\\phi(y)$ が生ずる．ただし，この項は上記の$f(x,y)$を$y$について偏微分すると\n",
    "\n",
    "$$\n",
    "\\frac{\\partial f(x,y)}{\\partial y} = \\frac{\\partial}{\\partial y} \\left\\{ \\int p(x,y) dx \\right \\} + \\frac{d}{dy}\\phi(y) = q(x,y)\n",
    "$$\n",
    "\n",
    "となり，$\\phi(y)$ の微分を元の$p(x,y),q(x,y)$の項から関数$f(x,y)$求めることができる．同一の手順で $x$ に関する偏微分を考えても良い．このようにして，偏微分を含む微分方程式であるが解くことができる．"
   ]
  },
  {
   "cell_type": "markdown",
   "id": "e00ef97a",
   "metadata": {},
   "source": [
    "## 完全微分方程式の具体例\n",
    "次の微分方程式を解いてみよう．\n",
    "\n",
    "$$\n",
    "\\left ( 2x + 3y \\right )dx + \\left ( 3x + 8y \\right )dy = 0\n",
    "$$\n",
    "\n",
    "解答はクリックで確認できる．\n",
    "\n",
    "````{toggle}\n",
    "\n",
    "まずは与えられた微分方程式が完全微分方程式であるかを確かめる．$p(x,y)=2x+3y, q(x,y)=3x+8y$ として$y$と$x$に関する偏微分をそれぞれ求めると，\n",
    "\n",
    "$$\n",
    "\\begin{aligned}\n",
    "\\frac{\\partial p(x,y)}{\\partial y} = 3, \\quad \\frac{\\partial q(x,y)}{\\partial x} = 3\n",
    "\\end{aligned}\n",
    "$$\n",
    "\n",
    "となり，$\\frac{\\partial p(x,y)}{\\partial y} =  \\frac{\\partial q(x,y)}{\\partial x}$ であるため完全微分方程式である．\n",
    "\n",
    "$p(x,y)$ を $x$ について積分すると，\n",
    "\n",
    "$$\n",
    "\\begin{aligned}\n",
    "f(x,y) &= \\int p(x,y) dx + \\phi(y) \\\\\n",
    "&= \\int \\left( 2x + 3y \\right) dx + \\phi(y) \\\\\n",
    "&= x^2 + 3xy + \\phi(y)\n",
    "\\end{aligned}\n",
    "$$\n",
    "\n",
    "となる．続いて，上記の $f(x,y)$ を $y$ について偏微分すると，\n",
    "\n",
    "$$\n",
    "\\begin{aligned}\n",
    "\\frac{\\partial f(x,y)}{\\partial y} &= \\frac{\\partial}{\\partial y} \\left( x^2 + 3xy + \\phi(y) \\right ) \\\\\n",
    "&= 3x + \\frac{d}{dy}\\phi(y) = q(x,y)\n",
    "\\end{aligned}\n",
    "$$\n",
    "\n",
    "したがって，$\\frac{d}{dy}\\phi(y)=8y$ とわかる．これを $y$ について積分すると，\n",
    "\n",
    "$$\n",
    "\\begin{aligned}\n",
    "\\int \\frac{d}{dy}\\phi(y) &= \\int 8y dy \\\\\n",
    "\\phi(y) &= 4y^2\n",
    "\\end{aligned}\n",
    "$$\n",
    "\n",
    "したがって，任意定数 $C$ を用いて $f(x,y)=C$ を考慮し，以下の一般解が得られる．\n",
    "\n",
    "$$\n",
    "\\begin{aligned}\n",
    "f(x,y) = x^2 + 3xy + 4y^2 = C\n",
    "\\end{aligned}\n",
    "$$\n",
    "\n",
    "````"
   ]
  },
  {
   "cell_type": "markdown",
   "id": "247d89d2",
   "metadata": {},
   "source": [
    "## Pythonによる実装\n",
    "では，sympyを使って完全微分方程式を解く．ただし，このような微分方程式の形式はこれまでの微分方程式のように解くことができないため，上記の解法のステップを順番に追っていく．\n",
    "まずはライブラリのインポートと変数と$p(x,y),q(x,y)$を定義する．"
   ]
  },
  {
   "cell_type": "code",
   "execution_count": null,
   "id": "2220ecd2",
   "metadata": {},
   "outputs": [],
   "source": [
    "from sympy import symbols, dsolve, integrate, diff\n",
    "\n",
    "# 変数の定義\n",
    "x = symbols('x')\n",
    "y = symbols('y')\n",
    "\n",
    "# p(x,y) , q(x,y)の定義\n",
    "p = 2*x + 3*y\n",
    "q = 3*x + 8*y"
   ]
  },
  {
   "cell_type": "markdown",
   "id": "09b1a69e",
   "metadata": {},
   "source": [
    "完全微分方程式であるための条件を確認する．これまでは `Derivative`関数を使って導関数を定義していたが，今回は`diff`関数で導関数を計算する．`diff`は第一引数に微分する式を，第二引数に微分する変数を与える．"
   ]
  },
  {
   "cell_type": "code",
   "execution_count": null,
   "id": "f28671a2",
   "metadata": {},
   "outputs": [],
   "source": [
    "diff(p, y)"
   ]
  },
  {
   "cell_type": "code",
   "execution_count": null,
   "id": "3003d62c",
   "metadata": {},
   "outputs": [],
   "source": [
    "diff(q, x)"
   ]
  },
  {
   "cell_type": "markdown",
   "id": "538a646a",
   "metadata": {},
   "source": [
    "となり，完全形であることがわかった．続いて，$p(x,y)$ を $x$ で積分してみる．積分は`integrate`関数で実行できた．"
   ]
  },
  {
   "cell_type": "code",
   "execution_count": null,
   "id": "6b5b1f96",
   "metadata": {},
   "outputs": [],
   "source": [
    "F_x = integrate(p, x)\n",
    "F_x"
   ]
  },
  {
   "cell_type": "markdown",
   "id": "9b151a22",
   "metadata": {},
   "source": [
    "$\\phi(y)$ については，\n",
    "\n",
    "$$\n",
    "\\begin{aligned}\n",
    "\\frac{d}{dy}\\phi(y) = q(x,y) - \\frac{\\partial f(x,y)}{\\partial y}\n",
    "\\end{aligned}\n",
    "$$\n",
    "\n",
    "であるので，以下を計算する．\n"
   ]
  },
  {
   "cell_type": "code",
   "execution_count": null,
   "id": "d7555aed",
   "metadata": {},
   "outputs": [],
   "source": [
    "d_phi = q - diff(F_x, y)\n",
    "d_phi"
   ]
  },
  {
   "cell_type": "markdown",
   "id": "d9668400",
   "metadata": {},
   "source": [
    "これを $y$ について積分する．"
   ]
  },
  {
   "cell_type": "code",
   "execution_count": null,
   "id": "988e77cd",
   "metadata": {},
   "outputs": [],
   "source": [
    "phi = integrate(d_phi, y)\n",
    "phi"
   ]
  },
  {
   "cell_type": "markdown",
   "id": "20dbba51",
   "metadata": {},
   "source": [
    "従って，未知関数 $f(x,y)$ は以下となる．"
   ]
  },
  {
   "cell_type": "code",
   "execution_count": null,
   "id": "72ebeac3",
   "metadata": {},
   "outputs": [],
   "source": [
    "F = F_x + phi\n",
    "F"
   ]
  },
  {
   "cell_type": "markdown",
   "id": "0b60a2dc",
   "metadata": {},
   "source": [
    "となり，一般解を導出できた．$C=0$としてプロットしてみると以下のようになる．多変数関数なので `plot3d` を利用する．"
   ]
  },
  {
   "cell_type": "code",
   "execution_count": null,
   "id": "d30ca21e",
   "metadata": {},
   "outputs": [],
   "source": [
    "from sympy.plotting import plot3d\n",
    "plot3d(F, (x, -5, 5), (y, -5, 5))"
   ]
  }
 ],
 "metadata": {
  "kernelspec": {
   "display_name": "Python 3 (ipykernel)",
   "language": "python",
   "name": "python3"
  },
  "language_info": {
   "codemirror_mode": {
    "name": "ipython",
    "version": 3
   },
   "file_extension": ".py",
   "mimetype": "text/x-python",
   "name": "python",
   "nbconvert_exporter": "python",
   "pygments_lexer": "ipython3",
   "version": "3.9.13"
  }
 },
 "nbformat": 4,
 "nbformat_minor": 5
}
