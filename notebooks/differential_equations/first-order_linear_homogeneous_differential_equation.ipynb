{
 "cells": [
  {
   "cell_type": "markdown",
   "id": "be0f83d0",
   "metadata": {},
   "source": [
    "# 一階線形同次微分方程式"
   ]
  },
  {
   "cell_type": "markdown",
   "id": "b53fbe93",
   "metadata": {},
   "source": [
    "## 線形微分方程式\n",
    "線形微分方程式とは線形性を持つ微分方程式である．微分方程式を\n",
    "\n",
    "$$\n",
    "F(x,y,y')=0\n",
    "$$\n",
    "\n",
    "と定義する，ここで$y'=\\frac{dy}{dx}$であり，実定数 $\\alpha,\\beta$に対して，\n",
    "\n",
    "$$\n",
    "\\begin{align}\n",
    "F\\left(x, \\alpha y_1+\\beta y_2, \\alpha y_1'+\\beta y_2'\\right)=\n",
    "\\alpha F \\left(x, y_1, y_1'\\right)+\\beta F\\left(x, y_2, y_2'\\right)\n",
    "\\end{align}\n",
    "$$\n",
    "\n",
    "が成立すれば微分方程式が**線形**であり，その微分方程式を**線形微分方程式**と呼ぶ．"
   ]
  },
  {
   "cell_type": "markdown",
   "id": "3d746eb8",
   "metadata": {},
   "source": [
    "## 一階線形微分方程式\n",
    "ここでは一階線形微分方程式に着目し，その解法を紹介する．まず一階線形微分方程式は以下の形式で表される微分方程式である．\n",
    "\n",
    "$$\n",
    "\\begin{align}\n",
    "\\frac{dy}{dx}+p(x)y=q(x)\n",
    "\\end{align}\n",
    "$$\n",
    "\n",
    "ここで$p(x)$と$q(x)$は$x$の関数である．ここで$p(x)$と$q(x)$はすべての入力に対して0を出力しないという点に留意されたい．もし0を出力する場合，この関数は恒等的に0ではない関数と呼ばれ，この形式の微分方程式は変数分離形に容易に求めることができる．"
   ]
  },
  {
   "cell_type": "markdown",
   "id": "03ce4816",
   "metadata": {},
   "source": [
    "## 一階線形同次微分方程式\n",
    "上記では，$p(x)$と$q(x)$は恒等的に0ではない関数であると説明したが，ここでは，$q(x)=0$のときの微分方程式を考える．このとき微分方程式は以下のように変形できる．\n",
    "\n",
    "$$\n",
    "\\begin{align}\n",
    "\\frac{dy}{dx}+p(x)y=0 \\Rightarrow \\frac{dy}{dx}=-p(x)y\n",
    "\\end{align}\n",
    "$$\n",
    "\n",
    "このときの微分方程式を一階線形同次微分方程式と呼ぶ．"
   ]
  },
  {
   "cell_type": "markdown",
   "id": "e3167178",
   "metadata": {},
   "source": [
    "### 一階線形同次微分方程式の解法\n",
    "上記に示した一階線形微分方程式の一般解は変数分離形で容易に計算できる．まず左辺には$y$に関する項を，右辺には$x$に関する項となるように式変形を行う．\n",
    "\n",
    "$$\n",
    "\\begin{align}\n",
    "\\frac{1}{y} \\frac{dy}{dx} &= -p(x) \\\\\n",
    "\\frac{1}{y} dy &= -p(x) dx\n",
    "\\end{align}\n",
    "$$\n",
    "\n",
    "次に，両辺を積分する．\n",
    "\n",
    "$$\n",
    "\\begin{align}\n",
    "\\int \\frac{1}{y} dy = - \\int p(x) dx\n",
    "\\end{align}\n",
    "$$\n",
    "\n",
    "これを解くと，以下の解が得られる．\n",
    "\n",
    "$$\n",
    "\\begin{align}\n",
    "\\ln |y| = - \\int p(x) dx + C'\n",
    "\\end{align}\n",
    "$$\n",
    "\n",
    "ここで，$C'$は積分定数である．第4回の式展開でも紹介したように，$\\log |y| = x \\rightarrow e^x = |y|$ であり，絶対値を外すと，$y=\\pm e^x$ となる．従って，上記の一般解は $y(x)$の形に書き換えることができる．\n",
    "\n",
    "$$\n",
    "\\begin{align}\n",
    "y(x) &= \\pm e^{-\\int p(x) \\, dx + C'} \\\\\n",
    "&= \\pm e^{C'} e^{-\\int p(x) \\, dx} \\\\\n",
    "&= C e^{-\\int p(x) \\, dx}\n",
    "\\end{align}\n",
    "$$\n",
    "\n",
    "ここで，$C=\\pm e^{C'}$とした．"
   ]
  },
  {
   "cell_type": "markdown",
   "id": "cda3d0e5",
   "metadata": {},
   "source": [
    "### 一階線形同次微分方程式の具体例\n",
    "では，次の一階線形同次微分方程式を解いてみよう．以下の微分方程式は $p(x)=x$ のときの場合である．\n",
    "\n",
    "$$\n",
    "\\begin{align}\n",
    "\\frac{dy}{dx}+xy=0\n",
    "\\end{align}\n",
    "$$\n",
    "\n",
    "解答はクリックで確認できる．\n",
    "\n",
    "````{toggle}\n",
    "\n",
    "まず，左辺に $y$ のみ，右辺に $x$ の項のみとなるよう変数分離形に整理すると，\n",
    "\n",
    "$$\n",
    "\\begin{align}\n",
    "\\frac{dy}{dx} &= -xy \\\\\n",
    "\\frac{1}{y} dy &= -x dx\n",
    "\\end{align}\n",
    "$$\n",
    "\n",
    "となる．続いて，両辺を積分する．\n",
    "\n",
    "$$\n",
    "\\begin{align}\n",
    "\\int \\frac{1}{y} dy = - \\int x dx\n",
    "\\end{align}\n",
    "$$\n",
    "\n",
    "積分定数を $C'$ とすると以下となる．\n",
    "\n",
    "$$\n",
    "\\begin{align}\n",
    "\\ln |y| = - \\frac{x^2}{2} + C'\n",
    "\\end{align}\n",
    "$$\n",
    "\n",
    "$y$ について整理すると，\n",
    "\n",
    "$$\n",
    "\\begin{align}\n",
    "y &= \\pm e^{- \\frac{x^2}{2} + C'} \\\\\n",
    "&= \\pm e^{C'} e^{- \\frac{x^2}{2}} \\\\\n",
    "&= C e^{- \\frac{x^2}{2}}\n",
    "\\end{align}\n",
    "$$\n",
    "\n",
    "となり，一般解が得られた．ここで，$C=\\pm e^{C'}$とした．\n",
    "````"
   ]
  },
  {
   "cell_type": "markdown",
   "id": "9e6d3da8",
   "metadata": {},
   "source": [
    "### Pythonによる実装\n",
    "では，上記の微分方程式をsympyで解く．単一のセルで作成したが，各行での動作は前回の講義のようにStep-by-stepで確認されたい．"
   ]
  },
  {
   "cell_type": "code",
   "execution_count": null,
   "id": "782fd1d6",
   "metadata": {},
   "outputs": [],
   "source": [
    "from sympy import symbols, Eq, Derivative, Function, dsolve\n",
    "\n",
    "# 変数と未知関数の定義\n",
    "x = symbols('x')\n",
    "y = Function('y')(x)\n",
    "\n",
    "# dy/dxの定義\n",
    "dy = Derivative(y, x)\n",
    "\n",
    "# 微分方程式の定義\n",
    "eq = Eq(dy + x*y, 0)\n",
    "\n",
    "# 微分方程式を解く\n",
    "y_ = dsolve(eq, y)\n",
    "y_"
   ]
  },
  {
   "cell_type": "code",
   "execution_count": null,
   "id": "7660a28e",
   "metadata": {},
   "outputs": [],
   "source": [
    "import numpy as np\n",
    "from sympy import plotting\n",
    "import matplotlib.pyplot as plt\n",
    "\n",
    "N = 10\n",
    "\n",
    "eqs = []\n",
    "for c in np.linspace(-3, 3, N):\n",
    "    eqs.append(y_.rhs.subs(symbols('C1'), c))\n",
    "p = plotting.plot(*eqs, (x, -2, 2), show=False)\n",
    "\n",
    "cm = plt.get_cmap('magma', N)\n",
    "for i in range(cm.N):\n",
    "    p[i].line_color = cm(i)\n",
    "p.show()"
   ]
  }
 ],
 "metadata": {
  "kernelspec": {
   "display_name": "Python 3 (ipykernel)",
   "language": "python",
   "name": "python3"
  },
  "language_info": {
   "codemirror_mode": {
    "name": "ipython",
    "version": 3
   },
   "file_extension": ".py",
   "mimetype": "text/x-python",
   "name": "python",
   "nbconvert_exporter": "python",
   "pygments_lexer": "ipython3",
   "version": "3.9.13"
  }
 },
 "nbformat": 4,
 "nbformat_minor": 5
}
