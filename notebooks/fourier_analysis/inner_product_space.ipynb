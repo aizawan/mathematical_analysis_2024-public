{
 "cells": [
  {
   "cell_type": "markdown",
   "id": "2ba87569",
   "metadata": {},
   "source": [
    "# 内積空間\n",
    "ここまで離散データ，ベクトル，関数と直交性（自身以外との内積が$0$）について説明してきたが，そもそもベクトル以外の対象に内積を行うことに対して不自然さを感じた方もいるかと思う．ここでは内積演算が満たすべき条件（**内積の公理**）を紹介し，ベクトルだけでなく離散データや関数が内積の公理を満たした内積演算をしていることを確認する．\n",
    "\n",
    "線形空間の元 $\\mathbf{u}, \\mathbf{v} \\in \\mathcal{L}$ について以下を満たすとき内積 $(\\mathbf{u}, \\mathbf{v})$ が定義される．\n",
    "\n",
    "- 内積の正値性\n",
    "\n",
    "    $$\n",
    "    (\\mathbf{u}, \\mathbf{u}) \\geq 0\n",
    "    $$\n",
    "\n",
    "- 内積の対称性\n",
    "\n",
    "    $$\n",
    "    (\\mathbf{u}, \\mathbf{v}) = (\\mathbf{v}, \\mathbf{u})\n",
    "    $$\n",
    "\n",
    "- 内積の線形性\n",
    "\n",
    "    $$\n",
    "    (c_1 \\mathbf{u}_1 + c_2 \\mathbf{u}_2, \\mathbf{v}) = c_1 (\\mathbf{u}_1, \\mathbf{v}) + c_2 (\\mathbf{u}_2, \\mathbf{v})\n",
    "    $$\n",
    "\n",
    "上記の3つの条件（内積の公理）を満たす演算は **内積** となる．\n",
    "\n",
    "加えて，内積が定義できるとノルムも定まる．\n",
    "\n",
    "$$\n",
    "\\left \\| \\mathbf{u} \\right \\| = \\sqrt{\\left ( \\mathbf{u}, \\mathbf{u} \\right )}\n",
    "$$\n",
    "\n",
    "内積とノルムが定義された線形空間を計量空間 $\\mathcal{L}$ と呼ぶ．計量空間の任意の元 $\\mathbf{u}, \\mathbf{v} \\in \\mathcal{L}$ の内積が $0$ となるとき（$(\\mathbf{u}, \\mathbf{v}) = 0$），これらの元 は **直交する** という "
   ]
  }
 ],
 "metadata": {
  "kernelspec": {
   "display_name": "Python 3 (ipykernel)",
   "language": "python",
   "name": "python3"
  },
  "language_info": {
   "codemirror_mode": {
    "name": "ipython",
    "version": 3
   },
   "file_extension": ".py",
   "mimetype": "text/x-python",
   "name": "python",
   "nbconvert_exporter": "python",
   "pygments_lexer": "ipython3",
   "version": "3.9.13"
  }
 },
 "nbformat": 4,
 "nbformat_minor": 5
}
