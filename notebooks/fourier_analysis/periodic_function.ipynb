{
 "cells": [
  {
   "cell_type": "markdown",
   "id": "71ff2ddc",
   "metadata": {},
   "source": [
    "# 周期関数\n",
    "$\\sin$関数と$\\cos$関数は **正弦波** とも呼ばれ，この正弦波は同じ波が一定間隔で繰り返される **周期関数** である．このとき波が繰り返される一定間隔のことを **周期** と呼ぶ．周期を正の定数 $T$ として，周期関数 $f$ は\n",
    "\n",
    "$$\n",
    "f(x+T) = f(x)\n",
    "$$\n",
    "\n",
    "という性質を持つ．$\\sin$関数と$\\cos$関数もまた周期 $T=2\\pi$ の周期関数であり，三角関数の性質から，\n",
    "\n",
    "$$\n",
    "\\sin(x+2\\pi) = \\sin(x), \\quad \\cos(x+2\\pi) = \\cos(x)\n",
    "$$\n",
    "\n",
    "となるのは自明である．$\\sin$関数と$\\cos$関数の周期 $T=2\\pi$ のようにこの周期関数の性質を満たす最小の正の定数のことを **基本周期** と言う．$2T, 3T, ...$も周期関数の性質を満たすので周期と言えるが，これらの違いについて注意されたい．"
   ]
  },
  {
   "cell_type": "markdown",
   "id": "e1c5f3a4",
   "metadata": {},
   "source": [
    "## Pythonによる実装\n",
    "では，$\\sin$関数と$\\cos$関数の周期関数としての性質をsympyで確認し，プロットしてみよう．"
   ]
  },
  {
   "cell_type": "code",
   "execution_count": null,
   "id": "f7fe0db0",
   "metadata": {},
   "outputs": [],
   "source": [
    "from sympy import symbols, sin, cos, pi\n",
    "from sympy.plotting import plot\n",
    "\n",
    "x = symbols('x')\n",
    "T = symbols('T')\n",
    "\n",
    "f_sin = sin(x + T)\n",
    "f_cos = cos(x + T)\n",
    "plot(f_sin.subs(T, 2*pi), f_cos.subs(T, 2*pi), (x, -3*pi, 3*pi))"
   ]
  }
 ],
 "metadata": {
  "kernelspec": {
   "display_name": "Python 3 (ipykernel)",
   "language": "python",
   "name": "python3"
  },
  "language_info": {
   "codemirror_mode": {
    "name": "ipython",
    "version": 3
   },
   "file_extension": ".py",
   "mimetype": "text/x-python",
   "name": "python",
   "nbconvert_exporter": "python",
   "pygments_lexer": "ipython3",
   "version": "3.9.13"
  }
 },
 "nbformat": 4,
 "nbformat_minor": 5
}
