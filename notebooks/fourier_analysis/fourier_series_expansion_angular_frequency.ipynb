{
 "cells": [
  {
   "cell_type": "markdown",
   "id": "be0f83d0",
   "metadata": {},
   "source": [
    "# 角周波数でのフーリエ級数展開"
   ]
  },
  {
   "cell_type": "markdown",
   "id": "a7e35dca",
   "metadata": {},
   "source": [
    "## 角周波数へのフーリエ級数展開の拡張\n",
    "フーリエ級数展開によって与えられた関数を異なる周期を持つ三角関数の線形結合で表現できた．ここで複素フーリエ級数展開とフーリエ変換のための単位時間における回転角の変化量でフーリエ級数展開を書き換える．この目的としては，角度 $\\theta(=x)$ のフーリエ級数展開から時間 $t$ のフーリエ級数展開へ解釈することにある．\n",
    "\n",
    "復習となるが，フーリエ級数展開のベースとなっている三角関数は一定間隔（周期 $T>0$）で同じ値を繰り返す周期関数であった．\n",
    "\n",
    "$$\n",
    "f(x+T)=f(x)\n",
    "$$\n",
    "\n",
    "そして，$\\cos kx$ の周期を例にすると，その周期は $\\cos x$ のグラフを $x$ 軸方向に $1/k$ 倍したものであった．これは言い換えると周期は $2 \\pi / k$である．これを sympy を使って確認する．"
   ]
  },
  {
   "cell_type": "code",
   "execution_count": null,
   "id": "17e841c4",
   "metadata": {},
   "outputs": [],
   "source": [
    "from sympy import symbols, sin, cos, pi\n",
    "from sympy.plotting import plot\n",
    "\n",
    "x = symbols('x')\n",
    "\n",
    "f_cosx = cos(x)\n",
    "f_cos2x = cos(2*x)\n",
    "f_cos3x = cos(3*x)\n",
    "f_cos4x = cos(4*x)\n",
    "plot(f_cosx, f_cos2x, f_cos3x, f_cos4x, (x, -pi, pi))"
   ]
  },
  {
   "cell_type": "markdown",
   "id": "a438b80e",
   "metadata": {},
   "source": [
    "ここで，波のパターンの時間である周期ではなく，ある単位時間に含まれる波形の数を考える．これは **周波数** と呼ばれ，周波数 $v$ は周期 $T$ と次のような関係性を持つ．\n",
    "\n",
    "$$\n",
    "v = \\frac{1}{T}\n",
    "$$\n",
    "\n",
    "そして，$\\sin$関数と$\\cos$関数の正弦波が角度 $\\theta(=x)$ に関する関数であったが，単位時間の回転角の変化量 $\\omega$ と時刻 $t$ の関数として解釈する．ここで，時刻 $t$ の回転角 $\\theta$ は単位時間の回転角の変化量 $\\omega$ を使って以下のように書ける．\n",
    "\n",
    "$$\n",
    "\\theta = \\omega t\n",
    "$$\n",
    "\n",
    "このとき円の一周分は $2 \\pi$ より周波数を角周波数で書くと\n",
    "\n",
    "$$\n",
    "v = \\frac{\\omega}{2 \\pi}\n",
    "$$\n",
    "\n",
    "となる．$v = 1/T$ であったので角周波数と周期の関係は以下のようになる．\n",
    "\n",
    "$$\n",
    "\\omega = \\frac{2 \\pi}{T}\n",
    "$$\n",
    "\n",
    "以上より，角度 $\\theta(=x)$ から時間 $t$ の関数としてフーリエ級数展開を解釈する準備ができた．"
   ]
  },
  {
   "cell_type": "markdown",
   "id": "e7020516",
   "metadata": {},
   "source": [
    "補足となるが角度 $\\theta(=x)$ から時間 $t$ の関数を図でプロットすると以下のようになる．"
   ]
  },
  {
   "cell_type": "code",
   "execution_count": null,
   "id": "3b63735e",
   "metadata": {},
   "outputs": [],
   "source": [
    "import numpy as np\n",
    "import matplotlib.pyplot as plt\n",
    "fig, ax = plt.subplots(figsize=(5,5))\n",
    "theta = np.linspace(0, 2*np.pi, 360)\n",
    "x = np.cos(theta)\n",
    "y = np.sin(theta)\n",
    "\n",
    "deg = 45\n",
    "px = np.cos(np.deg2rad(deg))\n",
    "py = np.sin(np.deg2rad(deg))\n",
    "\n",
    "pad = 0.05\n",
    "ax.scatter(px, py, c=\"r\")\n",
    "ax.text(px+pad, py+pad, \"P\", color=\"r\", fontsize=16)\n",
    "\n",
    "ax.scatter(px, 0, c=\"b\")\n",
    "ax.text(px+pad, pad, \"cosθ\", color=\"b\", fontsize=16)\n",
    "\n",
    "ax.scatter(0, py, c=\"b\")\n",
    "ax.text(pad, py+pad, \"sinθ\", color=\"b\", fontsize=16)\n",
    "\n",
    "ax.plot([-1,1],[0,0], color=\"k\", linewidth=1)\n",
    "ax.plot([0,0],[-1,1], color=\"k\", linewidth=1)\n",
    "ax.plot([0,px],[0,py], color=\"k\", linewidth=1)\n",
    "ax.plot([0,px],[0,py], color=\"k\", linewidth=1)\n",
    "ax.plot([px,px],[0,py], color=\"k\", linewidth=1, linestyle=\"--\")\n",
    "ax.plot([0,px],[py,py], color=\"k\", linewidth=1, linestyle=\"--\")\n",
    "\n",
    "ax.text(pad+0.1, pad, \"θ=ωt\", color=\"b\", fontsize=16)\n",
    "\n",
    "ax.grid()\n",
    "ax.set_xlim(-1.1, 1.1)\n",
    "ax.set_ylim(-1.1, 1.1)\n",
    "ax.plot(x, y, color='k')"
   ]
  },
  {
   "cell_type": "markdown",
   "id": "765fab4e",
   "metadata": {},
   "source": [
    "では，ここから角度 $\\theta(=x)$ から時間 $t$ の関数としてフーリエ級数展開を置き換える．具体的に，基本周波数 $\\omega_0 = \\frac{2\\pi}{T}$ の関数としての正弦波\n",
    "\n",
    "$$\n",
    "\\begin{align}\n",
    "f(t) = \\cos \\omega_0 t \\\\\n",
    "f(t) = \\sin \\omega_0 t\n",
    "\\end{align}\n",
    "$$\n",
    "\n",
    "でフーリエ級数を表現する．上記で導出した関係式より，\n",
    "\n",
    "$$\n",
    "\\begin{align}\n",
    "\\theta = x = \\omega t = \\frac{2\\pi t}{T}\n",
    "\\end{align}\n",
    "$$\n",
    "\n",
    "であることがわかっている．また直交性を検証した区間は以下のように周期 $T$ を使って書ける．\n",
    "\n",
    "$$\n",
    "-\\pi \\leq x \\leq \\pi \\rightarrow -T/2 \\leq t \\leq T/2\n",
    "$$\n",
    "\n",
    "最後に，フーリエ係数に含まれる積分係数 $dx$ も $dt$ に置き換える必要がある．前述の関係式から積分範囲は以下のように変数変換される．\n",
    "\n",
    "$$\n",
    "\\begin{align}\n",
    "\\frac{dx}{dt} &= \\frac{2\\pi}{T} \\\\\n",
    "dx &= \\frac{2\\pi}{T} dt\n",
    "\\end{align}\n",
    "$$\n",
    "\n",
    "以上の変更点に注意してフーリエ級数展開を書き換えると，区間 $-T/2 \\leq t \\leq T/2$ 上の関数 $f(t)$ のフーリエ級数展開を基本周波数 $\\omega_0$ の整数倍の周波数の正弦波の重ね合わせで表現することになる．そして，フーリエ級数とフーリエ係数は以下となる．\n",
    "\n",
    "$$\n",
    "\\begin{align}\n",
    "f(t) &\\approx \\frac{a_{0}}{2} + \\sum_{k=1}^{\\infty} (a_k \\cos k \\omega_0 t + b_k \\sin k \\omega_0 t), \\quad -\\frac{T}{2} \\leq t \\leq \\frac{T}{2}\n",
    "\\end{align}\n",
    "$$\n",
    "\n",
    "$$\n",
    "a_k = \\frac{2}{T} \\int_{-T/2}^{T/2} f(t) \\cos k \\omega_0 t dt, \\quad b_k = \\frac{2}{T} \\int_{-T/2}^{T/2} f(t) \\sin k \\omega_0 t dt\n",
    "$$\n",
    "\n",
    "$a_0$ に関しては　$k=0$ を $a_k$ に代入すると得られる．\n",
    "\n",
    "$$\n",
    "\\begin{align}\n",
    "a_0 &= \\frac{2}{T} \\int_{-T/2}^{T/2} f(t) \\cos 0 \\omega_0 t dt \\\\\n",
    "&= \\frac{2}{T} \\int_{-T/2}^{T/2} f(t) dt\n",
    "\\end{align}\n",
    "$$\n",
    "\n",
    "以上の置き換えにより，角度 $\\theta(=x)$ から時間 $t$ の関数としてフーリエ級数展開を導出することができた．"
   ]
  },
  {
   "cell_type": "markdown",
   "id": "af3a5b65",
   "metadata": {},
   "source": [
    "### 具体例\n",
    "では，区間 $[-\\pi, \\pi]$ 上の以下の関数 $f(t)$ についてフーリエ級数展開してみよう．\n",
    "\n",
    "$$\n",
    "f(t) = \\begin{cases}\n",
    "1 & -\\pi < t \\leq 0 \\\\\n",
    "0 & 0 < t \\leq \\pi\n",
    "\\end{cases}\n",
    "$$\n",
    "\n",
    "解答はクリックで確認できる．\n",
    "\n",
    "````{toggle}\n",
    "\n",
    "フーリエ係数 $a_0, a_k, b_k$ を順に計算する．まず $\\omega_0 = 2 \\pi / T$ で周期 $T = 2\\pi$ より基本周波数は $\\omega_0 = 1$ であることがわかる．これよりフーリエ係数 $a_0$ を上記で導出したフーリエ係数の式から計算する．\n",
    "\n",
    "$$\n",
    "\\begin{align}\n",
    "a_0 &= \\frac{2}{T} \\int_{-T/2}^{T/2} f(t) dt \\\\\n",
    "&= \\frac{2}{2 \\pi} \\int_{-\\pi}^{\\pi} f(t) dt \\\\\n",
    "&= \\frac{1}{\\pi} \\left\\{ \\int_{-\\pi}^{0} 1 dt + \\int_{0}^{\\pi} 0 dt \\right\\} \\\\\n",
    "&= \\frac{1}{\\pi} \\left [ t \\right ]^{0}_{-\\pi} \\\\\n",
    "&= \\frac{1}{\\pi} \\left \\{ 0 + \\pi \\right \\} = 1\n",
    "\\end{align}\n",
    "$$\n",
    "\n",
    "続いて，フーリエ係数 $a_k$ は以下のように計算できる．\n",
    "\n",
    "$$\n",
    "\\begin{align}\n",
    "a_k &= \\frac{2}{T} \\int_{-T/2}^{T/2} f(t) \\cos k \\omega_0 t dt \\\\\n",
    "&= \\frac{2}{2 \\pi} \\int_{-\\pi}^{\\pi} f(t) \\cos kt dt \\\\\n",
    "&= \\frac{1}{\\pi} \\left\\{ \\int_{-\\pi}^{0} 1 \\cdot \\cos kt dt + \\int_{0}^{\\pi} 0 \\cdot \\cos kt dt \\right\\} \\\\\n",
    "&= \\frac{1}{\\pi} \\left [ \\frac{1}{k} \\sin kt \\right ]^{0}_{\\pi} \\\\\n",
    "&= \\frac{1}{\\pi} \\left \\{ \\frac{1}{k} \\sin 0 - \\frac{1}{k} \\sin \\left ( -k \\pi \\right ) \\right \\} \\\\\n",
    "&= \\frac{1}{k\\pi} \\sin k\\pi = 0\n",
    "\\end{align}\n",
    "$$\n",
    "\n",
    "最後に，フーリエ係数 $b_k$ は以下のように計算できる．\n",
    "\n",
    "$$\n",
    "\\begin{align}\n",
    "b_k &= \\frac{2}{T} \\int_{-T/2}^{T/2} f(t) \\sin k \\omega_0 t dt \\\\\n",
    "&= \\frac{2}{2 \\pi} \\int_{-\\pi}^{\\pi} f(t) \\sin kt dt \\\\\n",
    "&= \\frac{1}{\\pi} \\left\\{ \\int_{-\\pi}^{0} 1 \\cdot \\sin kt dt + \\int_{0}^{\\pi} 0 \\cdot \\sin kt dt \\right\\} \\\\\n",
    "&= \\frac{1}{\\pi} \\left [ - \\frac{1}{k} \\cos kt \\right ]^{0}_{\\pi} \\\\\n",
    "&= \\frac{1}{\\pi} \\left \\{ - \\frac{1}{k} \\cos 0 + \\frac{1}{k} \\cos \\left ( -k \\pi \\right ) \\right \\} \\\\\n",
    "&= - \\frac{1}{k \\pi} \\left (1 - \\cos k \\pi \\right ) \\\\\n",
    "&= - \\frac{1}{k \\pi} \\left \\{1 - \\left ( -1 \\right )^k \\right \\} \\\\\n",
    "\\end{align}\n",
    "$$\n",
    "\n",
    "以上より，フーリエ係数が以下のように計算された．\n",
    "\n",
    "$$\n",
    "\\begin{align}\n",
    "a_0 = 1, \\quad a_k = 0, \\quad b_k = - \\frac{1}{k \\pi} \\left \\{1 - \\left ( -1 \\right )^k \\right \\}\n",
    "\\end{align}\n",
    "$$\n",
    "\n",
    "これをフーリエ級数展開の式に代入する．\n",
    "\n",
    "$$\n",
    "\\begin{align}\n",
    "f(t) &\\approx \\frac{a_{0}}{2} + \\sum_{k=1}^{\\infty} (a_k \\cos k \\omega_0 t + b_k \\sin k \\omega_0 t) = \\frac{a_{0}}{2} + \\sum_{k=1}^{\\infty} (a_k \\cos kt + b_k \\sin kt) \\\\\n",
    "&= \\frac{1}{2} + \\sum_{k=1}^{\\infty} \\left [0 \\cdot \\cos kt - \\frac{1}{k \\pi} \\left \\{1 - \\left ( -1 \\right )^k \\right \\} \\sin kt \\right] \\\\\n",
    "&= \\frac{1}{2}  - \\frac{1}{\\pi} \\sum_{k=1}^{\\infty} \\left [ \\frac{\\left \\{1 - \\left ( -1 \\right )^k \\right \\}}{k} \\sin kt \\right] \\\\\n",
    "&= \\frac{1}{2}  - \\frac{2}{\\pi} \\sum_{n=1}^{\\infty} \\left [ \\frac{1}{2n - 1} \\sin (2n-1)t \\right] \\\\\n",
    "&= \\frac{1}{2}  - \\frac{2}{\\pi} \\left ( \\sin t + \\frac{1}{3} \\sin 3t + \\frac{1}{5} \\sin 5t + \\cdots  \\right )\n",
    "\\end{align}\n",
    "$$\n",
    "\n",
    "以上より，与えられた関数 $f(t)$ のフーリエ級数展開を求めることができた．\n",
    "\n",
    "````"
   ]
  },
  {
   "cell_type": "markdown",
   "id": "e2ac1ae3",
   "metadata": {},
   "source": [
    "### Pythonによるフーリエ級数展開の実装\n",
    "では，本日説明したフーリエ級数展開をPythonで実装する．まずは時刻 $t$ の関数 $f(t)$ を定義する．"
   ]
  },
  {
   "cell_type": "code",
   "execution_count": null,
   "id": "03bd3919",
   "metadata": {},
   "outputs": [],
   "source": [
    "from sympy import symbols, cos, sin, pi\n",
    "t = symbols('t')\n",
    "\n",
    "f = 1 + 0.25 * cos(t) -1.1 * sin(2*t) + cos(3*t) - 0.4 * sin(4*t)\n",
    "f"
   ]
  },
  {
   "cell_type": "code",
   "execution_count": null,
   "id": "2260dd3b",
   "metadata": {},
   "outputs": [],
   "source": [
    "from sympy.plotting import plot\n",
    "plot(f, xlim=(-pi, pi) , ylim=(-5, 5))"
   ]
  },
  {
   "cell_type": "markdown",
   "id": "43488d04",
   "metadata": {},
   "source": [
    "続いて，基本周波数 $\\omega_0 = 2\\pi / T$ を定義する．"
   ]
  },
  {
   "cell_type": "code",
   "execution_count": null,
   "id": "9a1db9fc",
   "metadata": {},
   "outputs": [],
   "source": [
    "T = symbols('T', real=True)\n",
    "omega_0 = 2 * pi / T\n",
    "omega_0"
   ]
  },
  {
   "cell_type": "markdown",
   "id": "31e0a85e",
   "metadata": {},
   "source": [
    "そして，導出したフーリエ係数 $a_k, b_k$ の式に基づいてこれらを実装する．"
   ]
  },
  {
   "cell_type": "code",
   "execution_count": null,
   "id": "ca33d804",
   "metadata": {},
   "outputs": [],
   "source": [
    "from sympy import Integral\n",
    "k = symbols('k')\n",
    "a_k = Integral(f * cos(k * omega_0 * t), (t, -T/2, T/2)) * 2 / T\n",
    "a_k"
   ]
  },
  {
   "cell_type": "code",
   "execution_count": null,
   "id": "cdbc0c99",
   "metadata": {},
   "outputs": [],
   "source": [
    "b_k = Integral(f * sin(k * omega_0 * t), (t, -T/2, T/2)) * 2 / T\n",
    "b_k"
   ]
  },
  {
   "cell_type": "markdown",
   "id": "a778548e",
   "metadata": {},
   "source": [
    "定義できたので，フーリエ係数の計算を実行する．今回は$k=3$まで展開してみよう．具体的には$k$番目の項と周期$T$を変数として定義していたので`subs()`で代入し，上記で定義した$a_k,b_k$の積分を`.doit()`で実行できる．"
   ]
  },
  {
   "cell_type": "code",
   "execution_count": null,
   "id": "2acd3a4d",
   "metadata": {},
   "outputs": [],
   "source": [
    "a_0 = a_k.subs(k, 0).subs(T, 2*pi).doit()\n",
    "a_0"
   ]
  },
  {
   "cell_type": "code",
   "execution_count": null,
   "id": "e98b6240",
   "metadata": {},
   "outputs": [],
   "source": [
    "a_1 = a_k.subs(k, 1).subs(T, 2*pi).doit()\n",
    "a_1"
   ]
  },
  {
   "cell_type": "code",
   "execution_count": null,
   "id": "52a8e873",
   "metadata": {},
   "outputs": [],
   "source": [
    "a_2 = a_k.subs(k, 2).subs(T, 2*pi).doit()\n",
    "a_2"
   ]
  },
  {
   "cell_type": "code",
   "execution_count": null,
   "id": "2c74d885",
   "metadata": {},
   "outputs": [],
   "source": [
    "a_3 = a_k.subs(k, 3).subs(T, 2*pi).doit()\n",
    "a_3"
   ]
  },
  {
   "cell_type": "code",
   "execution_count": null,
   "id": "93b6943b",
   "metadata": {},
   "outputs": [],
   "source": [
    "b_0 = b_k.subs(k, 0).subs(T, 2*pi).doit()\n",
    "b_0"
   ]
  },
  {
   "cell_type": "code",
   "execution_count": null,
   "id": "a5d5993a",
   "metadata": {},
   "outputs": [],
   "source": [
    "b_1 = b_k.subs(k, 1).subs(T, 2*pi).doit()\n",
    "b_1"
   ]
  },
  {
   "cell_type": "code",
   "execution_count": null,
   "id": "af33a33e",
   "metadata": {},
   "outputs": [],
   "source": [
    "b_2 = b_k.subs(k, 2).subs(T, 2*pi).doit()\n",
    "b_2"
   ]
  },
  {
   "cell_type": "code",
   "execution_count": null,
   "id": "ce7766ef",
   "metadata": {},
   "outputs": [],
   "source": [
    "b_3 = b_k.subs(k, 3).subs(T, 2*pi).doit()\n",
    "b_3"
   ]
  },
  {
   "cell_type": "markdown",
   "id": "c935378e",
   "metadata": {},
   "source": [
    "計算された $k=3$ までのフーリエ係数をもとにフーリエ級数展開する．"
   ]
  },
  {
   "cell_type": "code",
   "execution_count": null,
   "id": "fdac3e3a",
   "metadata": {},
   "outputs": [],
   "source": [
    "ff_approx = a_0 / 2 + a_1 * cos(omega_0*t) + b_1 * sin(omega_0*t) \\\n",
    "    + a_2 * cos(2*omega_0*t) + b_2 * sin(2*omega_0*t) \\\n",
    "    + a_3 * cos(3*omega_0*t) + b_3 * sin(3*omega_0*t)"
   ]
  },
  {
   "cell_type": "markdown",
   "id": "d84439f6",
   "metadata": {},
   "source": [
    "`omega_0`は変数`T`を含むので`subs()`で代入する．"
   ]
  },
  {
   "cell_type": "code",
   "execution_count": null,
   "id": "ee890379",
   "metadata": {},
   "outputs": [],
   "source": [
    "ff_approx.subs(T, 2*pi)"
   ]
  },
  {
   "cell_type": "markdown",
   "id": "0b6b2be1",
   "metadata": {},
   "source": [
    "近似対象と比較をするために同時にプロットしてみる．"
   ]
  },
  {
   "cell_type": "code",
   "execution_count": null,
   "id": "1977ebd5",
   "metadata": {},
   "outputs": [],
   "source": [
    "plot(f, ff_approx.subs(T, 2*pi), xlim=(-pi, pi))"
   ]
  },
  {
   "cell_type": "markdown",
   "id": "7fe14189",
   "metadata": {},
   "source": [
    "区間外もプロットしてみる．"
   ]
  },
  {
   "cell_type": "code",
   "execution_count": null,
   "id": "7c7573b5",
   "metadata": {},
   "outputs": [],
   "source": [
    "plot(f, ff_approx.subs(T, 2*pi), xlim=(-2*pi, 2*pi))"
   ]
  }
 ],
 "metadata": {
  "kernelspec": {
   "display_name": "Python 3 (ipykernel)",
   "language": "python",
   "name": "python3"
  },
  "language_info": {
   "codemirror_mode": {
    "name": "ipython",
    "version": 3
   },
   "file_extension": ".py",
   "mimetype": "text/x-python",
   "name": "python",
   "nbconvert_exporter": "python",
   "pygments_lexer": "ipython3",
   "version": "3.9.13"
  }
 },
 "nbformat": 4,
 "nbformat_minor": 5
}
